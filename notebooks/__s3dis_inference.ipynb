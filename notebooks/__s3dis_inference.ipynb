{
 "cells": [
  {
   "cell_type": "code",
   "execution_count": 1,
   "metadata": {},
   "outputs": [],
   "source": [
    "%load_ext autoreload\n",
    "%autoreload 2"
   ]
  },
  {
   "cell_type": "code",
   "execution_count": 1,
   "metadata": {},
   "outputs": [],
   "source": [
    "I_GPU = 0"
   ]
  },
  {
   "cell_type": "code",
   "execution_count": 42,
   "metadata": {},
   "outputs": [],
   "source": [
    "# %load_ext autoreload\n",
    "# %autoreload 2\n",
    "import os\n",
    "import sys\n",
    "import numpy as np\n",
    "import torch\n",
    "import glob\n",
    "from matplotlib.colors import ListedColormap\n",
    "from omegaconf import OmegaConf\n",
    "import matplotlib.pyplot as plt\n",
    "import warnings\n",
    "warnings.filterwarnings('ignore')\n",
    "\n",
    "DIR = os.path.dirname(os.getcwd())\n",
    "ROOT = os.path.join(DIR, \"..\")\n",
    "sys.path.insert(0, ROOT)\n",
    "sys.path.insert(0, DIR)\n",
    "from torch_points3d.datasets.segmentation.s3dis import S3DISFusedDataset\n",
    "# from torch_points3d.datasets.segmentation.multimodal.s3dis import S3DISFusedDataset\n",
    "from torch_points3d.datasets.segmentation.multimodal import IGNORE_LABEL\n",
    "\n",
    "_ = torch.cuda.is_available()\n",
    "_ = torch.cuda.memory_allocated()\n",
    "torch.cuda.set_device(I_GPU)"
   ]
  },
  {
   "cell_type": "markdown",
   "metadata": {},
   "source": [
    "# Load config"
   ]
  },
  {
   "cell_type": "code",
   "execution_count": 43,
   "metadata": {},
   "outputs": [],
   "source": [
    "from omegaconf import OmegaConf\n",
    "from torch_points3d.utils.config import hydra_read\n",
    "\n",
    "# Set root to the DATA drive, where the data was downloaded\n",
    "# DATA_ROOT = '/mnt/fa444ffd-fdb4-4701-88e7-f00297a8e29b/projects/datasets/s3dis'  # ???\n",
    "# DATA_ROOT = '/media/drobert-admin/DATA/datasets/s3dis'  # IGN DATA\n",
    "# DATA_ROOT = '/media/drobert-admin/DATA2/datasets/s3dis'  # IGN DATA2\n",
    "# DATA_ROOT = '/var/data/drobert/datasets/s3dis'  # AI4GEO\n",
    "# DATA_ROOT = '/home/qt/robertda/scratch/datasets/s3dis'  # CNES\n",
    "DATA_ROOT = '/raid/dataset/pointcloud/data/s3dis'  # ENGIE\n",
    "\n",
    "# overrides = [\n",
    "# #     'model_name=XYZ-RGB-pyramid-0_out-128',\n",
    "# #     f\"checkpoint_dir={'/workspace/projects/torch-points3d/outputs/2021-08-26/13-57-08'}\",\n",
    "# #     'model_name=ResUNet34-L4-L0-128',\n",
    "# #     f\"checkpoint_dir={'/workspace/projects/torch-points3d/outputs/2021-09-24/16-46-01'}\",\n",
    "    \n",
    "#     #'model_name=ResUNet34-L4-L0-96_Emod',\n",
    "#     'model_name=Res16UNet34-L4-early',\n",
    "#     #f\"checkpoint_dir={'/workspace/projects/torch-points3d/outputs/2021-09-27/08-55-56'}\",\n",
    "#     f\"checkpoint_dir={'/workspace/projects/torch-points3d/outputs/2021-10-08/21-00-14'}\",\n",
    "\n",
    "    \n",
    "# #    'voting_runs=10',\n",
    "#     'voting_runs=5',\n",
    "# #     'voting_runs=3',\n",
    "# #     'voting_runs=1',\n",
    "#    'tracker_options.full_res=False',\n",
    "# #     'tracker_options.full_res=False',\n",
    "#     'precompute_multi_scale=False',\n",
    "#     'num_workers=4',\n",
    "#     'batch_size=4',\n",
    "#     f'cuda={I_GPU}',\n",
    "#     'weight_name=miou',\n",
    "# ]\n",
    "\n",
    "# XYZRGB*\n",
    "overrides = [\n",
    "    'model_name=Res16UNet34',\n",
    "    f\"checkpoint_dir={'/workspace/projects/torch-points3d/outputs/2021-10-11/22-27-43'}\",\n",
    "    \n",
    "    'voting_runs=1',\n",
    "    'tracker_options.full_res=True',\n",
    "    'precompute_multi_scale=False',\n",
    "    'num_workers=4',\n",
    "    'batch_size=8',\n",
    "    f'cuda={I_GPU}',\n",
    "    'weight_name=last',\n",
    "]\n",
    "\n",
    "# XYZ+RGB\n",
    "# overrides = [\n",
    "#     'model_name=Res16UNet34-L4-early',\n",
    "# #     f\"checkpoint_dir={'/workspace/projects/torch-points3d/outputs/2021-10-09/21-34-55'}\",  # Fold 2\n",
    "# #     f\"checkpoint_dir={'/workspace/projects/torch-points3d/outputs/2021-10-09/21-35-06'}\",  # Fold 3\n",
    "# #     f\"checkpoint_dir={'/workspace/projects/torch-points3d/outputs/2021-10-20/18-26-24'}\",  # Fold 5\n",
    "#     f\"checkpoint_dir={'/workspace/projects/torch-points3d/outputs/2021-10-17/18-13-17'}\",\n",
    "    \n",
    "#     'voting_runs=1',\n",
    "#     'tracker_options.full_res=True',\n",
    "#     'precompute_multi_scale=False',\n",
    "#     'num_workers=4',\n",
    "#     'batch_size=4',\n",
    "#     f'cuda={I_GPU}',\n",
    "#     'weight_name=last',\n",
    "# ]\n",
    "\n",
    "\n",
    "cfg = hydra_read(overrides, config_name='eval')\n",
    "\n",
    "OmegaConf.set_struct(cfg, False)\n",
    "\n",
    "# print(OmegaConf.to_yaml(cfg))# Load S3DIS dataset"
   ]
  },
  {
   "cell_type": "code",
   "execution_count": 44,
   "metadata": {},
   "outputs": [
    {
     "data": {
      "application/vnd.jupyter.widget-view+json": {
       "model_id": "21475af5403d400ebf773c82296f619f",
       "version_major": 2,
       "version_minor": 0
      },
      "text/plain": [
       "  0%|          | 0/5 [00:00<?, ?it/s]"
      ]
     },
     "metadata": {},
     "output_type": "display_data"
    },
    {
     "data": {
      "application/vnd.jupyter.widget-view+json": {
       "model_id": "e0d72f84ee44425e93a205b9982e158b",
       "version_major": 2,
       "version_minor": 0
      },
      "text/plain": [
       "  0%|          | 0/1 [00:00<?, ?it/s]"
      ]
     },
     "metadata": {},
     "output_type": "display_data"
    }
   ],
   "source": [
    "from torch_points3d.trainer import Trainer\n",
    "\n",
    "trainer = Trainer(cfg)"
   ]
  },
  {
   "cell_type": "code",
   "execution_count": null,
   "metadata": {},
   "outputs": [],
   "source": []
  },
  {
   "cell_type": "code",
   "execution_count": null,
   "metadata": {},
   "outputs": [],
   "source": [
    "# trainer.eval(stage_name=\"test\")"
   ]
  },
  {
   "cell_type": "code",
   "execution_count": 64,
   "metadata": {},
   "outputs": [],
   "source": [
    "# n = 5\n",
    "# indices = [\n",
    "#     np.random.choice(torch.where(trainer._dataset.test_dataset[0]._datas[0].y == i)[0].numpy(), n)\n",
    "#     for i, c in enumerate(CLASSES[:-1])]\n",
    "# originids = torch.cat([trainer._dataset.test_dataset[0]._datas[0].origin_id[v].view(1, -1) for v in indices], dim=0)\n",
    "# originids"
   ]
  },
  {
   "cell_type": "code",
   "execution_count": 7,
   "metadata": {},
   "outputs": [],
   "source": [
    "# trainer._dataset.test_dataset[0]._test_spheres  = [trainer._dataset.test_dataset[0]._test_spheres[i] for i in range(0, 1000, 10)]"
   ]
  },
  {
   "cell_type": "code",
   "execution_count": 46,
   "metadata": {},
   "outputs": [],
   "source": [
    "# Update the val and test transforms to match train transforms for inference-time augmentation\n",
    "trainer._dataset.test_dataset[0].transform = trainer._dataset.train_dataset.transform\n",
    "trainer._dataset.test_dataset[0].transform_image = trainer._dataset.train_dataset.transform_image\n",
    "# trainer._dataset.val_dataset.transform = trainer._dataset.train_dataset.transform\n",
    "# trainer._dataset.val_dataset.transform_image = trainer._dataset.train_dataset.transform_image"
   ]
  },
  {
   "cell_type": "code",
   "execution_count": 32,
   "metadata": {},
   "outputs": [],
   "source": [
    "# trainer._dataset.test_dataset[0].transform_image.transforms[4].credit = 2097152 * 2"
   ]
  },
  {
   "cell_type": "code",
   "execution_count": 33,
   "metadata": {},
   "outputs": [],
   "source": [
    "trainer._dataset.test_dataset[0].transform_image.transforms[4].use_coverage = False\n",
    "trainer._dataset.test_dataset[0].transform_image.transforms[4].credit = int(2097152 * 2)\n",
    "trainer._dataset.test_dataset[0].transform_image.transforms[5].sigma = 0.02\n",
    "trainer._dataset.test_dataset[0].transform_image.transforms[6].transform.saturation = [0.8, 1.2]\n",
    "trainer._dataset.test_dataset[0].transform_image.transforms[6].transform.brightness = [0.8, 1.2]\n",
    "trainer._dataset.test_dataset[0].transform_image.transforms[6].transform.contrast = [0.8, 1.2]"
   ]
  },
  {
   "cell_type": "code",
   "execution_count": 22,
   "metadata": {},
   "outputs": [],
   "source": [
    "# trainer._dataset.test_dataset[0].transform_image.transforms[4].use_coverage = False\n",
    "# trainer._dataset.test_dataset[0].transform_image.transforms[4].credit = int(2097152 / 2)\n",
    "# trainer._dataset.test_dataset[0].transform_image.transforms[5].sigma = 0.02\n",
    "# trainer._dataset.test_dataset[0].transform_image.transforms[6].transform.saturation = [0.8, 1.2]\n",
    "# trainer._dataset.test_dataset[0].transform_image.transforms[6].transform.brightness = [0.8, 1.2]\n",
    "# trainer._dataset.test_dataset[0].transform_image.transforms[6].transform.contrast = [0.8, 1.2]"
   ]
  },
  {
   "cell_type": "code",
   "execution_count": 20,
   "metadata": {},
   "outputs": [],
   "source": [
    "# trainer._dataset.test_dataset[0].transform_image.transforms[4].use_coverage = False\n",
    "# trainer._dataset.test_dataset[0].transform_image.transforms[4].credit = int(2097152 * 2)\n",
    "# trainer._dataset.test_dataset[0].transform_image.transforms[5].sigma = 0.02\n",
    "# trainer._dataset.test_dataset[0].transform_image.transforms[6].transform.saturation = [0.9, 1.1]\n",
    "# trainer._dataset.test_dataset[0].transform_image.transforms[6].transform.brightness = [0.9, 1.1]\n",
    "# trainer._dataset.test_dataset[0].transform_image.transforms[6].transform.contrast = [0.9, 1.1]"
   ]
  },
  {
   "cell_type": "code",
   "execution_count": 6,
   "metadata": {},
   "outputs": [],
   "source": [
    "# trainer._dataset.test_dataset[0].transform_image.transforms[4].use_coverage = False\n",
    "# trainer._dataset.test_dataset[0].transform_image.transforms[4].credit = int(2097152 / 2)\n",
    "# trainer._dataset.test_dataset[0].transform_image.transforms[5].sigma = 0.01\n",
    "# trainer._dataset.test_dataset[0].transform_image.transforms[6].transform.saturation = [0.95, 1.05]\n",
    "# trainer._dataset.test_dataset[0].transform_image.transforms[6].transform.brightness = [0.95, 1.05]\n",
    "# trainer._dataset.test_dataset[0].transform_image.transforms[6].transform.contrast = [0.95, 1.05]"
   ]
  },
  {
   "cell_type": "code",
   "execution_count": 42,
   "metadata": {},
   "outputs": [],
   "source": [
    "# trainer._dataset.test_dataset[0].transform_image.transforms[4].use_coverage = False\n",
    "# trainer._dataset.test_dataset[0].transform_image.transforms[4].credit = int(2097152 / 4)\n",
    "# trainer._dataset.test_dataset[0].transform_image.transforms[5].sigma = 0.001\n",
    "# trainer._dataset.test_dataset[0].transform_image.transforms[6].transform.saturation = [0.99, 1.01]\n",
    "# trainer._dataset.test_dataset[0].transform_image.transforms[6].transform.brightness = [0.99, 1.01]\n",
    "# trainer._dataset.test_dataset[0].transform_image.transforms[6].transform.contrast = [0.99, 1.01]"
   ]
  },
  {
   "cell_type": "code",
   "execution_count": 46,
   "metadata": {},
   "outputs": [],
   "source": [
    "# trainer._dataset.test_dataset[0].transform_image.transforms[4].use_coverage = False\n",
    "# trainer._dataset.test_dataset[0].transform_image.transforms[4].credit = int(2097152 / 2)\n",
    "# trainer._dataset.test_dataset[0].transform_image.transforms[5].sigma = 0.2\n",
    "# trainer._dataset.test_dataset[0].transform_image.transforms[6].transform.saturation = [0.1, 1.9]\n",
    "# trainer._dataset.test_dataset[0].transform_image.transforms[6].transform.brightness = [0.1, 1.9]\n",
    "# trainer._dataset.test_dataset[0].transform_image.transforms[6].transform.contrast = [0.1, 1.9]"
   ]
  },
  {
   "cell_type": "code",
   "execution_count": 79,
   "metadata": {},
   "outputs": [],
   "source": [
    "# Normalize(mean=[0.485, 0.456, 0.406], std=[0.229, 0.224, 0.225])\n",
    "# trainer._dataset.test_dataset[0].transform_image.transforms[-1].mean = [0, 0, 0]\n",
    "# trainer._dataset.test_dataset[0].transform_image.transforms[-1].std = [1, 1, 1]"
   ]
  },
  {
   "cell_type": "code",
   "execution_count": 14,
   "metadata": {},
   "outputs": [],
   "source": [
    "# trainer._cfg.tracker_options.full_res = False"
   ]
  },
  {
   "cell_type": "code",
   "execution_count": 47,
   "metadata": {},
   "outputs": [],
   "source": [
    "trainer._cfg.voting_runs = 1"
   ]
  },
  {
   "cell_type": "code",
   "execution_count": 35,
   "metadata": {},
   "outputs": [],
   "source": [
    "# trainer._cfg.voting_runs = 5"
   ]
  },
  {
   "cell_type": "code",
   "execution_count": 48,
   "metadata": {},
   "outputs": [
    {
     "data": {
      "application/vnd.jupyter.widget-view+json": {
       "model_id": "85f2b3d024f046bb82d0d18609e3f94f",
       "version_major": 2,
       "version_minor": 0
      },
      "text/plain": [
       "  0%|          | 0/105 [00:06<?, ?it/s]"
      ]
     },
     "metadata": {},
     "output_type": "display_data"
    }
   ],
   "source": [
    "# trainer.eval()\n",
    "trainer.eval(stage_name=\"test\")"
   ]
  },
  {
   "cell_type": "code",
   "execution_count": null,
   "metadata": {},
   "outputs": [],
   "source": [
    "# trainer._tracker._compute_full_miou()"
   ]
  },
  {
   "cell_type": "code",
   "execution_count": null,
   "metadata": {},
   "outputs": [],
   "source": []
  },
  {
   "cell_type": "code",
   "execution_count": null,
   "metadata": {},
   "outputs": [],
   "source": []
  },
  {
   "cell_type": "code",
   "execution_count": null,
   "metadata": {},
   "outputs": [],
   "source": []
  },
  {
   "cell_type": "markdown",
   "metadata": {},
   "source": [
    "# XYZRGB* 2cm Fold2"
   ]
  },
  {
   "cell_type": "code",
   "execution_count": 49,
   "metadata": {},
   "outputs": [
    {
     "data": {
      "text/plain": [
       "{'test_loss_seg': 1.4974905428432277,\n",
       " 'test_loss_cross_entropy': 1.4974905428432277,\n",
       " 'test_acc': 73.20641906675,\n",
       " 'test_macc': 60.77379592755784,\n",
       " 'test_miou': 42.99125403762488,\n",
       " 'test_miou_per_class': {0: '86.05',\n",
       "  1: '44.70',\n",
       "  2: '79.90',\n",
       "  3: '21.93',\n",
       "  4: '42.79',\n",
       "  5: '39.67',\n",
       "  6: '57.50',\n",
       "  7: '29.46',\n",
       "  8: '16.18',\n",
       "  9: '46.10',\n",
       "  10: '40.30',\n",
       "  11: '16.31',\n",
       "  12: '37.99'},\n",
       " 'test_iou': {'ceiling': 0.8604966295843016,\n",
       "  'floor': 0.446961359640673,\n",
       "  'wall': 0.7990165029438703,\n",
       "  'beam': 0.21932225673535483,\n",
       "  'column': 0.42794358959917195,\n",
       "  'window': 0.3967292758818588,\n",
       "  'door': 0.5749776286212999,\n",
       "  'chair': 0.29462998110820077,\n",
       "  'table': 0.16179780839342003,\n",
       "  'bookcase': 0.4609570001677765,\n",
       "  'sofa': 0.40304567788851914,\n",
       "  'board': 0.16307980661719323,\n",
       "  'clutter': 0.37990550770959464},\n",
       " 'test_full_vote_miou': 47.58133821240307,\n",
       " 'test_full_vote_iou': {'ceiling': 87.09063195445772,\n",
       "  'floor': 49.09351821003553,\n",
       "  'wall': 80.45870711525764,\n",
       "  'beam': 22.93279552099221,\n",
       "  'column': 61.49466309767789,\n",
       "  'window': 59.612380635611515,\n",
       "  'door': 61.74155519311798,\n",
       "  'chair': 27.423911113712318,\n",
       "  'table': 15.689419735780715,\n",
       "  'bookcase': 47.47483999427341,\n",
       "  'sofa': 56.27473636910724,\n",
       "  'board': 15.354855739382451,\n",
       "  'clutter': 33.91538208183333},\n",
       " 'test_vote_miou': 47.281671015365525,\n",
       " 'test_vote_iou': {'ceiling': 85.80445458271609,\n",
       "  'floor': 48.73048466891669,\n",
       "  'wall': 80.2550958777999,\n",
       "  'beam': 23.14668869715518,\n",
       "  'column': 61.29781674311142,\n",
       "  'window': 56.415650978931176,\n",
       "  'door': 62.389084902976464,\n",
       "  'chair': 27.884175028485902,\n",
       "  'table': 16.92516865635517,\n",
       "  'bookcase': 48.24416724806422,\n",
       "  'sofa': 54.354610929047176,\n",
       "  'board': 14.94105921072377,\n",
       "  'clutter': 34.27326567546865}}"
      ]
     },
     "execution_count": 49,
     "metadata": {},
     "output_type": "execute_result"
    }
   ],
   "source": [
    "# vote=1 - r/2 - x2 credit - aug\n",
    "trainer._tracker.get_metrics(True)"
   ]
  },
  {
   "cell_type": "code",
   "execution_count": 50,
   "metadata": {},
   "outputs": [],
   "source": [
    "# torch.save(trainer._tracker._full_confusion, '/raid/dataset/pointcloud/data/s3dis/results/sparseconv3d_fold2_2cm.pt')"
   ]
  },
  {
   "cell_type": "markdown",
   "metadata": {},
   "source": [
    "# Res16UNet34-L4-max-early 5cm Fold5"
   ]
  },
  {
   "cell_type": "code",
   "execution_count": 37,
   "metadata": {},
   "outputs": [
    {
     "data": {
      "text/plain": [
       "{'test_loss_seg': 0.5296356549113994,\n",
       " 'test_loss_cross_entropy': 0.5296356549113994,\n",
       " 'test_acc': 88.76396806849746,\n",
       " 'test_macc': 73.03362593076177,\n",
       " 'test_miou': 65.81321433113524,\n",
       " 'test_miou_per_class': {0: '89.89',\n",
       "  1: '97.64',\n",
       "  2: '84.00',\n",
       "  3: '1.65',\n",
       "  4: '21.77',\n",
       "  5: '70.18',\n",
       "  6: '68.44',\n",
       "  7: '85.57',\n",
       "  8: '77.64',\n",
       "  9: '76.90',\n",
       "  10: '44.98',\n",
       "  11: '80.70',\n",
       "  12: '56.21'},\n",
       " 'test_iou': {'ceiling': 0.8989129174697266,\n",
       "  'floor': 0.9764229314153903,\n",
       "  'wall': 0.8400122081295054,\n",
       "  'beam': 0.01654342807761926,\n",
       "  'column': 0.21768434986384683,\n",
       "  'window': 0.7017856545657677,\n",
       "  'door': 0.6844256136163502,\n",
       "  'chair': 0.8557323008298734,\n",
       "  'table': 0.7763986270177725,\n",
       "  'bookcase': 0.7689776124009458,\n",
       "  'sofa': 0.4497578733747513,\n",
       "  'board': 0.8069680731362285,\n",
       "  'clutter': 0.5620962731498035},\n",
       " 'test_full_vote_miou': 65.94583820145267,\n",
       " 'test_full_vote_iou': {'ceiling': 86.69599083977323,\n",
       "  'floor': 96.90220015496206,\n",
       "  'wall': 83.87838824892917,\n",
       "  'beam': 1.7698867645628897,\n",
       "  'column': 21.44566013342724,\n",
       "  'window': 69.00131373423257,\n",
       "  'door': 68.95906566575299,\n",
       "  'chair': 86.04969804983749,\n",
       "  'table': 77.58211776588523,\n",
       "  'bookcase': 76.05659076695422,\n",
       "  'sofa': 49.29645709175591,\n",
       "  'board': 82.09223705782482,\n",
       "  'clutter': 57.56629034498698},\n",
       " 'test_vote_miou': 65.16117841798571,\n",
       " 'test_vote_iou': {'ceiling': 85.53221352964763,\n",
       "  'floor': 96.13756116846992,\n",
       "  'wall': 82.98871512196956,\n",
       "  'beam': 1.8060331473689617,\n",
       "  'column': 20.657114909390558,\n",
       "  'window': 64.6669741132062,\n",
       "  'door': 69.06681609007154,\n",
       "  'chair': 86.43598327804538,\n",
       "  'table': 76.05950269273796,\n",
       "  'bookcase': 76.26912305527685,\n",
       "  'sofa': 48.70106540551262,\n",
       "  'board': 80.54543739900181,\n",
       "  'clutter': 58.2287795231151}}"
      ]
     },
     "execution_count": 37,
     "metadata": {},
     "output_type": "execute_result"
    }
   ],
   "source": [
    "# vote=1 - r/2 - x2 credit - aug\n",
    "trainer._tracker.get_metrics(True)"
   ]
  },
  {
   "cell_type": "code",
   "execution_count": 39,
   "metadata": {},
   "outputs": [],
   "source": [
    "# torch.save(trainer._tracker._full_confusion, '/raid/dataset/pointcloud/data/s3dis/results/Res16UNet34-L4-max-early_fold5_5cm.pt')"
   ]
  },
  {
   "cell_type": "markdown",
   "metadata": {},
   "source": [
    "# Res16UNet34-mean-RGB-early 5cm Fold5"
   ]
  },
  {
   "cell_type": "code",
   "execution_count": 25,
   "metadata": {},
   "outputs": [
    {
     "data": {
      "text/plain": [
       "{'test_loss_seg': 0.619402181063319,\n",
       " 'test_loss_cross_entropy': 0.619402181063319,\n",
       " 'test_acc': 84.87074826945471,\n",
       " 'test_macc': 65.77387227845016,\n",
       " 'test_miou': 57.92401359374689,\n",
       " 'test_miou_per_class': {0: '90.36',\n",
       "  1: '97.42',\n",
       "  2: '76.77',\n",
       "  3: '0.08',\n",
       "  4: '19.32',\n",
       "  5: '39.07',\n",
       "  6: '38.37',\n",
       "  7: '85.78',\n",
       "  8: '75.49',\n",
       "  9: '71.58',\n",
       "  10: '58.10',\n",
       "  11: '48.88',\n",
       "  12: '51.79'},\n",
       " 'test_iou': {'ceiling': 0.9036013830205673,\n",
       "  'floor': 0.9741603126893063,\n",
       "  'wall': 0.7676900948091477,\n",
       "  'beam': 0.0008478400204202524,\n",
       "  'column': 0.19318918566732252,\n",
       "  'window': 0.39072123671683323,\n",
       "  'door': 0.38373353850371705,\n",
       "  'chair': 0.8578334020089592,\n",
       "  'table': 0.7548623171764107,\n",
       "  'bookcase': 0.7158264565038678,\n",
       "  'sofa': 0.5809535794058871,\n",
       "  'board': 0.48880119073432315,\n",
       "  'clutter': 0.5179012299303348},\n",
       " 'test_full_vote_miou': 60.52797579269067,\n",
       " 'test_full_vote_iou': {'ceiling': 87.20800830754727,\n",
       "  'floor': 96.74148872290198,\n",
       "  'wall': 77.28105157924043,\n",
       "  'beam': 1e-06,\n",
       "  'column': 22.136549708518345,\n",
       "  'window': 41.71289794648746,\n",
       "  'door': 38.2207085964415,\n",
       "  'chair': 87.93741289846284,\n",
       "  'table': 79.28240225619014,\n",
       "  'bookcase': 74.56987227297273,\n",
       "  'sofa': 63.89466267409462,\n",
       "  'board': 59.99732715214138,\n",
       "  'clutter': 57.88130218997994},\n",
       " 'test_vote_miou': 60.03893463778386,\n",
       " 'test_vote_iou': {'ceiling': 86.0557464036471,\n",
       "  'floor': 96.054101375476,\n",
       "  'wall': 76.56081203213276,\n",
       "  'beam': 1e-06,\n",
       "  'column': 21.669870605955612,\n",
       "  'window': 37.43513696764598,\n",
       "  'door': 39.36306887592336,\n",
       "  'chair': 88.27509205157806,\n",
       "  'table': 78.14728150518957,\n",
       "  'bookcase': 75.3215049953296,\n",
       "  'sofa': 63.218605651103985,\n",
       "  'board': 58.83763250543274,\n",
       "  'clutter': 59.56729632177533}}"
      ]
     },
     "execution_count": 25,
     "metadata": {},
     "output_type": "execute_result"
    }
   ],
   "source": [
    "# vote=1 - r/2 - x2 credit - aug\n",
    "trainer._tracker.get_metrics(True)"
   ]
  },
  {
   "cell_type": "code",
   "execution_count": 26,
   "metadata": {},
   "outputs": [],
   "source": [
    "# torch.save(trainer._tracker._full_confusion, '/raid/dataset/pointcloud/data/s3dis/results/Res16UNet34-mean-RGB-early_fold5_5cm.pt')"
   ]
  },
  {
   "cell_type": "markdown",
   "metadata": {},
   "source": [
    "# 2cm Fold 1"
   ]
  },
  {
   "cell_type": "code",
   "execution_count": 9,
   "metadata": {},
   "outputs": [
    {
     "data": {
      "text/plain": [
       "{'test_loss_seg': 0.5496826406774212,\n",
       " 'test_loss_cross_entropy': 0.5496826406774212,\n",
       " 'test_acc': 91.0511636892235,\n",
       " 'test_macc': 89.09887117165812,\n",
       " 'test_miou': 79.91465116296852,\n",
       " 'test_miou_per_class': {0: '94.96',\n",
       "  1: '96.31',\n",
       "  2: '85.96',\n",
       "  3: '75.81',\n",
       "  4: '68.69',\n",
       "  5: '82.88',\n",
       "  6: '88.55',\n",
       "  7: '85.20',\n",
       "  8: '72.06',\n",
       "  9: '62.37',\n",
       "  10: '74.41',\n",
       "  11: '79.51',\n",
       "  12: '72.19'},\n",
       " 'test_iou': {'ceiling': 0.9496460226647868,\n",
       "  'floor': 0.9630784090629917,\n",
       "  'wall': 0.8596480687972254,\n",
       "  'beam': 0.7581099576764071,\n",
       "  'column': 0.6868560083969494,\n",
       "  'window': 0.828805076459369,\n",
       "  'door': 0.8855129665748627,\n",
       "  'chair': 0.8520359949198573,\n",
       "  'table': 0.7205517281800041,\n",
       "  'bookcase': 0.6236578785196787,\n",
       "  'sofa': 0.7440637619130935,\n",
       "  'board': 0.795054117575059,\n",
       "  'clutter': 0.7218846604456224},\n",
       " 'test_full_vote_miou': 80.29586908632251,\n",
       " 'test_full_vote_iou': {'ceiling': 94.23636593196576,\n",
       "  'floor': 96.12936532341794,\n",
       "  'wall': 85.91647917204061,\n",
       "  'beam': 76.14086848123122,\n",
       "  'column': 68.74055410362466,\n",
       "  'window': 83.04480913771839,\n",
       "  'door': 87.7235778585584,\n",
       "  'chair': 85.61585789751183,\n",
       "  'table': 71.89580140012893,\n",
       "  'bookcase': 62.9825761328454,\n",
       "  'sofa': 78.15193959476096,\n",
       "  'board': 79.43941643894459,\n",
       "  'clutter': 73.82868664944378},\n",
       " 'test_vote_miou': 80.20990085452274,\n",
       " 'test_vote_iou': {'ceiling': 94.68947504647556,\n",
       "  'floor': 95.9846247109909,\n",
       "  'wall': 85.71870781943568,\n",
       "  'beam': 75.77081978312184,\n",
       "  'column': 68.11326890590138,\n",
       "  'window': 82.90289368293632,\n",
       "  'door': 87.95173677774467,\n",
       "  'chair': 85.72643147988927,\n",
       "  'table': 71.78423798317465,\n",
       "  'bookcase': 63.16151302749026,\n",
       "  'sofa': 77.59979525756792,\n",
       "  'board': 79.15880304929097,\n",
       "  'clutter': 74.16640358477615}}"
      ]
     },
     "execution_count": 9,
     "metadata": {},
     "output_type": "execute_result"
    }
   ],
   "source": [
    "# vote=1 - r/2 - x2 credit - aug\n",
    "trainer._tracker.get_metrics(True)"
   ]
  },
  {
   "cell_type": "code",
   "execution_count": 11,
   "metadata": {},
   "outputs": [],
   "source": [
    "torch.save(trainer._tracker._full_confusion, '/raid/dataset/pointcloud/data/s3dis/results/xyz+rgb_fold1_2cm.pt')"
   ]
  },
  {
   "cell_type": "markdown",
   "metadata": {},
   "source": [
    "# Fold 5"
   ]
  },
  {
   "cell_type": "code",
   "execution_count": 10,
   "metadata": {},
   "outputs": [
    {
     "data": {
      "text/plain": [
       "{'test_loss_seg': 0.5561665276175646,\n",
       " 'test_loss_cross_entropy': 0.5561665276175646,\n",
       " 'test_acc': 89.076063455651,\n",
       " 'test_macc': 73.15035293225608,\n",
       " 'test_miou': 66.84508879336215,\n",
       " 'test_miou_per_class': {0: '90.32',\n",
       "  1: '97.77',\n",
       "  2: '84.26',\n",
       "  3: '0.26',\n",
       "  4: '21.82',\n",
       "  5: '67.33',\n",
       "  6: '70.28',\n",
       "  7: '85.89',\n",
       "  8: '80.03',\n",
       "  9: '76.84',\n",
       "  10: '52.94',\n",
       "  11: '82.83',\n",
       "  12: '58.42'},\n",
       " 'test_iou': {'ceiling': 0.9031783333013115,\n",
       "  'floor': 0.9777280913923208,\n",
       "  'wall': 0.8425893045174863,\n",
       "  'beam': 0.0025623068240094265,\n",
       "  'column': 0.21816525458024716,\n",
       "  'window': 0.6733025323150481,\n",
       "  'door': 0.7027529165238106,\n",
       "  'chair': 0.8589462281921832,\n",
       "  'table': 0.8002746895897181,\n",
       "  'bookcase': 0.7684146003063445,\n",
       "  'sofa': 0.5293793132969986,\n",
       "  'board': 0.8283203828326371,\n",
       "  'clutter': 0.5842475894649656},\n",
       " 'test_full_vote_miou': 66.55803240958792,\n",
       " 'test_full_vote_iou': {'ceiling': 86.79427603474079,\n",
       "  'floor': 96.88171293863745,\n",
       "  'wall': 83.79624428934102,\n",
       "  'beam': 0.0229281749551866,\n",
       "  'column': 21.605219656787316,\n",
       "  'window': 65.77178919960247,\n",
       "  'door': 68.79888414722053,\n",
       "  'chair': 85.82485306807416,\n",
       "  'table': 79.90630554275819,\n",
       "  'bookcase': 75.6466537004522,\n",
       "  'sofa': 57.28890707024321,\n",
       "  'board': 83.77717584416918,\n",
       "  'clutter': 59.13947165766098},\n",
       " 'test_vote_miou': 65.8137665720839,\n",
       " 'test_vote_iou': {'ceiling': 85.74174429007927,\n",
       "  'floor': 96.09419952012296,\n",
       "  'wall': 82.92402772720081,\n",
       "  'beam': 0.026491066225130477,\n",
       "  'column': 21.322542098618776,\n",
       "  'window': 61.37425882742888,\n",
       "  'door': 69.38625872014987,\n",
       "  'chair': 86.08275639623449,\n",
       "  'table': 78.32204441072619,\n",
       "  'bookcase': 76.0997795562789,\n",
       "  'sofa': 55.91448583701647,\n",
       "  'board': 82.36553282914929,\n",
       "  'clutter': 59.92484415785986}}"
      ]
     },
     "execution_count": 10,
     "metadata": {},
     "output_type": "execute_result"
    }
   ],
   "source": [
    "# vote=1 - r/2 - x2 credit - aug\n",
    "trainer._tracker.get_metrics(True)"
   ]
  },
  {
   "cell_type": "code",
   "execution_count": null,
   "metadata": {},
   "outputs": [],
   "source": []
  },
  {
   "cell_type": "code",
   "execution_count": 11,
   "metadata": {},
   "outputs": [
    {
     "data": {
      "text/plain": [
       "{'test_loss_seg': 0.5560733042783305,\n",
       " 'test_loss_cross_entropy': 0.5560733042783305,\n",
       " 'test_acc': 89.08134094975283,\n",
       " 'test_macc': 73.1081531046332,\n",
       " 'test_miou': 66.7727986052828,\n",
       " 'test_miou_per_class': {0: '90.35',\n",
       "  1: '97.80',\n",
       "  2: '84.22',\n",
       "  3: '0.26',\n",
       "  4: '21.78',\n",
       "  5: '67.25',\n",
       "  6: '70.36',\n",
       "  7: '85.80',\n",
       "  8: '79.99',\n",
       "  9: '76.97',\n",
       "  10: '52.32',\n",
       "  11: '82.45',\n",
       "  12: '58.48'},\n",
       " 'test_iou': {'ceiling': 0.9034638629033545,\n",
       "  'floor': 0.9780060512143244,\n",
       "  'wall': 0.8422461835685947,\n",
       "  'beam': 0.0026302951524088845,\n",
       "  'column': 0.2178221475963958,\n",
       "  'window': 0.6725101860494516,\n",
       "  'door': 0.7036040790602138,\n",
       "  'chair': 0.8580426678079786,\n",
       "  'table': 0.7999439329920773,\n",
       "  'bookcase': 0.7696835137929061,\n",
       "  'sofa': 0.5232234368696432,\n",
       "  'board': 0.8244993840773719,\n",
       "  'clutter': 0.584788077602045},\n",
       " 'test_full_vote_miou': 66.50957590860219,\n",
       " 'test_full_vote_iou': {'ceiling': 86.69959022189181,\n",
       "  'floor': 96.8806209430931,\n",
       "  'wall': 83.73557317167494,\n",
       "  'beam': 0.03549435767163393,\n",
       "  'column': 22.03270088255877,\n",
       "  'window': 65.85483334152723,\n",
       "  'door': 68.89154709504906,\n",
       "  'chair': 85.62933452462836,\n",
       "  'table': 79.78381482957629,\n",
       "  'bookcase': 75.58836972391232,\n",
       "  'sofa': 56.9598465275847,\n",
       "  'board': 83.65623403180254,\n",
       "  'clutter': 58.87652716085752},\n",
       " 'test_vote_miou': 65.73229915504044,\n",
       " 'test_vote_iou': {'ceiling': 85.60443718687057,\n",
       "  'floor': 96.07570930698643,\n",
       "  'wall': 82.84885660213457,\n",
       "  'beam': 0.038551501156465495,\n",
       "  'column': 21.57710104718889,\n",
       "  'window': 61.47601173121557,\n",
       "  'door': 69.48640827313271,\n",
       "  'chair': 85.84958193416267,\n",
       "  'table': 78.13758948605224,\n",
       "  'bookcase': 76.04056807775022,\n",
       "  'sofa': 55.59722582649953,\n",
       "  'board': 82.15481534862627,\n",
       "  'clutter': 59.633032693749236}}"
      ]
     },
     "execution_count": 11,
     "metadata": {},
     "output_type": "execute_result"
    }
   ],
   "source": [
    "# vote=1 - r/2 - x2 credit - aug\n",
    "trainer._tracker.get_metrics(True)"
   ]
  },
  {
   "cell_type": "code",
   "execution_count": 12,
   "metadata": {},
   "outputs": [],
   "source": [
    "# torch.save(trainer._tracker._full_confusion, '/raid/dataset/pointcloud/data/s3dis/results/xyz+rgb_fold5_5cm.pt')"
   ]
  },
  {
   "cell_type": "markdown",
   "metadata": {},
   "source": [
    "# Fold 2"
   ]
  },
  {
   "cell_type": "code",
   "execution_count": 13,
   "metadata": {},
   "outputs": [
    {
     "data": {
      "text/plain": [
       "{'test_loss_seg': 0.6042165702722726,\n",
       " 'test_loss_cross_entropy': 0.6042165702722726,\n",
       " 'test_acc': 86.62172385247712,\n",
       " 'test_macc': 73.87255233870636,\n",
       " 'test_miou': 59.73326652513678,\n",
       " 'test_miou_per_class': {0: '88.09',\n",
       "  1: '91.38',\n",
       "  2: '86.10',\n",
       "  3: '28.36',\n",
       "  4: '60.90',\n",
       "  5: '40.38',\n",
       "  6: '76.51',\n",
       "  7: '65.11',\n",
       "  8: '52.35',\n",
       "  9: '49.75',\n",
       "  10: '48.96',\n",
       "  11: '34.12',\n",
       "  12: '54.52'},\n",
       " 'test_iou': {'ceiling': 0.8808912855533134,\n",
       "  'floor': 0.913806440411782,\n",
       "  'wall': 0.8609729752396305,\n",
       "  'beam': 0.28360039258073455,\n",
       "  'column': 0.6090013781381708,\n",
       "  'window': 0.40383821259779207,\n",
       "  'door': 0.7651401710675365,\n",
       "  'chair': 0.6511212723351703,\n",
       "  'table': 0.5234675114298487,\n",
       "  'bookcase': 0.4974771470756293,\n",
       "  'sofa': 0.489609988318565,\n",
       "  'board': 0.3412365688287967,\n",
       "  'clutter': 0.5451613046908107},\n",
       " 'test_full_vote_miou': 61.72339478597231,\n",
       " 'test_full_vote_iou': {'ceiling': 87.99840697594014,\n",
       "  'floor': 92.79455935648578,\n",
       "  'wall': 85.71214566942868,\n",
       "  'beam': 30.61144350793974,\n",
       "  'column': 69.06263934907949,\n",
       "  'window': 47.771061224983484,\n",
       "  'door': 75.17852029315104,\n",
       "  'chair': 64.1208222726068,\n",
       "  'table': 54.435185468141675,\n",
       "  'bookcase': 51.50120297084791,\n",
       "  'sofa': 54.50082347247604,\n",
       "  'board': 33.60457198915419,\n",
       "  'clutter': 55.112749667404984},\n",
       " 'test_vote_miou': 61.32822436469323,\n",
       " 'test_vote_iou': {'ceiling': 86.40816248199742,\n",
       "  'floor': 92.25243274708626,\n",
       "  'wall': 84.9492752622147,\n",
       "  'beam': 29.348627749437245,\n",
       "  'column': 67.81022416558557,\n",
       "  'window': 48.2217583221421,\n",
       "  'door': 75.10440771033726,\n",
       "  'chair': 65.85803456826382,\n",
       "  'table': 53.123957693839586,\n",
       "  'bookcase': 51.90827696453352,\n",
       "  'sofa': 54.91711683437922,\n",
       "  'board': 32.80571173865708,\n",
       "  'clutter': 54.55893050253814}}"
      ]
     },
     "execution_count": 13,
     "metadata": {},
     "output_type": "execute_result"
    }
   ],
   "source": [
    "# vote=1 - r/2 - x2 credit - aug\n",
    "trainer._tracker.get_metrics(True)"
   ]
  },
  {
   "cell_type": "code",
   "execution_count": 11,
   "metadata": {},
   "outputs": [],
   "source": [
    "# torch.save(trainer._tracker._full_confusion, '/raid/dataset/pointcloud/data/s3dis/results/xyz+rgb_fold2_5cm.pt')"
   ]
  },
  {
   "cell_type": "markdown",
   "metadata": {},
   "source": [
    "# Fold 3"
   ]
  },
  {
   "cell_type": "code",
   "execution_count": null,
   "metadata": {},
   "outputs": [],
   "source": [
    "# torch.save(trainer._tracker._full_confusion, '/raid/dataset/pointcloud/data/s3dis/results/xyz+rgb_fold3_5cm.pt')"
   ]
  },
  {
   "cell_type": "code",
   "execution_count": 28,
   "metadata": {},
   "outputs": [
    {
     "data": {
      "text/plain": [
       "{'test_loss_seg': 0.3218829301032392,\n",
       " 'test_loss_cross_entropy': 0.3218829301032392,\n",
       " 'test_acc': 92.17379274380939,\n",
       " 'test_macc': 88.67533478124531,\n",
       " 'test_miou': 80.24567261374068,\n",
       " 'test_miou_per_class': {0: '95.26',\n",
       "  1: '97.74',\n",
       "  2: '86.78',\n",
       "  3: '80.29',\n",
       "  4: '57.76',\n",
       "  5: '77.05',\n",
       "  6: '86.04',\n",
       "  7: '82.75',\n",
       "  8: '73.40',\n",
       "  9: '77.76',\n",
       "  10: '70.95',\n",
       "  11: '80.15',\n",
       "  12: '77.25'},\n",
       " 'test_iou': {'ceiling': 0.9525949237848576,\n",
       "  'floor': 0.9774153720379403,\n",
       "  'wall': 0.8678066059797175,\n",
       "  'beam': 0.8028754539567391,\n",
       "  'column': 0.577649015043894,\n",
       "  'window': 0.7704882781812028,\n",
       "  'door': 0.860355250217941,\n",
       "  'chair': 0.8275335313497437,\n",
       "  'table': 0.7340402471522532,\n",
       "  'bookcase': 0.7775678444664276,\n",
       "  'sofa': 0.7095196587351991,\n",
       "  'board': 0.8015417033273533,\n",
       "  'clutter': 0.7725495555530192},\n",
       " 'test_full_vote_miou': 79.43889095365549,\n",
       " 'test_full_vote_iou': {'ceiling': 93.05327299018775,\n",
       "  'floor': 96.86439762827396,\n",
       "  'wall': 86.21196824360833,\n",
       "  'beam': 78.81340294597784,\n",
       "  'column': 59.683811109135576,\n",
       "  'window': 75.44491979188254,\n",
       "  'door': 81.47191525702317,\n",
       "  'chair': 81.0340777186275,\n",
       "  'table': 72.87333534130958,\n",
       "  'bookcase': 77.00609482324252,\n",
       "  'sofa': 71.81791159618757,\n",
       "  'board': 81.19874969928597,\n",
       "  'clutter': 77.23172525277914},\n",
       " 'test_vote_miou': 79.15416118904388,\n",
       " 'test_vote_iou': {'ceiling': 91.89933694928489,\n",
       "  'floor': 96.24988292322679,\n",
       "  'wall': 85.05614902130861,\n",
       "  'beam': 78.43722139959533,\n",
       "  'column': 59.87726266540056,\n",
       "  'window': 76.94550097393319,\n",
       "  'door': 81.11410701974819,\n",
       "  'chair': 82.97344978378797,\n",
       "  'table': 72.0834191669899,\n",
       "  'bookcase': 77.00422973475712,\n",
       "  'sofa': 71.44238305716217,\n",
       "  'board': 79.09460528781455,\n",
       "  'clutter': 76.82654747456107}}"
      ]
     },
     "execution_count": 28,
     "metadata": {},
     "output_type": "execute_result"
    }
   ],
   "source": [
    "# vote=1 - r/2 - x2 credit - aug\n",
    "trainer._tracker.get_metrics(True)"
   ]
  },
  {
   "cell_type": "code",
   "execution_count": null,
   "metadata": {},
   "outputs": [],
   "source": []
  },
  {
   "cell_type": "code",
   "execution_count": 24,
   "metadata": {},
   "outputs": [
    {
     "data": {
      "text/plain": [
       "{'test_loss_seg': 0.32217988677241005,\n",
       " 'test_loss_cross_entropy': 0.32217988677241005,\n",
       " 'test_acc': 92.16843603926614,\n",
       " 'test_macc': 88.74374191653285,\n",
       " 'test_miou': 80.27448058011092,\n",
       " 'test_miou_per_class': {0: '95.24',\n",
       "  1: '97.73',\n",
       "  2: '86.82',\n",
       "  3: '80.09',\n",
       "  4: '58.32',\n",
       "  5: '77.02',\n",
       "  6: '85.86',\n",
       "  7: '82.86',\n",
       "  8: '73.55',\n",
       "  9: '77.65',\n",
       "  10: '71.22',\n",
       "  11: '79.96',\n",
       "  12: '77.24'},\n",
       " 'test_iou': {'ceiling': 0.9523502435448606,\n",
       "  'floor': 0.9773158940252332,\n",
       "  'wall': 0.8682261373780679,\n",
       "  'beam': 0.800886464234754,\n",
       "  'column': 0.5832141972905062,\n",
       "  'window': 0.7702413749277044,\n",
       "  'door': 0.858560524222882,\n",
       "  'chair': 0.8286383046147898,\n",
       "  'table': 0.7355139716938428,\n",
       "  'bookcase': 0.7764773286496915,\n",
       "  'sofa': 0.7122210702614769,\n",
       "  'board': 0.7996181929114184,\n",
       "  'clutter': 0.7724187716591904},\n",
       " 'test_full_vote_miou': 79.46430343185715,\n",
       " 'test_full_vote_iou': {'ceiling': 93.01678965531283,\n",
       "  'floor': 96.86740375032205,\n",
       "  'wall': 86.27793428107624,\n",
       "  'beam': 78.68906933418907,\n",
       "  'column': 59.94350527930371,\n",
       "  'window': 75.49837149784938,\n",
       "  'door': 81.09932863961728,\n",
       "  'chair': 81.13747372366433,\n",
       "  'table': 72.89292750479738,\n",
       "  'bookcase': 77.04612641055508,\n",
       "  'sofa': 72.42711009624374,\n",
       "  'board': 80.93297186668643,\n",
       "  'clutter': 77.2069325745254},\n",
       " 'test_vote_miou': 79.19621050157511,\n",
       " 'test_vote_iou': {'ceiling': 91.86491940391838,\n",
       "  'floor': 96.26236730226145,\n",
       "  'wall': 85.11179046317415,\n",
       "  'beam': 78.29762004757245,\n",
       "  'column': 60.02763411719629,\n",
       "  'window': 76.97678126577185,\n",
       "  'door': 80.78795729443343,\n",
       "  'chair': 83.14290963215602,\n",
       "  'table': 72.16240631675069,\n",
       "  'bookcase': 76.98682444598249,\n",
       "  'sofa': 72.28087267063216,\n",
       "  'board': 78.83438121779531,\n",
       "  'clutter': 76.81427234283166}}"
      ]
     },
     "execution_count": 24,
     "metadata": {},
     "output_type": "execute_result"
    }
   ],
   "source": [
    "# vote=2 - r/2 - half credit - aug\n",
    "trainer._tracker.get_metrics(True)"
   ]
  },
  {
   "cell_type": "code",
   "execution_count": null,
   "metadata": {},
   "outputs": [],
   "source": []
  },
  {
   "cell_type": "code",
   "execution_count": 17,
   "metadata": {},
   "outputs": [
    {
     "data": {
      "text/plain": [
       "{'test_loss_seg': 0.32423276727261763,\n",
       " 'test_loss_cross_entropy': 0.32423276727261763,\n",
       " 'test_acc': 92.13096120186151,\n",
       " 'test_macc': 88.63534181220459,\n",
       " 'test_miou': 80.12543931555223,\n",
       " 'test_miou_per_class': {0: '95.24',\n",
       "  1: '97.72',\n",
       "  2: '86.79',\n",
       "  3: '80.17',\n",
       "  4: '57.90',\n",
       "  5: '76.54',\n",
       "  6: '85.50',\n",
       "  7: '82.71',\n",
       "  8: '73.44',\n",
       "  9: '77.61',\n",
       "  10: '70.80',\n",
       "  11: '79.99',\n",
       "  12: '77.22'},\n",
       " 'test_iou': {'ceiling': 0.9523621916554682,\n",
       "  'floor': 0.9772062599186939,\n",
       "  'wall': 0.8678528749842629,\n",
       "  'beam': 0.8017367809730164,\n",
       "  'column': 0.5790070741610173,\n",
       "  'window': 0.7653845774628152,\n",
       "  'door': 0.8550234892834504,\n",
       "  'chair': 0.8271040311928374,\n",
       "  'table': 0.7344202614722822,\n",
       "  'bookcase': 0.7761313025632556,\n",
       "  'sofa': 0.7080480024129251,\n",
       "  'board': 0.7998728571393379,\n",
       "  'clutter': 0.772157407802427},\n",
       " 'test_full_vote_miou': 79.34020273949261,\n",
       " 'test_full_vote_iou': {'ceiling': 93.04855015032344,\n",
       "  'floor': 96.83356527079596,\n",
       "  'wall': 86.25682723150922,\n",
       "  'beam': 79.3861384454172,\n",
       "  'column': 59.61332051113928,\n",
       "  'window': 74.78031756154782,\n",
       "  'door': 80.73856613339451,\n",
       "  'chair': 80.79639659100557,\n",
       "  'table': 72.8467840531812,\n",
       "  'bookcase': 77.21033646323508,\n",
       "  'sofa': 71.6014100298764,\n",
       "  'board': 81.17882374535674,\n",
       "  'clutter': 77.13159942662156},\n",
       " 'test_vote_miou': 79.07542592896746,\n",
       " 'test_vote_iou': {'ceiling': 91.87748762798525,\n",
       "  'floor': 96.20726385556154,\n",
       "  'wall': 85.10006464471749,\n",
       "  'beam': 79.02819536108036,\n",
       "  'column': 59.7003913365019,\n",
       "  'window': 76.36485818708933,\n",
       "  'door': 80.51785534785671,\n",
       "  'chair': 82.77522376513267,\n",
       "  'table': 72.09248453686517,\n",
       "  'bookcase': 77.17035711163439,\n",
       "  'sofa': 71.40515096617668,\n",
       "  'board': 78.97876501807129,\n",
       "  'clutter': 76.76243931790435}}"
      ]
     },
     "execution_count": 17,
     "metadata": {},
     "output_type": "execute_result"
    }
   ],
   "source": [
    "# r/2 - x2 credit - aug\n",
    "trainer._tracker.get_metrics(True)"
   ]
  },
  {
   "cell_type": "code",
   "execution_count": null,
   "metadata": {},
   "outputs": [],
   "source": []
  },
  {
   "cell_type": "code",
   "execution_count": 10,
   "metadata": {},
   "outputs": [
    {
     "data": {
      "text/plain": [
       "{'test_loss_seg': 0.32033917881384655,\n",
       " 'test_loss_cross_entropy': 0.32033917881384655,\n",
       " 'test_acc': 92.1756755619912,\n",
       " 'test_macc': 88.69039884391421,\n",
       " 'test_miou': 80.26560942653592,\n",
       " 'test_miou_per_class': {0: '95.24',\n",
       "  1: '97.73',\n",
       "  2: '86.77',\n",
       "  3: '80.31',\n",
       "  4: '57.34',\n",
       "  5: '77.24',\n",
       "  6: '85.87',\n",
       "  7: '82.89',\n",
       "  8: '73.64',\n",
       "  9: '77.75',\n",
       "  10: '71.06',\n",
       "  11: '80.17',\n",
       "  12: '77.43'},\n",
       " 'test_iou': {'ceiling': 0.9524006588095312,\n",
       "  'floor': 0.977349392146094,\n",
       "  'wall': 0.8677380579414667,\n",
       "  'beam': 0.8031411158228586,\n",
       "  'column': 0.5734415119772075,\n",
       "  'window': 0.7723612000700912,\n",
       "  'door': 0.8586781568676222,\n",
       "  'chair': 0.8288727394371915,\n",
       "  'table': 0.7363507685722425,\n",
       "  'bookcase': 0.7774822927276696,\n",
       "  'sofa': 0.7106345379486098,\n",
       "  'board': 0.8017359103179438,\n",
       "  'clutter': 0.774342882811141},\n",
       " 'test_full_vote_miou': 79.41217429236951,\n",
       " 'test_full_vote_iou': {'ceiling': 93.00448256064946,\n",
       "  'floor': 96.84141562498583,\n",
       "  'wall': 86.18880176550107,\n",
       "  'beam': 78.96665590126676,\n",
       "  'column': 59.20558339398683,\n",
       "  'window': 75.57572938316659,\n",
       "  'door': 81.04283957147447,\n",
       "  'chair': 81.16495915381408,\n",
       "  'table': 72.99806737082226,\n",
       "  'bookcase': 76.83058830215901,\n",
       "  'sofa': 72.09371820717988,\n",
       "  'board': 81.17214707839986,\n",
       "  'clutter': 77.2732774873975},\n",
       " 'test_vote_miou': 79.16910761537022,\n",
       " 'test_vote_iou': {'ceiling': 91.91125242285175,\n",
       "  'floor': 96.19985305470071,\n",
       "  'wall': 85.04345610747973,\n",
       "  'beam': 78.81457609284502,\n",
       "  'column': 59.27967758945803,\n",
       "  'window': 77.07601835174702,\n",
       "  'door': 80.70958009362126,\n",
       "  'chair': 83.12702510936197,\n",
       "  'table': 72.25436987555692,\n",
       "  'bookcase': 76.87013776018674,\n",
       "  'sofa': 71.90130724085931,\n",
       "  'board': 79.0912724228146,\n",
       "  'clutter': 76.91987287832983}}"
      ]
     },
     "execution_count": 10,
     "metadata": {},
     "output_type": "execute_result"
    }
   ],
   "source": [
    "# r/2 - x2 credit - soft aug\n",
    "trainer._tracker.get_metrics(True)"
   ]
  },
  {
   "cell_type": "code",
   "execution_count": null,
   "metadata": {},
   "outputs": [],
   "source": []
  },
  {
   "cell_type": "code",
   "execution_count": 11,
   "metadata": {},
   "outputs": [
    {
     "data": {
      "text/plain": [
       "{'test_loss_seg': 0.32959187582931837,\n",
       " 'test_loss_cross_entropy': 0.32959187582931837,\n",
       " 'test_acc': 92.03387767904175,\n",
       " 'test_macc': 88.45569833525056,\n",
       " 'test_miou': 79.84800904072762,\n",
       " 'test_miou_per_class': {0: '95.01',\n",
       "  1: '97.63',\n",
       "  2: '86.82',\n",
       "  3: '80.89',\n",
       "  4: '54.38',\n",
       "  5: '75.06',\n",
       "  6: '85.53',\n",
       "  7: '83.08',\n",
       "  8: '73.14',\n",
       "  9: '77.64',\n",
       "  10: '71.96',\n",
       "  11: '79.88',\n",
       "  12: '76.99'},\n",
       " 'test_iou': {'ceiling': 0.9501456226119098,\n",
       "  'floor': 0.9763337502222753,\n",
       "  'wall': 0.8681684885171153,\n",
       "  'beam': 0.8088795870868684,\n",
       "  'column': 0.5438289220374718,\n",
       "  'window': 0.7506065103582978,\n",
       "  'door': 0.8552539942147027,\n",
       "  'chair': 0.830848005581853,\n",
       "  'table': 0.7314455667607253,\n",
       "  'bookcase': 0.7764010108705107,\n",
       "  'sofa': 0.7196382408102228,\n",
       "  'board': 0.7987620987878549,\n",
       "  'clutter': 0.7699293774347838},\n",
       " 'test_full_vote_miou': 79.27449574309561,\n",
       " 'test_full_vote_iou': {'ceiling': 93.01302600823149,\n",
       "  'floor': 96.85067198094053,\n",
       "  'wall': 86.24307576239741,\n",
       "  'beam': 79.00348679945118,\n",
       "  'column': 59.094717666781314,\n",
       "  'window': 74.61256771159178,\n",
       "  'door': 80.98284805752496,\n",
       "  'chair': 80.9613666071923,\n",
       "  'table': 73.08808233481187,\n",
       "  'bookcase': 77.12677884699661,\n",
       "  'sofa': 71.71226228752616,\n",
       "  'board': 80.72504725429359,\n",
       "  'clutter': 77.15451334250365},\n",
       " 'test_vote_miou': 78.99750408788748,\n",
       " 'test_vote_iou': {'ceiling': 91.88117293736182,\n",
       "  'floor': 96.23557845280925,\n",
       "  'wall': 85.0835610143044,\n",
       "  'beam': 78.60755827457388,\n",
       "  'column': 59.31140034616719,\n",
       "  'window': 76.00743095713534,\n",
       "  'door': 80.65361626743109,\n",
       "  'chair': 83.01669645189874,\n",
       "  'table': 72.31091437344142,\n",
       "  'bookcase': 77.1208122222913,\n",
       "  'sofa': 71.47696576957851,\n",
       "  'board': 78.52794787320853,\n",
       "  'clutter': 76.73389820233557}}"
      ]
     },
     "execution_count": 11,
     "metadata": {},
     "output_type": "execute_result"
    }
   ],
   "source": [
    "# r/3\n",
    "trainer._tracker.get_metrics(True)"
   ]
  },
  {
   "cell_type": "code",
   "execution_count": null,
   "metadata": {},
   "outputs": [],
   "source": []
  },
  {
   "cell_type": "code",
   "execution_count": 10,
   "metadata": {},
   "outputs": [
    {
     "data": {
      "text/plain": [
       "{'test_loss_seg': 0.3202797946886538,\n",
       " 'test_loss_cross_entropy': 0.3202797946886538,\n",
       " 'test_acc': 92.16376306359699,\n",
       " 'test_macc': 88.7047623261769,\n",
       " 'test_miou': 80.25090783194267,\n",
       " 'test_miou_per_class': {0: '95.27',\n",
       "  1: '97.73',\n",
       "  2: '86.78',\n",
       "  3: '80.15',\n",
       "  4: '57.67',\n",
       "  5: '76.74',\n",
       "  6: '85.90',\n",
       "  7: '82.88',\n",
       "  8: '73.55',\n",
       "  9: '77.76',\n",
       "  10: '71.44',\n",
       "  11: '80.14',\n",
       "  12: '77.26'},\n",
       " 'test_iou': {'ceiling': 0.9526917391413627,\n",
       "  'floor': 0.9772913804612737,\n",
       "  'wall': 0.8677805398725159,\n",
       "  'beam': 0.8015015385392836,\n",
       "  'column': 0.5766684493327823,\n",
       "  'window': 0.7674321320872868,\n",
       "  'door': 0.8589943455499784,\n",
       "  'chair': 0.8287681031496973,\n",
       "  'table': 0.7354849627412889,\n",
       "  'bookcase': 0.777587422656907,\n",
       "  'sofa': 0.7144244734782349,\n",
       "  'board': 0.8014138921354913,\n",
       "  'clutter': 0.772579039006443},\n",
       " 'test_full_vote_miou': 79.4476486858435,\n",
       " 'test_full_vote_iou': {'ceiling': 93.07619949667978,\n",
       "  'floor': 96.86585232866952,\n",
       "  'wall': 86.2082081675892,\n",
       "  'beam': 78.85173561573912,\n",
       "  'column': 59.304328248766716,\n",
       "  'window': 75.20685232243329,\n",
       "  'door': 81.17041842824396,\n",
       "  'chair': 81.10082490228842,\n",
       "  'table': 73.09300368249426,\n",
       "  'bookcase': 77.24023028910055,\n",
       "  'sofa': 72.22352064939295,\n",
       "  'board': 81.2182419145282,\n",
       "  'clutter': 77.26001687003946},\n",
       " 'test_vote_miou': 79.19236117980071,\n",
       " 'test_vote_iou': {'ceiling': 91.950430339786,\n",
       "  'floor': 96.24653796007303,\n",
       "  'wall': 85.05133518993921,\n",
       "  'beam': 78.52976290471516,\n",
       "  'column': 59.43868248067009,\n",
       "  'window': 76.66200421256197,\n",
       "  'door': 80.86646744850043,\n",
       "  'chair': 83.13813210379361,\n",
       "  'table': 72.36823057592703,\n",
       "  'bookcase': 77.21511607665714,\n",
       "  'sofa': 72.00309458075019,\n",
       "  'board': 79.15537948599271,\n",
       "  'clutter': 76.8755219780428}}"
      ]
     },
     "execution_count": 10,
     "metadata": {},
     "output_type": "execute_result"
    }
   ],
   "source": [
    "# r/2\n",
    "trainer._tracker.get_metrics(True)"
   ]
  },
  {
   "cell_type": "code",
   "execution_count": null,
   "metadata": {},
   "outputs": [],
   "source": []
  },
  {
   "cell_type": "code",
   "execution_count": 11,
   "metadata": {},
   "outputs": [
    {
     "data": {
      "text/plain": [
       "{'test_loss_seg': 0.35334033025549594,\n",
       " 'test_loss_cross_entropy': 0.35334033025549594,\n",
       " 'test_acc': 91.61749473069604,\n",
       " 'test_macc': 88.41575356281203,\n",
       " 'test_miou': 78.96436362091487,\n",
       " 'test_miou_per_class': {0: '94.64',\n",
       "  1: '97.78',\n",
       "  2: '86.76',\n",
       "  3: '77.19',\n",
       "  4: '54.70',\n",
       "  5: '72.54',\n",
       "  6: '81.59',\n",
       "  7: '82.81',\n",
       "  8: '73.39',\n",
       "  9: '75.52',\n",
       "  10: '71.07',\n",
       "  11: '83.01',\n",
       "  12: '75.54'},\n",
       " 'test_iou': {'ceiling': 0.9464472063348865,\n",
       "  'floor': 0.977800284413269,\n",
       "  'wall': 0.8675652219185576,\n",
       "  'beam': 0.7719067532371585,\n",
       "  'column': 0.5469994333199425,\n",
       "  'window': 0.7254085280023362,\n",
       "  'door': 0.8159029228287055,\n",
       "  'chair': 0.8280728258818695,\n",
       "  'table': 0.733893665460212,\n",
       "  'bookcase': 0.7552016883506514,\n",
       "  'sofa': 0.7106924119607407,\n",
       "  'board': 0.8300561742574043,\n",
       "  'clutter': 0.7554201547531989},\n",
       " 'test_full_vote_miou': 79.2433080054473,\n",
       " 'test_full_vote_iou': {'ceiling': 92.92828375557086,\n",
       "  'floor': 96.8247282211201,\n",
       "  'wall': 86.23281860559582,\n",
       "  'beam': 78.9003926772211,\n",
       "  'column': 58.26623022402468,\n",
       "  'window': 75.89619000581816,\n",
       "  'door': 81.0630326328537,\n",
       "  'chair': 80.91705341344513,\n",
       "  'table': 73.06743046122777,\n",
       "  'bookcase': 76.25846051797869,\n",
       "  'sofa': 71.49774902796568,\n",
       "  'board': 81.52811054040276,\n",
       "  'clutter': 76.7825239875904},\n",
       " 'test_vote_miou': 78.93827503365483,\n",
       " 'test_vote_iou': {'ceiling': 91.7908722023528,\n",
       "  'floor': 96.19777949500546,\n",
       "  'wall': 85.03049374783578,\n",
       "  'beam': 78.46909879772764,\n",
       "  'column': 58.68167302569203,\n",
       "  'window': 77.32654856954855,\n",
       "  'door': 80.71307476315398,\n",
       "  'chair': 82.90527776996915,\n",
       "  'table': 72.41811135083059,\n",
       "  'bookcase': 76.11213674325694,\n",
       "  'sofa': 71.24322330821917,\n",
       "  'board': 79.0712427782082,\n",
       "  'clutter': 76.23804288571264}}"
      ]
     },
     "execution_count": 11,
     "metadata": {},
     "output_type": "execute_result"
    }
   ],
   "source": [
    "trainer._tracker.get_metrics(True)"
   ]
  },
  {
   "cell_type": "code",
   "execution_count": null,
   "metadata": {},
   "outputs": [],
   "source": []
  },
  {
   "cell_type": "markdown",
   "metadata": {},
   "source": [
    "# Fold 1 - 2cm - XYZRGB*"
   ]
  },
  {
   "cell_type": "code",
   "execution_count": 11,
   "metadata": {},
   "outputs": [
    {
     "data": {
      "text/plain": [
       "{'test_loss_seg': 0.5220705169747131,\n",
       " 'test_loss_cross_entropy': 0.5220705169747131,\n",
       " 'test_acc': 88.17792979412887,\n",
       " 'test_macc': 82.64148308130707,\n",
       " 'test_miou': 73.35372445137729,\n",
       " 'test_miou_per_class': {0: '95.62',\n",
       "  1: '95.81',\n",
       "  2: '78.58',\n",
       "  3: '56.39',\n",
       "  4: '60.14',\n",
       "  5: '75.67',\n",
       "  6: '83.49',\n",
       "  7: '84.18',\n",
       "  8: '70.85',\n",
       "  9: '61.31',\n",
       "  10: '70.32',\n",
       "  11: '50.65',\n",
       "  12: '70.58'},\n",
       " 'test_iou': {'ceiling': 0.956175917648277,\n",
       "  'floor': 0.9581325476877459,\n",
       "  'wall': 0.7857712244933154,\n",
       "  'beam': 0.5639040312710069,\n",
       "  'column': 0.6014268919859974,\n",
       "  'window': 0.7567261590542469,\n",
       "  'door': 0.8348935752567826,\n",
       "  'chair': 0.8418057453780545,\n",
       "  'table': 0.7085305702747743,\n",
       "  'bookcase': 0.6131074230643703,\n",
       "  'sofa': 0.7031898334390162,\n",
       "  'board': 0.5065398050525475,\n",
       "  'clutter': 0.7057804540729125},\n",
       " 'test_full_vote_miou': 77.36455944636708,\n",
       " 'test_full_vote_iou': {'ceiling': 94.22196094761803,\n",
       "  'floor': 95.52355789525231,\n",
       "  'wall': 80.83168078993992,\n",
       "  'beam': 58.05695243885272,\n",
       "  'column': 66.02842903959393,\n",
       "  'window': 79.31863206081111,\n",
       "  'door': 88.56718132942748,\n",
       "  'chair': 86.5306874959717,\n",
       "  'table': 72.81095843552855,\n",
       "  'bookcase': 67.6185998843237,\n",
       "  'sofa': 80.73961342277673,\n",
       "  'board': 60.362247301865665,\n",
       "  'clutter': 75.1287717608104},\n",
       " 'test_vote_miou': 77.23560037175868,\n",
       " 'test_vote_iou': {'ceiling': 93.84892881939642,\n",
       "  'floor': 95.00292159419558,\n",
       "  'wall': 80.612789752158,\n",
       "  'beam': 57.95788921798633,\n",
       "  'column': 64.58961683846155,\n",
       "  'window': 78.79779381545788,\n",
       "  'door': 88.84392954122595,\n",
       "  'chair': 87.18988865172166,\n",
       "  'table': 72.7212784977576,\n",
       "  'bookcase': 68.75151546041958,\n",
       "  'sofa': 79.38941574464778,\n",
       "  'board': 60.39381200097217,\n",
       "  'clutter': 75.96302489846232}}"
      ]
     },
     "execution_count": 11,
     "metadata": {},
     "output_type": "execute_result"
    }
   ],
   "source": [
    "# 5 votes, 3D aug\n",
    "trainer._tracker.get_metrics(True)"
   ]
  },
  {
   "cell_type": "code",
   "execution_count": null,
   "metadata": {},
   "outputs": [],
   "source": []
  },
  {
   "cell_type": "markdown",
   "metadata": {},
   "source": [
    "# Fold 3"
   ]
  },
  {
   "cell_type": "code",
   "execution_count": 54,
   "metadata": {},
   "outputs": [
    {
     "data": {
      "text/plain": [
       "{'test_loss_seg': 0.3527810864924611,\n",
       " 'test_loss_cross_entropy': 0.3527810864924611,\n",
       " 'test_acc': 91.55272704363291,\n",
       " 'test_macc': 88.71389105935535,\n",
       " 'test_miou': 79.02833688712079,\n",
       " 'test_miou_per_class': {0: '94.78',\n",
       "  1: '97.81',\n",
       "  2: '86.62',\n",
       "  3: '75.43',\n",
       "  4: '55.78',\n",
       "  5: '71.07',\n",
       "  6: '81.19',\n",
       "  7: '83.64',\n",
       "  8: '74.28',\n",
       "  9: '73.90',\n",
       "  10: '73.31',\n",
       "  11: '84.74',\n",
       "  12: '74.82'},\n",
       " 'test_iou': {'ceiling': 0.9477658763190917,\n",
       "  'floor': 0.9781490240609106,\n",
       "  'wall': 0.8661768026469115,\n",
       "  'beam': 0.7542658777352738,\n",
       "  'column': 0.5577884227329337,\n",
       "  'window': 0.7106597569880491,\n",
       "  'door': 0.8119242301016815,\n",
       "  'chair': 0.8363871535276969,\n",
       "  'table': 0.7428338305549844,\n",
       "  'bookcase': 0.7390217871896908,\n",
       "  'sofa': 0.7330867102333067,\n",
       "  'board': 0.8473917411559279,\n",
       "  'clutter': 0.7482325820792443},\n",
       " 'test_full_vote_miou': 79.12080033147522,\n",
       " 'test_full_vote_iou': {'ceiling': 92.94930107774319,\n",
       "  'floor': 96.67482908155745,\n",
       "  'wall': 85.70187747158654,\n",
       "  'beam': 77.81115834140073,\n",
       "  'column': 58.559461540600985,\n",
       "  'window': 74.13695670902756,\n",
       "  'door': 80.8473971446686,\n",
       "  'chair': 81.37398054816292,\n",
       "  'table': 73.9161810907945,\n",
       "  'bookcase': 74.47103771807934,\n",
       "  'sofa': 73.29094537451681,\n",
       "  'board': 83.03971620020631,\n",
       "  'clutter': 75.797562010833},\n",
       " 'test_vote_miou': 78.80835973245367,\n",
       " 'test_vote_iou': {'ceiling': 91.90044978613156,\n",
       "  'floor': 95.94348179069526,\n",
       "  'wall': 84.51537184791583,\n",
       "  'beam': 77.30898876808054,\n",
       "  'column': 58.76057320420864,\n",
       "  'window': 75.67192658709303,\n",
       "  'door': 80.45619475921556,\n",
       "  'chair': 83.25981732797626,\n",
       "  'table': 73.38678985068483,\n",
       "  'bookcase': 74.44357147135197,\n",
       "  'sofa': 72.9365863657825,\n",
       "  'board': 80.71887745792215,\n",
       "  'clutter': 75.2060473048395}}"
      ]
     },
     "execution_count": 54,
     "metadata": {},
     "output_type": "execute_result"
    }
   ],
   "source": [
    "# 10 votes, 3D and 2D aug - half credit - even softer aug\n",
    "trainer._tracker.get_metrics(True)"
   ]
  },
  {
   "cell_type": "code",
   "execution_count": null,
   "metadata": {},
   "outputs": [],
   "source": []
  },
  {
   "cell_type": "code",
   "execution_count": 49,
   "metadata": {},
   "outputs": [
    {
     "data": {
      "text/plain": [
       "{'test_loss_seg': 0.3527761208933668,\n",
       " 'test_loss_cross_entropy': 0.3527761208933668,\n",
       " 'test_acc': 91.53714926684844,\n",
       " 'test_macc': 88.65500149676289,\n",
       " 'test_miou': 78.98911199314071,\n",
       " 'test_miou_per_class': {0: '94.78',\n",
       "  1: '97.82',\n",
       "  2: '86.57',\n",
       "  3: '75.51',\n",
       "  4: '55.48',\n",
       "  5: '71.02',\n",
       "  6: '81.19',\n",
       "  7: '83.54',\n",
       "  8: '74.29',\n",
       "  9: '73.93',\n",
       "  10: '73.25',\n",
       "  11: '84.67',\n",
       "  12: '74.80'},\n",
       " 'test_iou': {'ceiling': 0.9477956402903616,\n",
       "  'floor': 0.9782420603217851,\n",
       "  'wall': 0.8657194829975473,\n",
       "  'beam': 0.7550895694272189,\n",
       "  'column': 0.5548472583903993,\n",
       "  'window': 0.7102155950591968,\n",
       "  'door': 0.8118729015628172,\n",
       "  'chair': 0.8353779052218652,\n",
       "  'table': 0.742929199777688,\n",
       "  'bookcase': 0.7392802861098451,\n",
       "  'sofa': 0.7325037071582057,\n",
       "  'board': 0.8467395084060412,\n",
       "  'clutter': 0.7479714443853221},\n",
       " 'test_full_vote_miou': 79.0324417435195,\n",
       " 'test_full_vote_iou': {'ceiling': 92.94256408604775,\n",
       "  'floor': 96.65426653814741,\n",
       "  'wall': 85.65203998048764,\n",
       "  'beam': 77.75108010516247,\n",
       "  'column': 58.21118780612245,\n",
       "  'window': 73.95989957827416,\n",
       "  'door': 80.86783175011362,\n",
       "  'chair': 81.33788762153019,\n",
       "  'table': 73.91584511102778,\n",
       "  'bookcase': 74.37854966635368,\n",
       "  'sofa': 73.25679967308376,\n",
       "  'board': 82.77386123391925,\n",
       "  'clutter': 75.71992951548341},\n",
       " 'test_vote_miou': 78.71248987563426,\n",
       " 'test_vote_iou': {'ceiling': 91.88605838669042,\n",
       "  'floor': 95.91759810645574,\n",
       "  'wall': 84.45257937204899,\n",
       "  'beam': 77.30159772340637,\n",
       "  'column': 58.36150945250541,\n",
       "  'window': 75.47664419848118,\n",
       "  'door': 80.58741922742169,\n",
       "  'chair': 83.20679781848041,\n",
       "  'table': 73.35663614067047,\n",
       "  'bookcase': 74.3164555904443,\n",
       "  'sofa': 72.8673111295965,\n",
       "  'board': 80.44374109502343,\n",
       "  'clutter': 75.0880201420206}}"
      ]
     },
     "execution_count": 49,
     "metadata": {},
     "output_type": "execute_result"
    }
   ],
   "source": [
    "# 5 votes, 3D and 2D aug - 1/2 credit - more 2D aug\n",
    "trainer._tracker.get_metrics(True)"
   ]
  },
  {
   "cell_type": "code",
   "execution_count": null,
   "metadata": {},
   "outputs": [],
   "source": []
  },
  {
   "cell_type": "code",
   "execution_count": 45,
   "metadata": {},
   "outputs": [
    {
     "data": {
      "text/plain": [
       "{'test_loss_seg': 0.35260536010776244,\n",
       " 'test_loss_cross_entropy': 0.35260536010776244,\n",
       " 'test_acc': 91.53767016855745,\n",
       " 'test_macc': 88.64603385350551,\n",
       " 'test_miou': 78.99699183434147,\n",
       " 'test_miou_per_class': {0: '94.78',\n",
       "  1: '97.81',\n",
       "  2: '86.56',\n",
       "  3: '75.61',\n",
       "  4: '55.15',\n",
       "  5: '71.12',\n",
       "  6: '81.17',\n",
       "  7: '83.66',\n",
       "  8: '74.35',\n",
       "  9: '73.92',\n",
       "  10: '73.34',\n",
       "  11: '84.69',\n",
       "  12: '74.81'},\n",
       " 'test_iou': {'ceiling': 0.9477931142893868,\n",
       "  'floor': 0.9780982404598296,\n",
       "  'wall': 0.8656150307422625,\n",
       "  'beam': 0.7560540648798831,\n",
       "  'column': 0.5514994297941195,\n",
       "  'window': 0.7111512008458736,\n",
       "  'door': 0.8116869210294118,\n",
       "  'chair': 0.8365848765463273,\n",
       "  'table': 0.7435208584840565,\n",
       "  'bookcase': 0.7392002805215934,\n",
       "  'sofa': 0.7334123759414053,\n",
       "  'board': 0.8468675958324545,\n",
       "  'clutter': 0.7481249490977856},\n",
       " 'test_full_vote_miou': 79.05467705156146,\n",
       " 'test_full_vote_iou': {'ceiling': 92.90218307205502,\n",
       "  'floor': 96.68680375473369,\n",
       "  'wall': 85.676266286476,\n",
       "  'beam': 77.56692360308003,\n",
       "  'column': 57.975406615974556,\n",
       "  'window': 74.16800509597802,\n",
       "  'door': 80.83249221007155,\n",
       "  'chair': 81.36094480206897,\n",
       "  'table': 74.03935223560701,\n",
       "  'bookcase': 74.42500390826044,\n",
       "  'sofa': 73.3203959710856,\n",
       "  'board': 82.93344397279301,\n",
       "  'clutter': 75.82358014211499},\n",
       " 'test_vote_miou': 78.74368058313956,\n",
       " 'test_vote_iou': {'ceiling': 91.852034687067,\n",
       "  'floor': 95.95014451432424,\n",
       "  'wall': 84.46444086984177,\n",
       "  'beam': 77.14556201018682,\n",
       "  'column': 58.10241846812681,\n",
       "  'window': 75.6826255693034,\n",
       "  'door': 80.49272216459565,\n",
       "  'chair': 83.20745953355863,\n",
       "  'table': 73.49939811199792,\n",
       "  'bookcase': 74.40010589967883,\n",
       "  'sofa': 72.98088277909386,\n",
       "  'board': 80.65514059384465,\n",
       "  'clutter': 75.23491237919482}}"
      ]
     },
     "execution_count": 45,
     "metadata": {},
     "output_type": "execute_result"
    }
   ],
   "source": [
    "# 5 votes, 3D and 2D aug - 1/4 credit - barely no 2D aug\n",
    "trainer._tracker.get_metrics(True)"
   ]
  },
  {
   "cell_type": "code",
   "execution_count": null,
   "metadata": {},
   "outputs": [],
   "source": []
  },
  {
   "cell_type": "code",
   "execution_count": 41,
   "metadata": {},
   "outputs": [
    {
     "data": {
      "text/plain": [
       "{'test_loss_seg': 0.3528917676829673,\n",
       " 'test_loss_cross_entropy': 0.3528917676829673,\n",
       " 'test_acc': 91.55262849466094,\n",
       " 'test_macc': 88.68651169198398,\n",
       " 'test_miou': 79.04611448742223,\n",
       " 'test_miou_per_class': {0: '94.83',\n",
       "  1: '97.81',\n",
       "  2: '86.63',\n",
       "  3: '76.05',\n",
       "  4: '55.49',\n",
       "  5: '71.04',\n",
       "  6: '81.23',\n",
       "  7: '83.57',\n",
       "  8: '74.18',\n",
       "  9: '73.80',\n",
       "  10: '73.38',\n",
       "  11: '84.79',\n",
       "  12: '74.80'},\n",
       " 'test_iou': {'ceiling': 0.9482822082138987,\n",
       "  'floor': 0.9781312901873117,\n",
       "  'wall': 0.8662631013289761,\n",
       "  'beam': 0.7604701651204817,\n",
       "  'column': 0.5549103934753452,\n",
       "  'window': 0.7104196129717186,\n",
       "  'door': 0.8122948674558809,\n",
       "  'chair': 0.8356692519245842,\n",
       "  'table': 0.7418334597402801,\n",
       "  'bookcase': 0.7379511493483233,\n",
       "  'sofa': 0.7338498692968078,\n",
       "  'board': 0.8479175145332696,\n",
       "  'clutter': 0.748001999768012},\n",
       " 'test_full_vote_miou': 79.12692401395431,\n",
       " 'test_full_vote_iou': {'ceiling': 92.98719117894832,\n",
       "  'floor': 96.65324350580113,\n",
       "  'wall': 85.69583557822911,\n",
       "  'beam': 78.61144860750868,\n",
       "  'column': 57.984803999310806,\n",
       "  'window': 74.03673367594436,\n",
       "  'door': 80.87741821915118,\n",
       "  'chair': 81.3127565972805,\n",
       "  'table': 73.88437308620625,\n",
       "  'bookcase': 74.42725936943879,\n",
       "  'sofa': 73.50049042097365,\n",
       "  'board': 82.91231345160956,\n",
       "  'clutter': 75.7661444910037},\n",
       " 'test_vote_miou': 78.80974983149443,\n",
       " 'test_vote_iou': {'ceiling': 91.93011485449458,\n",
       "  'floor': 95.93404619648871,\n",
       "  'wall': 84.50468654725263,\n",
       "  'beam': 78.16893118818312,\n",
       "  'column': 58.116327212350896,\n",
       "  'window': 75.55384319990976,\n",
       "  'door': 80.55848007381138,\n",
       "  'chair': 83.15215528506513,\n",
       "  'table': 73.37267782548714,\n",
       "  'bookcase': 74.37903455038762,\n",
       "  'sofa': 73.05740045326722,\n",
       "  'board': 80.60317560311063,\n",
       "  'clutter': 75.1958748196186}}"
      ]
     },
     "execution_count": 41,
     "metadata": {},
     "output_type": "execute_result"
    }
   ],
   "source": [
    "# 5 votes, 3D and 2D aug - half credit - even softer aug\n",
    "trainer._tracker.get_metrics(True)"
   ]
  },
  {
   "cell_type": "code",
   "execution_count": null,
   "metadata": {},
   "outputs": [],
   "source": []
  },
  {
   "cell_type": "code",
   "execution_count": 35,
   "metadata": {},
   "outputs": [
    {
     "data": {
      "text/plain": [
       "{'test_loss_seg': 0.3519713202273689,\n",
       " 'test_loss_cross_entropy': 0.3519713202273689,\n",
       " 'test_acc': 91.56072358878752,\n",
       " 'test_macc': 88.7109543530574,\n",
       " 'test_miou': 79.05741337408594,\n",
       " 'test_miou_per_class': {0: '94.79',\n",
       "  1: '97.81',\n",
       "  2: '86.61',\n",
       "  3: '75.67',\n",
       "  4: '55.73',\n",
       "  5: '71.09',\n",
       "  6: '81.19',\n",
       "  7: '83.64',\n",
       "  8: '74.30',\n",
       "  9: '74.00',\n",
       "  10: '73.36',\n",
       "  11: '84.72',\n",
       "  12: '74.85'},\n",
       " 'test_iou': {'ceiling': 0.9479189379944415,\n",
       "  'floor': 0.97813166711946,\n",
       "  'wall': 0.8660613014729774,\n",
       "  'beam': 0.7566578059688308,\n",
       "  'column': 0.5573414459327725,\n",
       "  'window': 0.7108569856015761,\n",
       "  'door': 0.8118565277274421,\n",
       "  'chair': 0.8363690388441877,\n",
       "  'table': 0.7430198064073663,\n",
       "  'bookcase': 0.7399953382647456,\n",
       "  'sofa': 0.7336082042131298,\n",
       "  'board': 0.8471710445507675,\n",
       "  'clutter': 0.7484756345334745},\n",
       " 'test_full_vote_miou': 79.11205367732842,\n",
       " 'test_full_vote_iou': {'ceiling': 92.94015611054498,\n",
       "  'floor': 96.66010206728374,\n",
       "  'wall': 85.70025544947694,\n",
       "  'beam': 78.0634133310389,\n",
       "  'column': 58.690478546323966,\n",
       "  'window': 74.01459846278499,\n",
       "  'door': 80.8475992604138,\n",
       "  'chair': 81.31235000529749,\n",
       "  'table': 73.90454817352719,\n",
       "  'bookcase': 74.4245006820711,\n",
       "  'sofa': 73.33684521706925,\n",
       "  'board': 82.7995613262952,\n",
       "  'clutter': 75.76228917314182},\n",
       " 'test_vote_miou': 78.81986216353636,\n",
       " 'test_vote_iou': {'ceiling': 91.90145377840145,\n",
       "  'floor': 95.91304105974794,\n",
       "  'wall': 84.51430475644626,\n",
       "  'beam': 77.79296510739375,\n",
       "  'column': 58.90674672213091,\n",
       "  'window': 75.56161103440314,\n",
       "  'door': 80.53620724004288,\n",
       "  'chair': 83.12382703666987,\n",
       "  'table': 73.35017281119171,\n",
       "  'bookcase': 74.39061803211564,\n",
       "  'sofa': 73.00595628646587,\n",
       "  'board': 80.50713253717868,\n",
       "  'clutter': 75.15417172378457}}"
      ]
     },
     "execution_count": 35,
     "metadata": {},
     "output_type": "execute_result"
    }
   ],
   "source": [
    "# 5 votes, 3D and 2D aug - half credit - softer aug\n",
    "trainer._tracker.get_metrics(True)"
   ]
  },
  {
   "cell_type": "code",
   "execution_count": null,
   "metadata": {},
   "outputs": [],
   "source": []
  },
  {
   "cell_type": "code",
   "execution_count": 30,
   "metadata": {},
   "outputs": [
    {
     "data": {
      "text/plain": [
       "{'test_loss_seg': 0.3533290109270581,\n",
       " 'test_loss_cross_entropy': 0.3533290109270581,\n",
       " 'test_acc': 91.53890906991944,\n",
       " 'test_macc': 88.69832872371107,\n",
       " 'test_miou': 79.02852248117121,\n",
       " 'test_miou_per_class': {0: '94.80',\n",
       "  1: '97.82',\n",
       "  2: '86.59',\n",
       "  3: '75.67',\n",
       "  4: '55.81',\n",
       "  5: '71.08',\n",
       "  6: '81.20',\n",
       "  7: '83.58',\n",
       "  8: '74.23',\n",
       "  9: '73.87',\n",
       "  10: '73.35',\n",
       "  11: '84.69',\n",
       "  12: '74.68'},\n",
       " 'test_iou': {'ceiling': 0.9479972633202223,\n",
       "  'floor': 0.9782199640622133,\n",
       "  'wall': 0.8659159637046069,\n",
       "  'beam': 0.7566683811239208,\n",
       "  'column': 0.5581150412758354,\n",
       "  'window': 0.7107606147577891,\n",
       "  'door': 0.8120178683662471,\n",
       "  'chair': 0.8358024704221905,\n",
       "  'table': 0.7423216848150815,\n",
       "  'bookcase': 0.7386873534842519,\n",
       "  'sofa': 0.7335342858395857,\n",
       "  'board': 0.846856536854947,\n",
       "  'clutter': 0.746810494525366},\n",
       " 'test_full_vote_miou': 79.06131212617544,\n",
       " 'test_full_vote_iou': {'ceiling': 92.9485683980052,\n",
       "  'floor': 96.67786186650886,\n",
       "  'wall': 85.70546576827061,\n",
       "  'beam': 77.81373549366438,\n",
       "  'column': 58.522285552193985,\n",
       "  'window': 74.15169146698983,\n",
       "  'door': 80.85726475522203,\n",
       "  'chair': 81.22825672657024,\n",
       "  'table': 73.761066566124,\n",
       "  'bookcase': 74.35898267846159,\n",
       "  'sofa': 73.14606560019179,\n",
       "  'board': 82.97848836095477,\n",
       "  'clutter': 75.6473244071234},\n",
       " 'test_vote_miou': 78.76292340509778,\n",
       " 'test_vote_iou': {'ceiling': 91.90407351211104,\n",
       "  'floor': 95.96042320508597,\n",
       "  'wall': 84.52518960834301,\n",
       "  'beam': 77.37559341701578,\n",
       "  'column': 58.69769483279834,\n",
       "  'window': 75.68512619920013,\n",
       "  'door': 80.53408707207463,\n",
       "  'chair': 83.12378161995696,\n",
       "  'table': 73.2377443731899,\n",
       "  'bookcase': 74.32576265983211,\n",
       "  'sofa': 72.84516480648124,\n",
       "  'board': 80.63416667571887,\n",
       "  'clutter': 75.0691962844631}}"
      ]
     },
     "execution_count": 30,
     "metadata": {},
     "output_type": "execute_result"
    }
   ],
   "source": [
    "# 5 votes, 3D and 2D aug - more credit\n",
    "trainer._tracker.get_metrics(True)"
   ]
  },
  {
   "cell_type": "code",
   "execution_count": null,
   "metadata": {},
   "outputs": [],
   "source": []
  },
  {
   "cell_type": "code",
   "execution_count": 25,
   "metadata": {},
   "outputs": [
    {
     "data": {
      "text/plain": [
       "{'test_loss_seg': 0.3523088596277421,\n",
       " 'test_loss_cross_entropy': 0.3523088596277421,\n",
       " 'test_acc': 91.56169500008271,\n",
       " 'test_macc': 88.7022273249284,\n",
       " 'test_miou': 79.03073497187705,\n",
       " 'test_miou_per_class': {0: '94.80',\n",
       "  1: '97.81',\n",
       "  2: '86.63',\n",
       "  3: '75.52',\n",
       "  4: '55.70',\n",
       "  5: '71.03',\n",
       "  6: '81.23',\n",
       "  7: '83.62',\n",
       "  8: '74.36',\n",
       "  9: '73.97',\n",
       "  10: '73.32',\n",
       "  11: '84.58',\n",
       "  12: '74.83'},\n",
       " 'test_iou': {'ceiling': 0.9479565671461002,\n",
       "  'floor': 0.9781458658893344,\n",
       "  'wall': 0.8663127955143941,\n",
       "  'beam': 0.7551519352481114,\n",
       "  'column': 0.5570163692589527,\n",
       "  'window': 0.7103321959429039,\n",
       "  'door': 0.8123095188826294,\n",
       "  'chair': 0.8362144530429593,\n",
       "  'table': 0.7435712730955633,\n",
       "  'bookcase': 0.7396688675946947,\n",
       "  'sofa': 0.7331851606182699,\n",
       "  'board': 0.8458112499743384,\n",
       "  'clutter': 0.7483192941357647},\n",
       " 'test_full_vote_miou': 79.09364658957348,\n",
       " 'test_full_vote_iou': {'ceiling': 92.94280381437953,\n",
       "  'floor': 96.67307386242396,\n",
       "  'wall': 85.7086217944507,\n",
       "  'beam': 77.81256242751911,\n",
       "  'column': 58.536820644460796,\n",
       "  'window': 74.02204967050618,\n",
       "  'door': 80.90023522938857,\n",
       "  'chair': 81.41094290906739,\n",
       "  'table': 74.00403783249631,\n",
       "  'bookcase': 74.40621465319657,\n",
       "  'sofa': 73.32361104605664,\n",
       "  'board': 82.74072919423455,\n",
       "  'clutter': 75.73570258627507},\n",
       " 'test_vote_miou': 78.77370167777109,\n",
       " 'test_vote_iou': {'ceiling': 91.90344406665248,\n",
       "  'floor': 95.93260152522403,\n",
       "  'wall': 84.51056367853234,\n",
       "  'beam': 77.31087570444603,\n",
       "  'column': 58.74060250372873,\n",
       "  'window': 75.50905077371684,\n",
       "  'door': 80.57504077767507,\n",
       "  'chair': 83.26039091569312,\n",
       "  'table': 73.4869224699522,\n",
       "  'bookcase': 74.35624917942407,\n",
       "  'sofa': 72.99853829880742,\n",
       "  'board': 80.34161099519189,\n",
       "  'clutter': 75.13223092198007}}"
      ]
     },
     "execution_count": 25,
     "metadata": {},
     "output_type": "execute_result"
    }
   ],
   "source": [
    "# 5 votes, 3D and 2D aug\n",
    "trainer._tracker.get_metrics(True)"
   ]
  },
  {
   "cell_type": "code",
   "execution_count": null,
   "metadata": {},
   "outputs": [],
   "source": []
  },
  {
   "cell_type": "code",
   "execution_count": 19,
   "metadata": {},
   "outputs": [
    {
     "data": {
      "text/plain": [
       "{'test_loss_seg': 0.3521801759089744,\n",
       " 'test_loss_cross_entropy': 0.3521801759089744,\n",
       " 'test_acc': 91.56051945163128,\n",
       " 'test_macc': 88.70549025923425,\n",
       " 'test_miou': 79.05506191068821,\n",
       " 'test_miou_per_class': {0: '94.79',\n",
       "  1: '97.82',\n",
       "  2: '86.62',\n",
       "  3: '75.48',\n",
       "  4: '55.90',\n",
       "  5: '71.09',\n",
       "  6: '81.19',\n",
       "  7: '83.61',\n",
       "  8: '74.28',\n",
       "  9: '73.98',\n",
       "  10: '73.31',\n",
       "  11: '84.83',\n",
       "  12: '74.81'},\n",
       " 'test_iou': {'ceiling': 0.9478798869741125,\n",
       "  'floor': 0.9782495791983941,\n",
       "  'wall': 0.866194353401721,\n",
       "  'beam': 0.7548463763700046,\n",
       "  'column': 0.5590094324535396,\n",
       "  'window': 0.7108850035359222,\n",
       "  'door': 0.8118970922462786,\n",
       "  'chair': 0.8361459999351163,\n",
       "  'table': 0.742840383699517,\n",
       "  'bookcase': 0.7397595181014872,\n",
       "  'sofa': 0.7330763238992631,\n",
       "  'board': 0.8483226970848722,\n",
       "  'clutter': 0.7480514014892384},\n",
       " 'test_vote_miou': 78.735769461432,\n",
       " 'test_vote_iou': {'ceiling': 91.87428498775748,\n",
       "  'floor': 95.93093299348196,\n",
       "  'wall': 84.47802297801847,\n",
       "  'beam': 76.69279373965662,\n",
       "  'column': 58.69167768109165,\n",
       "  'window': 75.64636440268535,\n",
       "  'door': 80.56084495366306,\n",
       "  'chair': 83.1532941102702,\n",
       "  'table': 73.43469793848384,\n",
       "  'bookcase': 74.4067139933024,\n",
       "  'sofa': 72.92154666737615,\n",
       "  'board': 80.64132173967724,\n",
       "  'clutter': 75.13250681315183}}"
      ]
     },
     "execution_count": 19,
     "metadata": {},
     "output_type": "execute_result"
    }
   ],
   "source": [
    "# 5 votes, no aug\n",
    "trainer._tracker.get_metrics(True)"
   ]
  },
  {
   "cell_type": "code",
   "execution_count": null,
   "metadata": {},
   "outputs": [],
   "source": []
  },
  {
   "cell_type": "code",
   "execution_count": null,
   "metadata": {},
   "outputs": [],
   "source": []
  },
  {
   "cell_type": "code",
   "execution_count": null,
   "metadata": {},
   "outputs": [],
   "source": []
  },
  {
   "cell_type": "code",
   "execution_count": 12,
   "metadata": {},
   "outputs": [],
   "source": [
    "# trainer._tracker._compute_full_miou()"
   ]
  },
  {
   "cell_type": "code",
   "execution_count": null,
   "metadata": {},
   "outputs": [],
   "source": []
  },
  {
   "cell_type": "code",
   "execution_count": 115,
   "metadata": {},
   "outputs": [
    {
     "data": {
      "text/plain": [
       "3426294"
      ]
     },
     "execution_count": 115,
     "metadata": {},
     "output_type": "execute_result"
    }
   ],
   "source": [
    "torch.where(trainer._tracker._test_area.prediction_count > 0)[0].shape[0]"
   ]
  },
  {
   "cell_type": "code",
   "execution_count": 116,
   "metadata": {},
   "outputs": [
    {
     "data": {
      "text/plain": [
       "0.9999988325592228"
      ]
     },
     "execution_count": 116,
     "metadata": {},
     "output_type": "execute_result"
    }
   ],
   "source": [
    "torch.where(trainer._tracker._test_area.prediction_count > 0)[0].shape[0] / torch.sort(trainer._dataset.test_dataset[0]._datas[0].origin_id).values.shape[0]"
   ]
  },
  {
   "cell_type": "code",
   "execution_count": null,
   "metadata": {},
   "outputs": [],
   "source": []
  },
  {
   "cell_type": "code",
   "execution_count": 13,
   "metadata": {},
   "outputs": [
    {
     "data": {
      "text/plain": [
       "{'test_loss_seg': 0.5434954519626538,\n",
       " 'test_loss_cross_entropy': 0.5434954519626538,\n",
       " 'test_acc': 89.34545678736748,\n",
       " 'test_macc': 72.98235657071672,\n",
       " 'test_miou': 66.74547850650198,\n",
       " 'test_miou_per_class': {0: '91.45',\n",
       "  1: '97.83',\n",
       "  2: '84.53',\n",
       "  3: '0.16',\n",
       "  4: '23.02',\n",
       "  5: '69.52',\n",
       "  6: '72.17',\n",
       "  7: '86.42',\n",
       "  8: '79.22',\n",
       "  9: '77.19',\n",
       "  10: '47.09',\n",
       "  11: '80.24',\n",
       "  12: '58.85'},\n",
       " 'test_iou': {'ceiling': 0.914472306349562,\n",
       "  'floor': 0.9783106322988362,\n",
       "  'wall': 0.8453092764997312,\n",
       "  'beam': 0.0016135625320991955,\n",
       "  'column': 0.2302064261667585,\n",
       "  'window': 0.6952422980180125,\n",
       "  'door': 0.7216831587472861,\n",
       "  'chair': 0.8641682205448308,\n",
       "  'table': 0.7921826703968298,\n",
       "  'bookcase': 0.7718992524432137,\n",
       "  'sofa': 0.47091768365224684,\n",
       "  'board': 0.8024107631248552,\n",
       "  'clutter': 0.5884959550709958},\n",
       " 'test_full_vote_miou': 66.77704077726602,\n",
       " 'test_full_vote_iou': {'ceiling': 88.02675251777195,\n",
       "  'floor': 96.8831018985242,\n",
       "  'wall': 84.34337034480532,\n",
       "  'beam': 0.08780188544960096,\n",
       "  'column': 22.435631683441088,\n",
       "  'window': 68.35196185621314,\n",
       "  'door': 71.55806389168391,\n",
       "  'chair': 86.80241664953616,\n",
       "  'table': 79.36551094632316,\n",
       "  'bookcase': 76.44894762002104,\n",
       "  'sofa': 51.69858121618473,\n",
       "  'board': 81.55610596476726,\n",
       "  'clutter': 60.54328362973654},\n",
       " 'test_vote_miou': 66.02108138421421,\n",
       " 'test_vote_iou': {'ceiling': 87.11472419835292,\n",
       "  'floor': 96.117706754439,\n",
       "  'wall': 83.50190283726292,\n",
       "  'beam': 0.11023432720905707,\n",
       "  'column': 21.622573370828636,\n",
       "  'window': 64.35714776055177,\n",
       "  'door': 72.23466984709141,\n",
       "  'chair': 86.9762081853749,\n",
       "  'table': 77.68411117225335,\n",
       "  'bookcase': 76.84733701475469,\n",
       "  'sofa': 50.56918193470563,\n",
       "  'board': 79.96787329234208,\n",
       "  'clutter': 61.17038729961859}}"
      ]
     },
     "execution_count": 13,
     "metadata": {},
     "output_type": "execute_result"
    }
   ],
   "source": [
    "trainer._tracker.get_metrics(True)"
   ]
  },
  {
   "cell_type": "code",
   "execution_count": null,
   "metadata": {},
   "outputs": [],
   "source": []
  },
  {
   "cell_type": "code",
   "execution_count": 120,
   "metadata": {},
   "outputs": [
    {
     "data": {
      "text/plain": [
       "{'test_loss_seg': 0.5375950046358123,\n",
       " 'test_loss_cross_entropy': 0.5375950046358123,\n",
       " 'test_acc': 89.59099034249877,\n",
       " 'test_macc': 73.67727153829946,\n",
       " 'test_miou': 67.48003781030523,\n",
       " 'test_miou_per_class': {0: '91.55',\n",
       "  1: '97.90',\n",
       "  2: '84.56',\n",
       "  3: '0.04',\n",
       "  4: '26.73',\n",
       "  5: '70.85',\n",
       "  6: '74.79',\n",
       "  7: '86.70',\n",
       "  8: '79.83',\n",
       "  9: '77.44',\n",
       "  10: '46.98',\n",
       "  11: '80.89',\n",
       "  12: '58.99'},\n",
       " 'test_iou': {'ceiling': 0.915466833857533,\n",
       "  'floor': 0.9790189737368131,\n",
       "  'wall': 0.8456038040019893,\n",
       "  'beam': 0.00042497034968162685,\n",
       "  'column': 0.2672596656824558,\n",
       "  'window': 0.7085223612249869,\n",
       "  'door': 0.7478634101375291,\n",
       "  'chair': 0.8669852044327894,\n",
       "  'table': 0.79826439224766,\n",
       "  'bookcase': 0.7743756806214163,\n",
       "  'sofa': 0.4697907626799455,\n",
       "  'board': 0.8089270233610772,\n",
       "  'clutter': 0.5899018330058045},\n",
       " 'test_full_vote_miou': 66.64390940373005,\n",
       " 'test_full_vote_iou': {'ceiling': 87.48702480947411,\n",
       "  'floor': 96.81578642741313,\n",
       "  'wall': 84.00539715479997,\n",
       "  'beam': 0.02341722677611923,\n",
       "  'column': 27.244434275924252,\n",
       "  'window': 68.7319270226581,\n",
       "  'door': 72.26425560394316,\n",
       "  'chair': 86.04512080065479,\n",
       "  'table': 78.64680935330848,\n",
       "  'bookcase': 76.06916944558724,\n",
       "  'sofa': 48.72677845463153,\n",
       "  'board': 81.08649842461384,\n",
       "  'clutter': 59.22420324870609},\n",
       " 'test_vote_miou': 65.86830409845655,\n",
       " 'test_vote_iou': {'ceiling': 86.49392019919611,\n",
       "  'floor': 96.03240934056834,\n",
       "  'wall': 83.04263789256039,\n",
       "  'beam': 0.032766399737823124,\n",
       "  'column': 26.16748309600423,\n",
       "  'window': 64.89485990391265,\n",
       "  'door': 73.026333086496,\n",
       "  'chair': 86.15854307964429,\n",
       "  'table': 76.99609510481832,\n",
       "  'bookcase': 76.48902406189725,\n",
       "  'sofa': 47.7061724909451,\n",
       "  'board': 79.43472308410078,\n",
       "  'clutter': 59.81298554005395}}"
      ]
     },
     "execution_count": 120,
     "metadata": {},
     "output_type": "execute_result"
    }
   ],
   "source": [
    "trainer._tracker.get_metrics(True)"
   ]
  },
  {
   "cell_type": "code",
   "execution_count": null,
   "metadata": {},
   "outputs": [],
   "source": []
  },
  {
   "cell_type": "code",
   "execution_count": 93,
   "metadata": {},
   "outputs": [
    {
     "data": {
      "text/plain": [
       "{'test_loss_seg': 0.5345454134076595,\n",
       " 'test_acc': 89.71949777070816,\n",
       " 'test_macc': 74.0860563615468,\n",
       " 'test_miou': 67.82514231377857,\n",
       " 'test_miou_per_class': {0: '92.69',\n",
       "  1: '97.82',\n",
       "  2: '84.30',\n",
       "  3: '0.06',\n",
       "  4: '27.97',\n",
       "  5: '72.45',\n",
       "  6: '72.93',\n",
       "  7: '86.91',\n",
       "  8: '79.43',\n",
       "  9: '78.60',\n",
       "  10: '46.37',\n",
       "  11: '81.59',\n",
       "  12: '60.62'},\n",
       " 'test_vote_miou': 65.72423089183542,\n",
       " 'test_vote_iou_per_class': {0: '86.29',\n",
       "  1: '95.90',\n",
       "  2: '83.05',\n",
       "  3: '0.10',\n",
       "  4: '27.09',\n",
       "  5: '64.64',\n",
       "  6: '72.39',\n",
       "  7: '86.02',\n",
       "  8: '76.82',\n",
       "  9: '76.30',\n",
       "  10: '47.90',\n",
       "  11: '78.60',\n",
       "  12: '59.33'}}"
      ]
     },
     "execution_count": 93,
     "metadata": {},
     "output_type": "execute_result"
    }
   ],
   "source": [
    "trainer._tracker.get_metrics(True)"
   ]
  },
  {
   "cell_type": "code",
   "execution_count": 87,
   "metadata": {},
   "outputs": [
    {
     "data": {
      "text/plain": [
       "{'test_loss_seg': 0.5346095589654787,\n",
       " 'test_acc': 89.71722095577722,\n",
       " 'test_macc': 74.0916494826371,\n",
       " 'test_miou': 67.81836308540296,\n",
       " 'test_miou_per_class': {0: '92.69',\n",
       "  1: '97.82',\n",
       "  2: '84.30',\n",
       "  3: '0.06',\n",
       "  4: '28.01',\n",
       "  5: '72.42',\n",
       "  6: '72.88',\n",
       "  7: '86.91',\n",
       "  8: '79.46',\n",
       "  9: '78.58',\n",
       "  10: '46.27',\n",
       "  11: '81.61',\n",
       "  12: '60.62'},\n",
       " 'test_vote_miou': 65.70015265055065,\n",
       " 'test_vote_iou_per_class': {0: '86.25',\n",
       "  1: '95.92',\n",
       "  2: '83.03',\n",
       "  3: '0.11',\n",
       "  4: '27.18',\n",
       "  5: '64.77',\n",
       "  6: '72.35',\n",
       "  7: '85.88',\n",
       "  8: '76.73',\n",
       "  9: '76.21',\n",
       "  10: '47.88',\n",
       "  11: '78.56',\n",
       "  12: '59.23'}}"
      ]
     },
     "execution_count": 87,
     "metadata": {},
     "output_type": "execute_result"
    }
   ],
   "source": [
    "trainer._tracker.get_metrics(True)"
   ]
  },
  {
   "cell_type": "code",
   "execution_count": null,
   "metadata": {},
   "outputs": [],
   "source": []
  },
  {
   "cell_type": "code",
   "execution_count": 84,
   "metadata": {},
   "outputs": [
    {
     "data": {
      "text/plain": [
       "{'test_loss_seg': 0.5346826882837787,\n",
       " 'test_acc': 89.71763612624306,\n",
       " 'test_macc': 74.08052939533707,\n",
       " 'test_miou': 67.8131151702431,\n",
       " 'test_miou_per_class': {0: '92.68',\n",
       "  1: '97.81',\n",
       "  2: '84.30',\n",
       "  3: '0.06',\n",
       "  4: '27.94',\n",
       "  5: '72.43',\n",
       "  6: '72.91',\n",
       "  7: '86.89',\n",
       "  8: '79.43',\n",
       "  9: '78.61',\n",
       "  10: '46.25',\n",
       "  11: '81.62',\n",
       "  12: '60.62'},\n",
       " 'test_full_vote_miou': 66.52683527243948,\n",
       " 'test_full_vote_iou_per_class': {0: '87.36',\n",
       "  1: '96.71',\n",
       "  2: '84.04',\n",
       "  3: '0.10',\n",
       "  4: '28.23',\n",
       "  5: '68.46',\n",
       "  6: '71.69',\n",
       "  7: '85.89',\n",
       "  8: '78.51',\n",
       "  9: '75.90',\n",
       "  10: '48.86',\n",
       "  11: '80.27',\n",
       "  12: '58.83'},\n",
       " 'test_vote_miou': 65.72050203821799,\n",
       " 'test_vote_iou_per_class': {0: '86.31',\n",
       "  1: '95.89',\n",
       "  2: '83.06',\n",
       "  3: '0.11',\n",
       "  4: '27.14',\n",
       "  5: '64.59',\n",
       "  6: '72.32',\n",
       "  7: '86.06',\n",
       "  8: '76.82',\n",
       "  9: '76.31',\n",
       "  10: '47.77',\n",
       "  11: '78.61',\n",
       "  12: '59.36'}}"
      ]
     },
     "execution_count": 84,
     "metadata": {},
     "output_type": "execute_result"
    }
   ],
   "source": [
    "trainer._tracker.get_metrics(True)"
   ]
  },
  {
   "cell_type": "code",
   "execution_count": null,
   "metadata": {},
   "outputs": [],
   "source": []
  },
  {
   "cell_type": "code",
   "execution_count": 77,
   "metadata": {},
   "outputs": [
    {
     "data": {
      "text/plain": [
       "{'test_loss_seg': 0.5348342829901324,\n",
       " 'test_acc': 89.71561097129747,\n",
       " 'test_macc': 74.07859005590113,\n",
       " 'test_miou': 67.81756718593577,\n",
       " 'test_miou_per_class': {0: '92.67',\n",
       "  1: '97.82',\n",
       "  2: '84.30',\n",
       "  3: '0.05',\n",
       "  4: '27.93',\n",
       "  5: '72.46',\n",
       "  6: '72.93',\n",
       "  7: '86.89',\n",
       "  8: '79.43',\n",
       "  9: '78.60',\n",
       "  10: '46.33',\n",
       "  11: '81.61',\n",
       "  12: '60.60'},\n",
       " 'test_full_vote_miou': 66.51553635379987,\n",
       " 'test_full_vote_iou_per_class': {0: '87.34',\n",
       "  1: '96.71',\n",
       "  2: '84.02',\n",
       "  3: '0.08',\n",
       "  4: '28.17',\n",
       "  5: '68.45',\n",
       "  6: '71.73',\n",
       "  7: '85.84',\n",
       "  8: '78.51',\n",
       "  9: '75.88',\n",
       "  10: '48.96',\n",
       "  11: '80.26',\n",
       "  12: '58.78'},\n",
       " 'test_vote_miou': 65.71611592024273,\n",
       " 'test_vote_iou_per_class': {0: '86.28',\n",
       "  1: '95.90',\n",
       "  2: '83.04',\n",
       "  3: '0.08',\n",
       "  4: '27.06',\n",
       "  5: '64.60',\n",
       "  6: '72.37',\n",
       "  7: '86.02',\n",
       "  8: '76.83',\n",
       "  9: '76.30',\n",
       "  10: '47.92',\n",
       "  11: '78.59',\n",
       "  12: '59.32'}}"
      ]
     },
     "execution_count": 77,
     "metadata": {},
     "output_type": "execute_result"
    }
   ],
   "source": [
    "trainer._tracker.get_metrics(True)"
   ]
  },
  {
   "cell_type": "code",
   "execution_count": null,
   "metadata": {},
   "outputs": [],
   "source": []
  },
  {
   "cell_type": "code",
   "execution_count": 63,
   "metadata": {},
   "outputs": [
    {
     "data": {
      "text/plain": [
       "{'test_loss_seg': 0.7711841577788195,\n",
       " 'test_acc': 85.96227693697763,\n",
       " 'test_macc': 68.48506462081653,\n",
       " 'test_miou': 56.481555034279666,\n",
       " 'test_miou_per_class': {0: '5.58',\n",
       "  1: '97.64',\n",
       "  2: '74.47',\n",
       "  3: '0.00',\n",
       "  4: '26.20',\n",
       "  5: '81.87',\n",
       "  6: '77.29',\n",
       "  7: '85.97',\n",
       "  8: '78.95',\n",
       "  9: '64.79',\n",
       "  10: '16.65',\n",
       "  11: '75.79',\n",
       "  12: '49.05'},\n",
       " 'test_vote_miou': 54.50633262525753,\n",
       " 'test_vote_iou_per_class': {0: '1.45',\n",
       "  1: '94.26',\n",
       "  2: '74.99',\n",
       "  3: '0.00',\n",
       "  4: '27.12',\n",
       "  5: '81.60',\n",
       "  6: '78.41',\n",
       "  7: '83.35',\n",
       "  8: '71.36',\n",
       "  9: '64.60',\n",
       "  10: '14.40',\n",
       "  11: '71.00',\n",
       "  12: '46.05'}}"
      ]
     },
     "execution_count": 63,
     "metadata": {},
     "output_type": "execute_result"
    }
   ],
   "source": [
    "trainer._tracker.get_metrics(True)"
   ]
  },
  {
   "cell_type": "code",
   "execution_count": 58,
   "metadata": {},
   "outputs": [
    {
     "data": {
      "text/plain": [
       "{'test_loss_seg': 0.7795100504159929,\n",
       " 'test_acc': 85.86616218658234,\n",
       " 'test_macc': 68.68053049988289,\n",
       " 'test_miou': 56.653280833336005,\n",
       " 'test_miou_per_class': {0: '6.49',\n",
       "  1: '97.64',\n",
       "  2: '73.81',\n",
       "  3: '0.00',\n",
       "  4: '25.55',\n",
       "  5: '82.04',\n",
       "  6: '77.72',\n",
       "  7: '85.81',\n",
       "  8: '78.56',\n",
       "  9: '64.68',\n",
       "  10: '17.12',\n",
       "  11: '78.19',\n",
       "  12: '48.88'},\n",
       " 'test_iou_per_class': {'ceiling': 0.06492463311544738,\n",
       "  'floor': 0.9763536083742955,\n",
       "  'wall': 0.7381445436394688,\n",
       "  'beam': 1e-08,\n",
       "  'column': 0.2554908212952687,\n",
       "  'window': 0.8204162844481365,\n",
       "  'door': 0.7771664474138461,\n",
       "  'chair': 0.8581112769470045,\n",
       "  'table': 0.7855755458906766,\n",
       "  'bookcase': 0.6467820622143373,\n",
       "  'sofa': 0.1712139285445409,\n",
       "  'board': 0.7819367402579196,\n",
       "  'clutter': 0.4888106061927395},\n",
       " 'test_vote_miou': 54.58132131571959,\n",
       " 'test_vote_iou_per_class': {0: '1.54',\n",
       "  1: '94.28',\n",
       "  2: '74.06',\n",
       "  3: '0.00',\n",
       "  4: '25.66',\n",
       "  5: '81.82',\n",
       "  6: '77.77',\n",
       "  7: '83.25',\n",
       "  8: '71.11',\n",
       "  9: '63.75',\n",
       "  10: '16.21',\n",
       "  11: '74.46',\n",
       "  12: '45.64'},\n",
       " 'test_vote_logits_miou': 0.4185854243574926,\n",
       " 'test_vote_logits_iou_per_class': {0: '5.02',\n",
       "  1: '0.00',\n",
       "  2: '0.00',\n",
       "  3: '0.00',\n",
       "  4: '0.00',\n",
       "  5: '0.00',\n",
       "  6: '0.00',\n",
       "  7: '0.00',\n",
       "  8: '0.00',\n",
       "  9: '0.00',\n",
       "  10: '0.00',\n",
       "  11: '0.00',\n",
       "  12: '0.00'}}"
      ]
     },
     "execution_count": 58,
     "metadata": {},
     "output_type": "execute_result"
    }
   ],
   "source": [
    "trainer._tracker.get_metrics(True)"
   ]
  },
  {
   "cell_type": "code",
   "execution_count": 43,
   "metadata": {},
   "outputs": [
    {
     "data": {
      "text/plain": [
       "54.4874535415312"
      ]
     },
     "execution_count": 43,
     "metadata": {},
     "output_type": "execute_result"
    }
   ],
   "source": [
    "trainer._tracker.get_metrics(True)['test_vote_miou']"
   ]
  },
  {
   "cell_type": "code",
   "execution_count": 38,
   "metadata": {},
   "outputs": [
    {
     "data": {
      "text/plain": [
       "54.98434225685279"
      ]
     },
     "execution_count": 38,
     "metadata": {},
     "output_type": "execute_result"
    }
   ],
   "source": [
    "trainer._tracker.get_metrics(True)['test_vote_miou']"
   ]
  },
  {
   "cell_type": "code",
   "execution_count": 35,
   "metadata": {},
   "outputs": [
    {
     "data": {
      "text/plain": [
       "{'test_loss_seg': 0.7729578473716977,\n",
       " 'test_acc': 86.01149762819065,\n",
       " 'test_macc': 68.77769129863522,\n",
       " 'test_miou': 56.75051956445984,\n",
       " 'test_miou_per_class': {0: '6.50',\n",
       "  1: '97.63',\n",
       "  2: '74.43',\n",
       "  3: '0.00',\n",
       "  4: '26.70',\n",
       "  5: '81.89',\n",
       "  6: '76.94',\n",
       "  7: '86.04',\n",
       "  8: '79.01',\n",
       "  9: '64.93',\n",
       "  10: '17.41',\n",
       "  11: '77.01',\n",
       "  12: '49.27'},\n",
       " 'test_iou_per_class': {'ceiling': 0.06497585541060186,\n",
       "  'floor': 0.9762933174786015,\n",
       "  'wall': 0.7442718833541156,\n",
       "  'beam': 1e-08,\n",
       "  'column': 0.26702636847887407,\n",
       "  'window': 0.8189266522721443,\n",
       "  'door': 0.7694081321061437,\n",
       "  'chair': 0.8603631616795138,\n",
       "  'table': 0.7900740201738135,\n",
       "  'bookcase': 0.6492616555753193,\n",
       "  'sofa': 0.1741042445276164,\n",
       "  'board': 0.770124351614665,\n",
       "  'clutter': 0.49273789070837126},\n",
       " 'test_vote_miou': 54.67553370756352,\n",
       " 'test_vote_iou_per_class': {0: '1.72',\n",
       "  1: '94.29',\n",
       "  2: '74.93',\n",
       "  3: '0.00',\n",
       "  4: '27.46',\n",
       "  5: '81.64',\n",
       "  6: '77.82',\n",
       "  7: '83.46',\n",
       "  8: '71.35',\n",
       "  9: '64.86',\n",
       "  10: '14.57',\n",
       "  11: '72.68',\n",
       "  12: '46.00'},\n",
       " 'test_vote_logits_miou': 54.707590027475426,\n",
       " 'test_vote_logits_iou_per_class': {0: '1.72',\n",
       "  1: '94.29',\n",
       "  2: '74.94',\n",
       "  3: '0.00',\n",
       "  4: '27.52',\n",
       "  5: '81.68',\n",
       "  6: '77.94',\n",
       "  7: '83.44',\n",
       "  8: '71.33',\n",
       "  9: '64.84',\n",
       "  10: '14.61',\n",
       "  11: '72.87',\n",
       "  12: '46.02'}}"
      ]
     },
     "execution_count": 35,
     "metadata": {},
     "output_type": "execute_result"
    }
   ],
   "source": [
    "trainer._tracker.get_metrics(True)"
   ]
  },
  {
   "cell_type": "code",
   "execution_count": 28,
   "metadata": {},
   "outputs": [
    {
     "data": {
      "text/plain": [
       "{'test_loss_seg': 0.7796327560146651,\n",
       " 'test_acc': 85.86740456290943,\n",
       " 'test_macc': 68.51424123276543,\n",
       " 'test_miou': 56.49326324598633,\n",
       " 'test_miou_per_class': {0: '6.38',\n",
       "  1: '97.63',\n",
       "  2: '74.43',\n",
       "  3: '0.00',\n",
       "  4: '26.36',\n",
       "  5: '81.95',\n",
       "  6: '76.56',\n",
       "  7: '85.85',\n",
       "  8: '78.83',\n",
       "  9: '64.38',\n",
       "  10: '17.75',\n",
       "  11: '75.34',\n",
       "  12: '48.95'},\n",
       " 'test_iou_per_class': {'ceiling': 0.0637840841237654,\n",
       "  'floor': 0.9763090961862256,\n",
       "  'wall': 0.7442872684529495,\n",
       "  'beam': 1e-08,\n",
       "  'column': 0.2636060323985369,\n",
       "  'window': 0.8195465679520297,\n",
       "  'door': 0.7655539094171367,\n",
       "  'chair': 0.8584893521035004,\n",
       "  'table': 0.7883127640601619,\n",
       "  'bookcase': 0.643776916797009,\n",
       "  'sofa': 0.1775320634562258,\n",
       "  'board': 0.7534166716346129,\n",
       "  'clutter': 0.4895094853960687},\n",
       " 'test_vote_miou': 54.424085545946575,\n",
       " 'test_vote_iou_per_class': {0: '1.68',\n",
       "  1: '94.26',\n",
       "  2: '74.89',\n",
       "  3: '0.00',\n",
       "  4: '27.47',\n",
       "  5: '81.69',\n",
       "  6: '76.94',\n",
       "  7: '83.36',\n",
       "  8: '71.08',\n",
       "  9: '64.34',\n",
       "  10: '15.51',\n",
       "  11: '70.66',\n",
       "  12: '45.63'},\n",
       " 'test_vote_logits_miou': 54.45706013332378,\n",
       " 'test_vote_logits_iou_per_class': {0: '1.68',\n",
       "  1: '94.27',\n",
       "  2: '74.91',\n",
       "  3: '0.00',\n",
       "  4: '27.52',\n",
       "  5: '81.67',\n",
       "  6: '76.97',\n",
       "  7: '83.46',\n",
       "  8: '71.14',\n",
       "  9: '64.35',\n",
       "  10: '15.86',\n",
       "  11: '70.49',\n",
       "  12: '45.61'}}"
      ]
     },
     "execution_count": 28,
     "metadata": {},
     "output_type": "execute_result"
    }
   ],
   "source": [
    "trainer._tracker.get_metrics(True)"
   ]
  },
  {
   "cell_type": "code",
   "execution_count": null,
   "metadata": {},
   "outputs": [],
   "source": []
  },
  {
   "cell_type": "code",
   "execution_count": 23,
   "metadata": {},
   "outputs": [
    {
     "data": {
      "text/plain": [
       "{'test_loss_seg': 0.7693572307129701,\n",
       " 'test_acc': 86.06494239891575,\n",
       " 'test_macc': 68.9100566275572,\n",
       " 'test_miou': 56.829915964639696,\n",
       " 'test_miou_per_class': {0: '5.59',\n",
       "  1: '97.64',\n",
       "  2: '74.52',\n",
       "  3: '0.00',\n",
       "  4: '27.42',\n",
       "  5: '81.90',\n",
       "  6: '76.68',\n",
       "  7: '85.98',\n",
       "  8: '79.21',\n",
       "  9: '65.38',\n",
       "  10: '18.95',\n",
       "  11: '76.28',\n",
       "  12: '49.23'},\n",
       " 'test_iou_per_class': {'ceiling': 0.05593661518075785,\n",
       "  'floor': 0.976427025013466,\n",
       "  'wall': 0.7451621007037746,\n",
       "  'beam': 1e-08,\n",
       "  'column': 0.2742451895187373,\n",
       "  'window': 0.8190323636072838,\n",
       "  'door': 0.7668459050412881,\n",
       "  'chair': 0.8597656908114887,\n",
       "  'table': 0.7920553381494594,\n",
       "  'bookcase': 0.6537818880631856,\n",
       "  'sofa': 0.1895380991547169,\n",
       "  'board': 0.7628096129472074,\n",
       "  'clutter': 0.4922892372117956},\n",
       " 'test_full_vote_miou': 12.64563421308831,\n",
       " 'test_full_vote_iou_per_class': {0: '0.72',\n",
       "  1: '22.17',\n",
       "  2: '26.88',\n",
       "  3: '0.00',\n",
       "  4: '5.78',\n",
       "  5: '21.49',\n",
       "  6: '12.07',\n",
       "  7: '20.58',\n",
       "  8: '17.38',\n",
       "  9: '10.94',\n",
       "  10: '3.11',\n",
       "  11: '15.29',\n",
       "  12: '7.98'},\n",
       " 'test_vote_miou': 54.81810350273661,\n",
       " 'test_vote_iou_per_class': {0: '1.47',\n",
       "  1: '94.29',\n",
       "  2: '75.06',\n",
       "  3: '0.00',\n",
       "  4: '28.33',\n",
       "  5: '81.73',\n",
       "  6: '76.83',\n",
       "  7: '83.59',\n",
       "  8: '71.90',\n",
       "  9: '65.12',\n",
       "  10: '16.43',\n",
       "  11: '71.93',\n",
       "  12: '45.96'},\n",
       " 'test_full_vote_logits_miou': 12.645034958618787,\n",
       " 'test_full_vote_logits_iou_per_class': {0: '0.72',\n",
       "  1: '22.17',\n",
       "  2: '26.88',\n",
       "  3: '0.00',\n",
       "  4: '5.79',\n",
       "  5: '21.49',\n",
       "  6: '12.10',\n",
       "  7: '20.58',\n",
       "  8: '17.39',\n",
       "  9: '10.94',\n",
       "  10: '3.09',\n",
       "  11: '15.25',\n",
       "  12: '7.98'},\n",
       " 'test_vote_logits_miou': 54.83914372795582,\n",
       " 'test_vote_logits_iou_per_class': {0: '1.47',\n",
       "  1: '94.29',\n",
       "  2: '75.10',\n",
       "  3: '0.00',\n",
       "  4: '28.46',\n",
       "  5: '81.74',\n",
       "  6: '77.16',\n",
       "  7: '83.63',\n",
       "  8: '71.92',\n",
       "  9: '65.10',\n",
       "  10: '16.29',\n",
       "  11: '71.73',\n",
       "  12: '46.01'}}"
      ]
     },
     "execution_count": 23,
     "metadata": {},
     "output_type": "execute_result"
    }
   ],
   "source": [
    "trainer._tracker.get_metrics(True)"
   ]
  },
  {
   "cell_type": "code",
   "execution_count": null,
   "metadata": {},
   "outputs": [],
   "source": []
  },
  {
   "cell_type": "code",
   "execution_count": null,
   "metadata": {},
   "outputs": [],
   "source": []
  },
  {
   "cell_type": "code",
   "execution_count": null,
   "metadata": {},
   "outputs": [],
   "source": []
  },
  {
   "cell_type": "code",
   "execution_count": 16,
   "metadata": {},
   "outputs": [
    {
     "data": {
      "text/plain": [
       "{'test_loss_seg': 0.7699772521853447,\n",
       " 'test_acc': 86.05760108425571,\n",
       " 'test_macc': 68.62170718228533,\n",
       " 'test_miou': 56.65584448508215,\n",
       " 'test_miou_per_class': {0: '6.64',\n",
       "  1: '97.63',\n",
       "  2: '74.44',\n",
       "  3: '0.00',\n",
       "  4: '26.06',\n",
       "  5: '81.92',\n",
       "  6: '75.52',\n",
       "  7: '85.88',\n",
       "  8: '78.91',\n",
       "  9: '65.47',\n",
       "  10: '17.37',\n",
       "  11: '76.76',\n",
       "  12: '49.94'},\n",
       " 'test_iou_ceiling': 0.06636111003972427,\n",
       " 'test_iou_floor': 0.9762573123073262,\n",
       " 'test_iou_wall': 0.7443743920925954,\n",
       " 'test_iou_beam': 1e-08,\n",
       " 'test_iou_column': 0.2606155318553699,\n",
       " 'test_iou_window': 0.8191713644295758,\n",
       " 'test_iou_door': 0.7551890916034606,\n",
       " 'test_iou_chair': 0.8587555326841981,\n",
       " 'test_iou_table': 0.7891153464453161,\n",
       " 'test_iou_bookcase': 0.6547066898577806,\n",
       " 'test_iou_sofa': 0.17370988403459223,\n",
       " 'test_iou_board': 0.767628312459297,\n",
       " 'test_iou_clutter': 0.4993752052514449,\n",
       " 'test_iou_per_class': {'ceiling': 0.06636111003972427,\n",
       "  'floor': 0.9762573123073262,\n",
       "  'wall': 0.7443743920925954,\n",
       "  'beam': 1e-08,\n",
       "  'column': 0.2606155318553699,\n",
       "  'window': 0.8191713644295758,\n",
       "  'door': 0.7551890916034606,\n",
       "  'chair': 0.8587555326841981,\n",
       "  'table': 0.7891153464453161,\n",
       "  'bookcase': 0.6547066898577806,\n",
       "  'sofa': 0.17370988403459223,\n",
       "  'board': 0.767628312459297,\n",
       "  'clutter': 0.4993752052514449},\n",
       " 'test_vote_miou': 54.50093151976666,\n",
       " 'test_vote_iou_per_class': {0: '1.59',\n",
       "  1: '94.25',\n",
       "  2: '74.77',\n",
       "  3: '0.00',\n",
       "  4: '26.41',\n",
       "  5: '81.63',\n",
       "  6: '74.89',\n",
       "  7: '83.21',\n",
       "  8: '71.78',\n",
       "  9: '64.29',\n",
       "  10: '16.24',\n",
       "  11: '73.23',\n",
       "  12: '46.21'}}"
      ]
     },
     "execution_count": 16,
     "metadata": {},
     "output_type": "execute_result"
    }
   ],
   "source": [
    "trainer._tracker.get_metrics(True)"
   ]
  },
  {
   "cell_type": "code",
   "execution_count": null,
   "metadata": {},
   "outputs": [],
   "source": []
  },
  {
   "cell_type": "code",
   "execution_count": null,
   "metadata": {},
   "outputs": [],
   "source": []
  },
  {
   "cell_type": "code",
   "execution_count": 13,
   "metadata": {},
   "outputs": [
    {
     "data": {
      "text/plain": [
       "{'test_loss_seg': 0.5516111166172086,\n",
       " 'test_acc': 89.20331614509182,\n",
       " 'test_macc': 73.11371869835459,\n",
       " 'test_miou': 66.70007987440918,\n",
       " 'test_miou_per_class': {0: '92.45',\n",
       "  1: '97.74',\n",
       "  2: '83.78',\n",
       "  3: '0.28',\n",
       "  4: '24.50',\n",
       "  5: '71.83',\n",
       "  6: '67.21',\n",
       "  7: '86.63',\n",
       "  8: '78.40',\n",
       "  9: '77.81',\n",
       "  10: '46.03',\n",
       "  11: '80.61',\n",
       "  12: '59.83'},\n",
       " 'test_iou_ceiling': 0.9245136199869638,\n",
       " 'test_iou_floor': 0.9774060218755443,\n",
       " 'test_iou_wall': 0.8378253314710443,\n",
       " 'test_iou_beam': 0.002779881843196054,\n",
       " 'test_iou_column': 0.245009733888497,\n",
       " 'test_iou_window': 0.718307932941152,\n",
       " 'test_iou_door': 0.6721132387940401,\n",
       " 'test_iou_chair': 0.8662854223148914,\n",
       " 'test_iou_table': 0.7840026738704805,\n",
       " 'test_iou_bookcase': 0.7780842932351871,\n",
       " 'test_iou_sofa': 0.46030531913671724,\n",
       " 'test_iou_board': 0.8061114314045031,\n",
       " 'test_iou_clutter': 0.5982654829109781,\n",
       " 'test_iou_per_class': {'ceiling': 0.9245136199869638,\n",
       "  'floor': 0.9774060218755443,\n",
       "  'wall': 0.8378253314710443,\n",
       "  'beam': 0.002779881843196054,\n",
       "  'column': 0.245009733888497,\n",
       "  'window': 0.718307932941152,\n",
       "  'door': 0.6721132387940401,\n",
       "  'chair': 0.8662854223148914,\n",
       "  'table': 0.7840026738704805,\n",
       "  'bookcase': 0.7780842932351871,\n",
       "  'sofa': 0.46030531913671724,\n",
       "  'board': 0.8061114314045031,\n",
       "  'clutter': 0.5982654829109781},\n",
       " 'test_vote_miou': 65.85528499109834,\n",
       " 'test_vote_iou_per_class': {0: '86.91',\n",
       "  1: '96.07',\n",
       "  2: '83.40',\n",
       "  3: '0.26',\n",
       "  4: '21.93',\n",
       "  5: '64.36',\n",
       "  6: '70.77',\n",
       "  7: '87.09',\n",
       "  8: '77.40',\n",
       "  9: '76.80',\n",
       "  10: '50.34',\n",
       "  11: '80.04',\n",
       "  12: '60.75'}}"
      ]
     },
     "execution_count": 13,
     "metadata": {},
     "output_type": "execute_result"
    }
   ],
   "source": [
    "trainer._tracker.get_metrics(True)"
   ]
  },
  {
   "cell_type": "code",
   "execution_count": 14,
   "metadata": {},
   "outputs": [
    {
     "data": {
      "text/plain": [
       "tensor([21798872, 33427063, 29332455,  6303935, 50570005, 71653126,  1606158,\n",
       "         3613952, 29781089, 28150688, 31826932, 54248365, 31739728, 45256609,\n",
       "        43518224, 54570038, 55221606, 54579557,  9555843, 54580133, 27309346,\n",
       "        48981815, 57950985,  6881579, 51460524, 27725190, 24051681, 58389067,\n",
       "         8528712, 31870660, 35741446, 42253908, 74002003, 34736290,  1539696,\n",
       "        17629478, 70184933, 47133626, 33804447, 78020475, 51639541, 75635339,\n",
       "        61900714, 16151101, 69425569, 33048988, 62701500, 32790396, 62757665,\n",
       "         2085101,  8018284,  8008382, 53760888, 18980330, 53741965, 20814174,\n",
       "        52677337,  2901075, 57512102, 26885952, 76627927, 34442292, 33877672,\n",
       "        34470039,  3413249])"
      ]
     },
     "execution_count": 14,
     "metadata": {},
     "output_type": "execute_result"
    }
   ],
   "source": [
    "trainer._tracker.tracked_points"
   ]
  },
  {
   "cell_type": "code",
   "execution_count": 19,
   "metadata": {},
   "outputs": [
    {
     "data": {
      "text/plain": [
       "tensor([[   0.0000,    0.0000,    0.0000,  ...,    0.0000,    0.0000,\n",
       "            0.0000],\n",
       "        [   0.0000,    0.0000,    0.0000,  ...,    0.0000,    0.0000,\n",
       "            0.0000],\n",
       "        [   0.0000,    0.0000,    0.0000,  ...,    0.0000,    0.0000,\n",
       "            0.0000],\n",
       "        ...,\n",
       "        [   0.0000,    0.0000,    0.0000,  ...,    0.0000,    0.0000,\n",
       "            0.0000],\n",
       "        [   0.0000,    0.0000,    0.0000,  ...,    0.0000,    0.0000,\n",
       "            0.0000],\n",
       "        [-165.1426, -172.1137,  -72.2697,  ..., -161.6724, -134.5697,\n",
       "         -132.3147]])"
      ]
     },
     "execution_count": 19,
     "metadata": {},
     "output_type": "execute_result"
    }
   ],
   "source": [
    "trainer._tracker._test_area.votes"
   ]
  },
  {
   "cell_type": "code",
   "execution_count": 55,
   "metadata": {},
   "outputs": [],
   "source": [
    "has_prediction = trainer._tracker._test_area.prediction_count > 0"
   ]
  },
  {
   "cell_type": "code",
   "execution_count": 56,
   "metadata": {},
   "outputs": [
    {
     "data": {
      "text/plain": [
       "tensor([-0.0806, -0.1203, -0.0934,  ..., -0.2493, -0.9849, -1.0538])"
      ]
     },
     "execution_count": 56,
     "metadata": {},
     "output_type": "execute_result"
    }
   ],
   "source": [
    "trainer._tracker._test_area.votes[has_prediction].max(dim=1).values"
   ]
  },
  {
   "cell_type": "code",
   "execution_count": 57,
   "metadata": {},
   "outputs": [
    {
     "data": {
      "text/plain": [
       "tensor(1.7130)"
      ]
     },
     "execution_count": 57,
     "metadata": {},
     "output_type": "execute_result"
    }
   ],
   "source": [
    "trainer._tracker._test_area.prediction_count[has_prediction].float().mean()"
   ]
  },
  {
   "cell_type": "code",
   "execution_count": 36,
   "metadata": {},
   "outputs": [
    {
     "data": {
      "text/plain": [
       "Batch(_votes=[0], pos=[78649818, 3], prediction_count=[78649818], rgb=[78649818, 3], votes=[78649818, 13], y=[78649818])"
      ]
     },
     "execution_count": 36,
     "metadata": {},
     "output_type": "execute_result"
    }
   ],
   "source": [
    "trainer._tracker._test_area"
   ]
  },
  {
   "cell_type": "code",
   "execution_count": 37,
   "metadata": {},
   "outputs": [
    {
     "data": {
      "text/plain": [
       "tensor([0, 0, 0,  ..., 5, 5, 5])"
      ]
     },
     "execution_count": 37,
     "metadata": {},
     "output_type": "execute_result"
    }
   ],
   "source": [
    "trainer._tracker._test_area.y[has_prediction]"
   ]
  },
  {
   "cell_type": "code",
   "execution_count": null,
   "metadata": {},
   "outputs": [],
   "source": []
  },
  {
   "cell_type": "code",
   "execution_count": 44,
   "metadata": {},
   "outputs": [
    {
     "name": "stdout",
     "output_type": "stream",
     "text": [
      "tensor([0, 1, 2])\n",
      "tensor([1, 2, 2])\n"
     ]
    }
   ],
   "source": [
    "a = torch.arange(3)\n",
    "b = torch.LongTensor([1, 0, 1, 1, 1])\n",
    "print(a)\n",
    "a[b] += 1\n",
    "print(a)"
   ]
  },
  {
   "cell_type": "code",
   "execution_count": null,
   "metadata": {},
   "outputs": [],
   "source": []
  },
  {
   "cell_type": "code",
   "execution_count": null,
   "metadata": {},
   "outputs": [],
   "source": []
  },
  {
   "cell_type": "code",
   "execution_count": null,
   "metadata": {},
   "outputs": [],
   "source": []
  },
  {
   "cell_type": "code",
   "execution_count": 9,
   "metadata": {},
   "outputs": [
    {
     "data": {
      "text/plain": [
       "{'test_loss_seg': 0.5410348689952293,\n",
       " 'test_acc': 89.37068044068191,\n",
       " 'test_macc': 73.42683686131298,\n",
       " 'test_miou': 67.1288373763577,\n",
       " 'test_miou_per_class': {0: '92.40',\n",
       "  1: '97.71',\n",
       "  2: '83.87',\n",
       "  3: '0.13',\n",
       "  4: '27.50',\n",
       "  5: '72.48',\n",
       "  6: '68.87',\n",
       "  7: '86.66',\n",
       "  8: '78.80',\n",
       "  9: '78.31',\n",
       "  10: '45.19',\n",
       "  11: '80.57',\n",
       "  12: '60.19'},\n",
       " 'test_iou_per_class': {'ceiling': 0.924015897279107,\n",
       "  'floor': 0.977122361139335,\n",
       "  'wall': 0.83867233475217,\n",
       "  'beam': 0.001252350823969891,\n",
       "  'column': 0.2749623583000838,\n",
       "  'window': 0.7248315130134239,\n",
       "  'door': 0.6886631795011481,\n",
       "  'chair': 0.8665891781027597,\n",
       "  'table': 0.7880008707466383,\n",
       "  'bookcase': 0.7831452598054893,\n",
       "  'sofa': 0.45188094081135316,\n",
       "  'board': 0.8057357079783476,\n",
       "  'clutter': 0.6018769066726736},\n",
       " 'test_full_vote_miou': 66.59925256007342,\n",
       " 'test_vote_miou': 65.8572664590206}"
      ]
     },
     "execution_count": 9,
     "metadata": {},
     "output_type": "execute_result"
    }
   ],
   "source": [
    "# 3d-only train aug, 3 runs\n",
    "trainer._tracker.get_metrics(verbose=True)"
   ]
  },
  {
   "cell_type": "code",
   "execution_count": null,
   "metadata": {},
   "outputs": [],
   "source": []
  },
  {
   "cell_type": "code",
   "execution_count": 18,
   "metadata": {},
   "outputs": [
    {
     "data": {
      "text/plain": [
       "{'test_loss_seg': 0.5404121148843498,\n",
       " 'test_acc': 89.50866059750476,\n",
       " 'test_macc': 73.59207708304231,\n",
       " 'test_miou': 67.27609980508969,\n",
       " 'test_miou_per_class': {0: '92.61',\n",
       "  1: '97.80',\n",
       "  2: '83.96',\n",
       "  3: '0.08',\n",
       "  4: '27.49',\n",
       "  5: '72.44',\n",
       "  6: '70.19',\n",
       "  7: '86.60',\n",
       "  8: '79.05',\n",
       "  9: '78.39',\n",
       "  10: '44.96',\n",
       "  11: '80.90',\n",
       "  12: '60.11'},\n",
       " 'test_iou_per_class': {'ceiling': 0.9260538873625491,\n",
       "  'floor': 0.9780452902152748,\n",
       "  'wall': 0.8395811750825389,\n",
       "  'beam': 0.0008161474640181739,\n",
       "  'column': 0.27489026614735895,\n",
       "  'window': 0.7244173371388533,\n",
       "  'door': 0.701917350789978,\n",
       "  'chair': 0.8660155645109545,\n",
       "  'table': 0.7905473854901168,\n",
       "  'bookcase': 0.7838704299397383,\n",
       "  'sofa': 0.44961489533098664,\n",
       "  'board': 0.8090098352081287,\n",
       "  'clutter': 0.6011134099811641},\n",
       " 'test_full_vote_miou': 66.4098997046715,\n",
       " 'test_vote_miou': 65.61836098409874}"
      ]
     },
     "execution_count": 18,
     "metadata": {},
     "output_type": "execute_result"
    }
   ],
   "source": [
    "# 2d and 3d train aug, 3 runs\n",
    "trainer._tracker.get_metrics(verbose=True)"
   ]
  },
  {
   "cell_type": "code",
   "execution_count": null,
   "metadata": {},
   "outputs": [],
   "source": []
  },
  {
   "cell_type": "code",
   "execution_count": null,
   "metadata": {},
   "outputs": [],
   "source": []
  },
  {
   "cell_type": "code",
   "execution_count": 10,
   "metadata": {},
   "outputs": [
    {
     "data": {
      "text/plain": [
       "{'test_loss_seg': 0.5408402153787512,\n",
       " 'test_acc': 89.50441800294236,\n",
       " 'test_macc': 73.59545438316832,\n",
       " 'test_miou': 67.27720273454156,\n",
       " 'test_miou_per_class': {0: '92.58',\n",
       "  1: '97.81',\n",
       "  2: '83.94',\n",
       "  3: '0.08',\n",
       "  4: '27.57',\n",
       "  5: '72.45',\n",
       "  6: '69.89',\n",
       "  7: '86.60',\n",
       "  8: '79.09',\n",
       "  9: '78.33',\n",
       "  10: '45.32',\n",
       "  11: '80.66',\n",
       "  12: '60.29'},\n",
       " 'test_iou_per_class': {'ceiling': 0.9258343955677176,\n",
       "  'floor': 0.9780577311500906,\n",
       "  'wall': 0.839358624152682,\n",
       "  'beam': 0.0007660827965585151,\n",
       "  'column': 0.2756606379398916,\n",
       "  'window': 0.7245281349191418,\n",
       "  'door': 0.6988789939915359,\n",
       "  'chair': 0.8659848598513187,\n",
       "  'table': 0.7909276117883951,\n",
       "  'bookcase': 0.7833419557268848,\n",
       "  'sofa': 0.45319550945739834,\n",
       "  'board': 0.8066082129571315,\n",
       "  'clutter': 0.6028936051916562},\n",
       " 'test_full_vote_miou': 66.42841975738816,\n",
       " 'test_vote_miou': 65.65106117369578}"
      ]
     },
     "execution_count": 10,
     "metadata": {},
     "output_type": "execute_result"
    }
   ],
   "source": [
    "# no aug, 5 runs\n",
    "trainer._tracker.get_metrics(verbose=True)"
   ]
  },
  {
   "cell_type": "code",
   "execution_count": 13,
   "metadata": {},
   "outputs": [
    {
     "data": {
      "text/plain": [
       "{0: '87.35',\n",
       " 1: '96.72',\n",
       " 2: '84.00',\n",
       " 3: '0.07',\n",
       " 4: '27.96',\n",
       " 5: '68.48',\n",
       " 6: '70.97',\n",
       " 7: '85.83',\n",
       " 8: '78.41',\n",
       " 9: '75.93',\n",
       " 10: '48.83',\n",
       " 11: '80.06',\n",
       " 12: '58.95'}"
      ]
     },
     "execution_count": 13,
     "metadata": {},
     "output_type": "execute_result"
    }
   ],
   "source": [
    "{i: \"{:.2f}\".format(100 * v) for i, v in enumerate(trainer._tracker.full_confusion_matrix.get_intersection_union_per_class()[0])}"
   ]
  },
  {
   "cell_type": "code",
   "execution_count": null,
   "metadata": {},
   "outputs": [],
   "source": []
  },
  {
   "cell_type": "code",
   "execution_count": null,
   "metadata": {},
   "outputs": [],
   "source": []
  },
  {
   "cell_type": "code",
   "execution_count": 7,
   "metadata": {},
   "outputs": [
    {
     "data": {
      "text/plain": [
       "{'test_loss_seg': 0.5412074728576183,\n",
       " 'test_acc': 89.50644041748885,\n",
       " 'test_macc': 73.587772263621,\n",
       " 'test_miou': 67.29529259575797,\n",
       " 'test_miou_per_class': {0: '92.58',\n",
       "  1: '97.80',\n",
       "  2: '83.97',\n",
       "  3: '0.06',\n",
       "  4: '27.57',\n",
       "  5: '72.43',\n",
       "  6: '69.70',\n",
       "  7: '86.66',\n",
       "  8: '79.16',\n",
       "  9: '78.39',\n",
       "  10: '45.57',\n",
       "  11: '80.74',\n",
       "  12: '60.20'},\n",
       " 'test_iou_per_class': {'ceiling': 0.9258076660422176,\n",
       "  'floor': 0.9780228338128133,\n",
       "  'wall': 0.8396710805088385,\n",
       "  'beam': 0.0005957507807477139,\n",
       "  'column': 0.27570810501349496,\n",
       "  'window': 0.7243341686440086,\n",
       "  'door': 0.6970477207935556,\n",
       "  'chair': 0.8666226944076589,\n",
       "  'table': 0.7916377044422881,\n",
       "  'bookcase': 0.7838542925434459,\n",
       "  'sofa': 0.4556885954791953,\n",
       "  'board': 0.8074328002440686,\n",
       "  'clutter': 0.6019646247362049}}"
      ]
     },
     "execution_count": 7,
     "metadata": {},
     "output_type": "execute_result"
    }
   ],
   "source": [
    "# no aug, basic res, 5 runs\n",
    "trainer._tracker.get_metrics(verbose=True)"
   ]
  },
  {
   "cell_type": "code",
   "execution_count": null,
   "metadata": {},
   "outputs": [],
   "source": []
  },
  {
   "cell_type": "code",
   "execution_count": 16,
   "metadata": {},
   "outputs": [
    {
     "data": {
      "text/plain": [
       "0.655690671652356"
      ]
     },
     "execution_count": 16,
     "metadata": {},
     "output_type": "execute_result"
    }
   ],
   "source": [
    "trainer._tracker._confusion_matrix.get_average_intersection_union()"
   ]
  },
  {
   "cell_type": "code",
   "execution_count": 17,
   "metadata": {},
   "outputs": [
    {
     "data": {
      "text/plain": [
       "63.477841096249676"
      ]
     },
     "execution_count": 17,
     "metadata": {},
     "output_type": "execute_result"
    }
   ],
   "source": [
    "trainer._tracker._vote_miou"
   ]
  },
  {
   "cell_type": "code",
   "execution_count": 19,
   "metadata": {},
   "outputs": [
    {
     "data": {
      "text/plain": [
       "{'test_loss_seg': 0.6443870441913605,\n",
       " 'test_acc': 87.76017878375214,\n",
       " 'test_macc': 78.09775459845794,\n",
       " 'test_miou': 65.5690671652356,\n",
       " 'test_miou_per_class': {0: '91.51',\n",
       "  1: '97.47',\n",
       "  2: '82.13',\n",
       "  3: '0.00',\n",
       "  4: '33.56',\n",
       "  5: '75.56',\n",
       "  6: '68.70',\n",
       "  7: '84.71',\n",
       "  8: '80.33',\n",
       "  9: '73.13',\n",
       "  10: '44.35',\n",
       "  11: '67.40',\n",
       "  12: '53.55'},\n",
       " 'test_iou_per_class': {'ceiling': 0.9151453575260218,\n",
       "  'floor': 0.9747499295300937,\n",
       "  'wall': 0.8212637117565389,\n",
       "  'beam': 1e-08,\n",
       "  'column': 0.3355951342466767,\n",
       "  'window': 0.7555801801509413,\n",
       "  'door': 0.6869869797490971,\n",
       "  'chair': 0.8470596286627782,\n",
       "  'table': 0.8033196831874237,\n",
       "  'bookcase': 0.7312838087102287,\n",
       "  'sofa': 0.4435011391197315,\n",
       "  'board': 0.6739585007560484,\n",
       "  'clutter': 0.5355346680850476},\n",
       " 'test_full_vote_miou': 24.981851752918445,\n",
       " 'test_vote_miou': 63.477841096249676}"
      ]
     },
     "execution_count": 19,
     "metadata": {},
     "output_type": "execute_result"
    }
   ],
   "source": [
    "trainer._tracker.get_metrics(verbose=True)"
   ]
  },
  {
   "cell_type": "code",
   "execution_count": 23,
   "metadata": {},
   "outputs": [
    {
     "data": {
      "text/plain": [
       "4398610"
      ]
     },
     "execution_count": 23,
     "metadata": {},
     "output_type": "execute_result"
    }
   ],
   "source": [
    "trainer._tracker._confusion_matrix.confusion_matrix.sum()"
   ]
  },
  {
   "cell_type": "code",
   "execution_count": 25,
   "metadata": {},
   "outputs": [
    {
     "data": {
      "text/plain": [
       "Batch(pos=[78649818, 3], prediction_count=[78649818], rgb=[78649818, 3], votes=[78649818, 13], y=[78649818])"
      ]
     },
     "execution_count": 25,
     "metadata": {},
     "output_type": "execute_result"
    }
   ],
   "source": [
    "trainer._tracker._test_area"
   ]
  },
  {
   "cell_type": "code",
   "execution_count": 36,
   "metadata": {},
   "outputs": [
    {
     "data": {
      "text/plain": [
       "Batch(pos=[78649818, 3], rgb=[78649818, 3], y=[78649818])"
      ]
     },
     "execution_count": 36,
     "metadata": {},
     "output_type": "execute_result"
    }
   ],
   "source": [
    "trainer._dataset.test_data."
   ]
  },
  {
   "cell_type": "code",
   "execution_count": null,
   "metadata": {},
   "outputs": [],
   "source": []
  },
  {
   "cell_type": "code",
   "execution_count": null,
   "metadata": {},
   "outputs": [],
   "source": []
  },
  {
   "cell_type": "code",
   "execution_count": null,
   "metadata": {},
   "outputs": [],
   "source": []
  },
  {
   "cell_type": "markdown",
   "metadata": {},
   "source": [
    "### Pick-100 test set inference \n",
    "| Augmentations | Runs | Full Res | mIoU |\n",
    "| --- | :-: | :-: | --- |\n",
    "|  | 1 | | 64.16 - 63.71 |\n",
    "|  |  |  |  |\n",
    "|  | 1 | X | 64.16 |\n",
    "|  | 3 | X | 63.78 |\n",
    "|  | 5 | X | 63.79 |\n",
    "|  | 10 | X | 63.64 |\n",
    "|  |  |  |  |\n",
    "| credit /2 | 1 | | 63.85 - 63.58 - 63.94 |\n",
    "|  |  |  |  |\n",
    "| credit x2 | 1 | | 63.76 - 64.12 - 63.37 - 64.29 |\n",
    "| credit x2 | 3 | | 64.10 |\n",
    "| credit x2 | 5 | | 63.92 |\n",
    "|  |  |  |  |\n",
    "| credit x4 | 1 | | 63.36 - 63.66 |\n",
    "|  |  |  |  |\n",
    "| 2D | 1 | | 63.35 |\n",
    "| 2D | 3 | | 63.61 |\n",
    "| 2D | 5 | | 63.64 |\n",
    "| 2D | 10 | | 63.91 |\n",
    "|  |  |  |  |\n",
    "| 2D credit x2 | 1 | | 63.93 |\n",
    "| 2D credit x2 | 3 | | 63.97 |\n",
    "| 2D credit x2 | 5 | | 63.93 |\n",
    "| 2D credit x2 | 10 | | 63.92 |\n",
    "|  |  |  |  |\n",
    "| 2D less aug | 1 | | 63.73 |\n",
    "| 2D less aug | 3 | | 63.85 |\n",
    "| 2D less aug | 5 | | 63.91 |\n",
    "|  |  |  |  |\n",
    "| 2D more aug | 1 | | 64.03 |\n",
    "| 2D more aug | 3 | | 63.75 |\n",
    "| 2D more aug | 5 | | 63.78 |\n",
    "|  |  |  |  |\n",
    "| 3D | 1 | | 63.90 |\n",
    "| 3D | 3 | | 63.97 |\n",
    "| 3D | 5 | | 63.95 |\n",
    "| 3D | 10 | | 63.95 |\n",
    "|  |  |  |  |\n",
    "| 3D | 1 | X | ... |\n",
    "| 3D | 3 | X | ... |\n",
    "| 3D | 5 | X | ... |\n",
    "| 3D | 10 | X | ... |\n",
    "|  |  |  |  |\n",
    "| 2D-3D | 1 | | 63.46 |\n",
    "| 2D-3D | 3 | | 63.52 |\n",
    "| 2D-3D | 5 | | 63.74 |\n",
    "|  |  |  |  |\n",
    "| 2D-3D | 1 | X | 63.79 |\n",
    "| 2D-3D | 3 | X | 63.57 |\n",
    "| 2D-3D | 5 | X | 63.82 |\n",
    "| 2D-3D | 10 | X | 63.93 |\n",
    "|  |  |  |  |\n",
    "| 2D-3D use_coverage=F | 1 | X | 64.10 |\n",
    "| 2D-3D use_coverage=F | 3 | X | 64.18 |\n",
    "| 2D-3D use_coverage=F | 5 | X | 64.19 |\n",
    "| 2D-3D use_coverage=F | 10 | X | 63.95 |"
   ]
  },
  {
   "cell_type": "markdown",
   "metadata": {},
   "source": [
    "### Full test set inference \n",
    "| Augmentations | Runs | Full Res | mIoU |\n",
    "| --- | :-: | :-: | --- |\n",
    "|  | 1 | | 65.35 |\n",
    "|  | 1 | X | 65.24 |### Full test set inference \n",
    "| Augmentations | Runs | Full Res | mIoU |\n",
    "| --- | :-: | :-: | --- |\n",
    "|  | 1 | | 65.35 |\n",
    "|  | 1 | X | 65.24 |"
   ]
  },
  {
   "cell_type": "code",
   "execution_count": null,
   "metadata": {},
   "outputs": [],
   "source": []
  },
  {
   "cell_type": "markdown",
   "metadata": {},
   "source": [
    "Baseline for ResUNet34-L4-L0-128 on **subsampled** with **no test-time augmentation**: 65.2 mIoU"
   ]
  },
  {
   "cell_type": "code",
   "execution_count": 12,
   "metadata": {},
   "outputs": [
    {
     "data": {
      "text/plain": [
       "{'test_loss_seg': 0.5730561992951806,\n",
       " 'test_acc': 88.10689588334989,\n",
       " 'test_macc': 72.34868877204623,\n",
       " 'test_miou': 64.62987632054187,\n",
       " 'test_miou_per_class': {0: '89.34',\n",
       "  1: '97.55',\n",
       "  2: '83.45',\n",
       "  3: '0.86',\n",
       "  4: '27.14',\n",
       "  5: '67.68',\n",
       "  6: '63.00',\n",
       "  7: '84.49',\n",
       "  8: '77.12',\n",
       "  9: '77.29',\n",
       "  10: '35.22',\n",
       "  11: '80.43',\n",
       "  12: '56.62'},\n",
       " 'test_iou_per_class': {'ceiling': 0.8934271580623707,\n",
       "  'floor': 0.9755455915401167,\n",
       "  'wall': 0.8345440965341843,\n",
       "  'beam': 0.008577480072643449,\n",
       "  'column': 0.27135430753183987,\n",
       "  'window': 0.6767822486359989,\n",
       "  'door': 0.6299961243108358,\n",
       "  'chair': 0.8449028076383593,\n",
       "  'table': 0.7711804741239968,\n",
       "  'bookcase': 0.7728727069848975,\n",
       "  'sofa': 0.3522145729588146,\n",
       "  'board': 0.8043144622628593,\n",
       "  'clutter': 0.5661718910135253}}"
      ]
     },
     "execution_count": 12,
     "metadata": {},
     "output_type": "execute_result"
    }
   ],
   "source": [
    "trainer._tracker.get_metrics(verbose=True)"
   ]
  },
  {
   "cell_type": "code",
   "execution_count": null,
   "metadata": {},
   "outputs": [],
   "source": []
  },
  {
   "cell_type": "code",
   "execution_count": 11,
   "metadata": {},
   "outputs": [
    {
     "data": {
      "text/plain": [
       "{'test_loss_seg': 0.5723548031389898,\n",
       " 'test_acc': 88.13282837348112,\n",
       " 'test_macc': 72.61964483560868,\n",
       " 'test_miou': 64.66669811700491,\n",
       " 'test_miou_per_class': {0: '89.26',\n",
       "  1: '97.60',\n",
       "  2: '83.51',\n",
       "  3: '1.13',\n",
       "  4: '27.75',\n",
       "  5: '67.42',\n",
       "  6: '63.37',\n",
       "  7: '84.30',\n",
       "  8: '77.21',\n",
       "  9: '77.50',\n",
       "  10: '35.31',\n",
       "  11: '79.60',\n",
       "  12: '56.72'},\n",
       " 'test_iou_per_class': {'ceiling': 0.8926215214058315,\n",
       "  'floor': 0.9759997636240926,\n",
       "  'wall': 0.8350906267563485,\n",
       "  'beam': 0.011254983397804447,\n",
       "  'column': 0.2774807927353927,\n",
       "  'window': 0.6741813953507453,\n",
       "  'door': 0.6337058446348253,\n",
       "  'chair': 0.8430078008616986,\n",
       "  'table': 0.7720666335623955,\n",
       "  'bookcase': 0.7749868587032627,\n",
       "  'sofa': 0.35314519834336944,\n",
       "  'board': 0.7959514996659558,\n",
       "  'clutter': 0.5671778361689144},\n",
       " 'test_full_vote_miou': 64.82117443883027,\n",
       " 'test_vote_miou': 64.00841317943247}"
      ]
     },
     "execution_count": 11,
     "metadata": {},
     "output_type": "execute_result"
    }
   ],
   "source": [
    "trainer._tracker.get_metrics(verbose=True)"
   ]
  },
  {
   "cell_type": "code",
   "execution_count": 13,
   "metadata": {},
   "outputs": [
    {
     "data": {
      "text/plain": [
       "(64.00841317943247, 64.82117443883027)"
      ]
     },
     "execution_count": 13,
     "metadata": {},
     "output_type": "execute_result"
    }
   ],
   "source": [
    "trainer._tracker._vote_miou, trainer._tracker._full_vote_miou"
   ]
  },
  {
   "cell_type": "code",
   "execution_count": null,
   "metadata": {},
   "outputs": [],
   "source": []
  }
 ],
 "metadata": {
  "kernelspec": {
   "display_name": "tp3d",
   "language": "python",
   "name": "tp3d"
  },
  "language_info": {
   "codemirror_mode": {
    "name": "ipython",
    "version": 3
   },
   "file_extension": ".py",
   "mimetype": "text/x-python",
   "name": "python",
   "nbconvert_exporter": "python",
   "pygments_lexer": "ipython3",
   "version": "3.8.8"
  }
 },
 "nbformat": 4,
 "nbformat_minor": 4
}
