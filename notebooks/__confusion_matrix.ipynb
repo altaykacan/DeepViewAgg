{
 "cells": [
  {
   "cell_type": "code",
   "execution_count": 12,
   "metadata": {},
   "outputs": [],
   "source": [
    "import os\n",
    "import os.path as osp\n",
    "from shutil import copyfile\n",
    "import sys\n",
    "import glob\n",
    "import torch\n",
    "import warnings\n",
    "warnings.filterwarnings('ignore')\n",
    "\n",
    "DIR = os.path.dirname(os.getcwd())\n",
    "ROOT = os.path.join(DIR, \"..\")\n",
    "sys.path.insert(0, ROOT)\n",
    "sys.path.insert(0, DIR)"
   ]
  },
  {
   "cell_type": "markdown",
   "metadata": {},
   "source": [
    "# S3DIS"
   ]
  },
  {
   "cell_type": "code",
   "execution_count": 2,
   "metadata": {},
   "outputs": [],
   "source": [
    "results_dir = '/raid/dataset/pointcloud/data/s3dis/results'"
   ]
  },
  {
   "cell_type": "code",
   "execution_count": 3,
   "metadata": {},
   "outputs": [
    {
     "name": "stdout",
     "output_type": "stream",
     "text": [
      "\n",
      "Fold 1 - 2cm\n",
      "            xyz+rgb_fold1_2cm.pt: 80.30\n",
      "          xyz+rgb_fold1_2cm_0.pt: 80.18\n",
      "          xyz+rgb_fold1_2cm_1.pt: 80.30\n",
      "          xyz+rgb_fold1_2cm_2.pt: 80.28\n",
      "          xyz+rgb_fold1_2cm_3.pt: 80.18\n",
      "\n",
      "Fold 2 - 5cm\n",
      "            xyz+rgb_fold2_5cm.pt: 61.72\n",
      "          xyz+rgb_fold2_5cm_0.pt: 62.45\n",
      "          xyz+rgb_fold2_5cm_1.pt: 62.18\n",
      "          xyz+rgb_fold2_5cm_2.pt: 62.17\n",
      "\n",
      "Fold 3 - 5cm\n",
      "            xyz+rgb_fold3_5cm.pt: 79.44\n",
      "\n",
      "Fold 5 - 5cm\n",
      "            xyz+rgb_fold5_5cm.pt: 66.51\n",
      "          xyz+rgb_fold5_5cm_0.pt: 66.84\n",
      "          xyz+rgb_fold5_5cm_1.pt: 66.75\n",
      "          xyz+rgb_fold5_5cm_2.pt: 66.83\n",
      "          xyz+rgb_fold5_5cm_3.pt: 66.86\n",
      "   xyz+rgb_fold5_5cm_sched2_0.pt: 66.90\n"
     ]
    }
   ],
   "source": [
    "for fold in range(1, 7):\n",
    "    for resolution in [2, 5]:\n",
    "        \n",
    "        cm_paths = sorted(glob.glob(osp.join(results_dir, f'xyz+rgb_fold{fold}_{resolution}cm*.pt'))) \\\n",
    "            + sorted(glob.glob(osp.join(results_dir, f'xyz+rgb_{resolution}cm_fold{fold}*.pt')))\n",
    "        \n",
    "        if len(cm_paths) == 0:\n",
    "            continue\n",
    "        \n",
    "        print(f'\\nFold {fold} - {resolution}cm')\n",
    "        best_miou = 0\n",
    "        best_path = None\n",
    "        for path in cm_paths:\n",
    "            cm = torch.load(path)\n",
    "            miou = cm.get_average_intersection_union()\n",
    "            \n",
    "            print(f'{os.path.basename(path):>32}: {miou * 100:0.2f}')\n",
    "            \n",
    "            if miou > best_miou:\n",
    "                best_path = path\n",
    "                best_miou = miou\n",
    "        \n",
    "        # Copy best results to 'best' folder\n",
    "        if not os.path.exists(osp.join(results_dir, 'best')):\n",
    "            os.makedirs(osp.join(results_dir, 'best'))\n",
    "        copyfile(best_path, osp.join(results_dir, 'best', osp.basename(best_path)))"
   ]
  },
  {
   "cell_type": "code",
   "execution_count": 37,
   "metadata": {},
   "outputs": [
    {
     "name": "stdout",
     "output_type": "stream",
     "text": [
      "           sched2_fold5_5cm_3.pt: 66.86\n",
      "           sched2_fold5_5cm_1.pt: 66.81\n",
      "           sched2_fold5_5cm_0.pt: 66.90\n",
      "           sched2_fold5_5cm_2.pt: 66.77\n"
     ]
    }
   ],
   "source": [
    "for path in glob.glob(osp.join(results_dir, f'sched*.pt')):\n",
    "    cm = torch.load(path)\n",
    "    print(f'{os.path.basename(path):>32}: {cm.get_average_intersection_union() * 100:0.2f}')"
   ]
  },
  {
   "cell_type": "code",
   "execution_count": 5,
   "metadata": {},
   "outputs": [
    {
     "name": "stdout",
     "output_type": "stream",
     "text": [
      "         nogating_fold5_5cm_0.pt: 66.85\n",
      "         nogating_fold2_2cm_1.pt: 62.46\n",
      "         nogating_fold2_2cm_2.pt: 62.55\n",
      "         nogating_fold2_5cm_0.pt: 60.15\n",
      "           nogating_fold5_5cm.pt: 67.26\n",
      "         nogating_fold2_2cm_0.pt: 62.59\n",
      "         nogating_fold2_2cm_3.pt: 62.46\n",
      "         nogating_fold5_5cm_3.pt: 66.89\n",
      "         nogating_fold5_5cm_1.pt: 66.78\n",
      "         nogating_fold5_5cm_2.pt: 66.96\n"
     ]
    }
   ],
   "source": [
    "for path in glob.glob(osp.join(results_dir, f'nogating*.pt')):\n",
    "    cm = torch.load(path)\n",
    "    print(f'{os.path.basename(path):>32}: {cm.get_average_intersection_union() * 100:0.2f}')"
   ]
  },
  {
   "cell_type": "code",
   "execution_count": 7,
   "metadata": {},
   "outputs": [
    {
     "name": "stdout",
     "output_type": "stream",
     "text": [
      "  manual_nogating_fold3_5cm_0.pt: 75.93\n",
      "  manual_nogating_fold2_5cm_0.pt: 60.60\n",
      "  manual_nogating_fold5_5cm_0.pt: 62.32\n",
      "  manual_nogating_fold3_5cm_1.pt: 75.77\n"
     ]
    }
   ],
   "source": [
    "for path in glob.glob(osp.join(results_dir, f'manual_nogating_*.pt')):\n",
    "    cm = torch.load(path)\n",
    "    print(f'{os.path.basename(path):>32}: {cm.get_average_intersection_union() * 100:0.2f}')"
   ]
  },
  {
   "cell_type": "code",
   "execution_count": 11,
   "metadata": {},
   "outputs": [
    {
     "name": "stdout",
     "output_type": "stream",
     "text": [
      "     mean_raw_rgb_fold2_5cm_0.pt: 52.43\n"
     ]
    }
   ],
   "source": [
    "for path in glob.glob(osp.join(results_dir, f'mean_raw_rgb*.pt')):\n",
    "    cm = torch.load(path)\n",
    "    print(f'{os.path.basename(path):>32}: {cm.get_average_intersection_union() * 100:0.2f}')"
   ]
  },
  {
   "cell_type": "code",
   "execution_count": 4,
   "metadata": {},
   "outputs": [
    {
     "name": "stdout",
     "output_type": "stream",
     "text": [
      "          512x256_fold2_5cm_0.pt: 57.27\n",
      "          512x256_fold5_5cm_0.pt: 66.69\n"
     ]
    }
   ],
   "source": [
    "for path in glob.glob(osp.join(results_dir, f'512x256*.pt')):\n",
    "    cm = torch.load(path)\n",
    "    print(f'{os.path.basename(path):>32}: {cm.get_average_intersection_union() * 100:0.2f}')"
   ]
  },
  {
   "cell_type": "code",
   "execution_count": 4,
   "metadata": {},
   "outputs": [
    {
     "name": "stdout",
     "output_type": "stream",
     "text": [
      "              max_fold2_5cm_0.pt: 62.52\n",
      "              max_fold6_2cm_1.pt: 84.86\n",
      "              max_fold5_2cm_1.pt: 65.73\n",
      "              max_fold2_5cm_1.pt: 62.55\n",
      "              max_fold2_5cm_2.pt: 62.51\n",
      "              max_fold2_2cm_1.pt: 64.28\n"
     ]
    }
   ],
   "source": [
    "for path in glob.glob(osp.join(results_dir, f'max_*.pt')):\n",
    "    cm = torch.load(path)\n",
    "    print(f'{os.path.basename(path):>32}: {cm.get_average_intersection_union() * 100:0.2f}')"
   ]
  },
  {
   "cell_type": "code",
   "execution_count": 14,
   "metadata": {},
   "outputs": [
    {
     "name": "stdout",
     "output_type": "stream",
     "text": [
      "             late_fold2_5cm_0.pt: 54.11\n",
      "         late_group_fold5_5cm.pt: 66.50\n"
     ]
    }
   ],
   "source": [
    "for path in glob.glob(osp.join(results_dir, f'late_*.pt')):\n",
    "    cm = torch.load(path)\n",
    "    print(f'{os.path.basename(path):>32}: {cm.get_average_intersection_union() * 100:0.2f}')"
   ]
  },
  {
   "cell_type": "code",
   "execution_count": 15,
   "metadata": {},
   "outputs": [
    {
     "name": "stdout",
     "output_type": "stream",
     "text": [
      "            light_fold5_5cm_0.pt: 66.75\n"
     ]
    }
   ],
   "source": [
    "for path in glob.glob(osp.join(results_dir, f'light_*.pt')):\n",
    "    cm = torch.load(path)\n",
    "    print(f'{os.path.basename(path):>32}: {cm.get_average_intersection_union() * 100:0.2f}')"
   ]
  },
  {
   "cell_type": "code",
   "execution_count": 3,
   "metadata": {},
   "outputs": [
    {
     "name": "stdout",
     "output_type": "stream",
     "text": [
      "             mean_fold2_5cm_0.pt: 64.30\n",
      "             mean_fold5_5cm_0.pt: 64.97\n"
     ]
    }
   ],
   "source": [
    "for path in glob.glob(osp.join(results_dir, f'mean_fold*.pt')):\n",
    "    cm = torch.load(path)\n",
    "    print(f'{os.path.basename(path):>32}: {cm.get_average_intersection_union() * 100:0.2f}')"
   ]
  },
  {
   "cell_type": "code",
   "execution_count": 17,
   "metadata": {},
   "outputs": [
    {
     "name": "stdout",
     "output_type": "stream",
     "text": [
      "           group1_fold5_5cm_0.pt: 66.65\n"
     ]
    }
   ],
   "source": [
    "for path in glob.glob(osp.join(results_dir, f'group1_*.pt')):\n",
    "    cm = torch.load(path)\n",
    "    print(f'{os.path.basename(path):>32}: {cm.get_average_intersection_union() * 100:0.2f}')"
   ]
  },
  {
   "cell_type": "code",
   "execution_count": 3,
   "metadata": {},
   "outputs": [
    {
     "name": "stdout",
     "output_type": "stream",
     "text": [
      "    nopretraining_fold5_5cm_0.pt: 60.79\n",
      "    nopretraining_fold2_5cm_0.pt: 55.96\n"
     ]
    }
   ],
   "source": [
    "for path in glob.glob(osp.join(results_dir, f'nopretraining*.pt')):\n",
    "    cm = torch.load(path)\n",
    "    print(f'{os.path.basename(path):>32}: {cm.get_average_intersection_union() * 100:0.2f}')"
   ]
  },
  {
   "cell_type": "code",
   "execution_count": 9,
   "metadata": {},
   "outputs": [
    {
     "name": "stdout",
     "output_type": "stream",
     "text": [
      "            again_fold2_5cm_4.pt: 63.08\n",
      "            again_fold2_5cm_1.pt: 63.05\n",
      "            again_fold2_5cm_3.pt: 63.21\n",
      "            again_fold2_5cm_0.pt: 63.11\n",
      "            again_fold2_5cm_2.pt: 63.18\n"
     ]
    }
   ],
   "source": [
    "for path in glob.glob(osp.join(results_dir, f'again*.pt')):\n",
    "    cm = torch.load(path)\n",
    "    print(f'{os.path.basename(path):>32}: {cm.get_average_intersection_union() * 100:0.2f}')"
   ]
  },
  {
   "cell_type": "code",
   "execution_count": 3,
   "metadata": {},
   "outputs": [
    {
     "name": "stdout",
     "output_type": "stream",
     "text": [
      "            align_fold2_5cm_0.pt: 55.54\n",
      "            align_fold5_5cm_0.pt: 64.29\n"
     ]
    }
   ],
   "source": [
    "for path in glob.glob(osp.join(results_dir, f'align*.pt')):\n",
    "    cm = torch.load(path)\n",
    "    print(f'{os.path.basename(path):>32}: {cm.get_average_intersection_union() * 100:0.2f}')"
   ]
  },
  {
   "cell_type": "code",
   "execution_count": 21,
   "metadata": {},
   "outputs": [
    {
     "name": "stdout",
     "output_type": "stream",
     "text": [
      "6-fold 2cm: mIoU=74.65, mAcc=83.79, OA=90.13\n"
     ]
    }
   ],
   "source": [
    "init = False\n",
    "cm = None\n",
    "for path in sorted(glob.glob('/media/drobert-admin/DATA2/datasets/s3dis/results/s3dis/6fold_2cm/*.pt')):\n",
    "    if not init:\n",
    "        cm = torch.load(path)\n",
    "        init = True\n",
    "    else:\n",
    "        cm.confusion_matrix += torch.load(path).confusion_matrix\n",
    "print(f'6-fold 2cm: mIoU={cm.get_average_intersection_union() * 100:0.2f}, mAcc={cm.get_mean_class_accuracy() * 100:0.2f}, OA={cm.get_overall_accuracy() * 100:0.2f}')"
   ]
  },
  {
   "cell_type": "code",
   "execution_count": null,
   "metadata": {},
   "outputs": [],
   "source": []
  },
  {
   "cell_type": "markdown",
   "metadata": {},
   "source": [
    "# KITTI360"
   ]
  },
  {
   "cell_type": "code",
   "execution_count": 13,
   "metadata": {},
   "outputs": [],
   "source": [
    "results_dir = '/raid/dataset/pointcloud/data/kitti360/results'"
   ]
  },
  {
   "cell_type": "code",
   "execution_count": 3,
   "metadata": {},
   "outputs": [
    {
     "name": "stdout",
     "output_type": "stream",
     "text": [
      "pyramid_val_5cm_0.pt                                                  : 56.08\n"
     ]
    }
   ],
   "source": [
    "for path in glob.glob(osp.join(results_dir, f'pyramid*.pt')):\n",
    "    cm = torch.load(path)\n",
    "    print(f'{os.path.basename(path):<70}: {cm.get_average_intersection_union() * 100:0.2f}')"
   ]
  },
  {
   "cell_type": "code",
   "execution_count": 4,
   "metadata": {},
   "outputs": [
    {
     "name": "stdout",
     "output_type": "stream",
     "text": [
      "interpolate_pyramid_max_12k_val_5cm_sample-res-3_votes-1_0.pt         : 55.08\n",
      "interpolate_pyramid_val_5cm_0.pt                                      : 57.60\n",
      "interpolate_l4_60ep_12k_val_5cm_2.pt                                  : 60.47\n",
      "interpolate_l4_val_5cm_3.pt                                           : 55.09\n",
      "interpolate_pyramid_val_5cm_2.pt                                      : 57.55\n",
      "interpolate_l4_val_5cm_2.pt                                           : 55.02\n",
      "interpolate_l4_60ep_12k_val_5cm_sample-res-3_votes-1_0.pt             : 60.61\n",
      "interpolate_pyramid_max_val_5cm_2.pt                                  : 54.92\n",
      "interpolate_pyramid_max_12k_val_5cm_sample-res-6_votes-1_0.pt         : 55.05\n",
      "interpolate_pyramid_val_5cm_3.pt                                      : 57.82\n",
      "interpolate_pyramid_max_val_5cm_0.pt                                  : 55.12\n",
      "interpolate_pyramid_max_val_5cm_3.pt                                  : 55.13\n",
      "interpolate_pyramid_60ep_12k_val_5cm_2.pt                             : 61.55\n",
      "interpolate_pyramid_60ep_12k_val_5cm_sample-res-3_votes-1_0.pt        : 61.66\n",
      "interpolate_pyramid_fromscratch_6k_val_5cm_sample-res-6_votes-1_0.pt  : 54.22\n",
      "interpolate_pyramid_60ep_12k_val_5cm_3.pt                             : 61.49\n",
      "interpolate_pyramid_group1_6k_val_5cm_sample-res-6_votes-1_0.pt       : 57.56\n"
     ]
    }
   ],
   "source": [
    "for path in glob.glob(osp.join(results_dir, f'interpolate*.pt')):\n",
    "    cm = torch.load(path)\n",
    "    print(f'{os.path.basename(path):<70}: {cm.get_average_intersection_union() * 100:0.2f}')"
   ]
  },
  {
   "cell_type": "code",
   "execution_count": 26,
   "metadata": {},
   "outputs": [
    {
     "name": "stdout",
     "output_type": "stream",
     "text": [
      "xyzrgb_60ep_12k_val_5cm_sample-res-3_votes-1_0.pt                     : 57.74\n",
      "xyzrgb_40ep_6k_val_5cm_3.pt                                           : 46.80\n",
      "xyzrgb_40ep_6k_val_5cm_2.pt                                           : 46.81\n",
      "xyzrgb_60ep_6k_val_5cm_2.pt                                           : 54.34\n",
      "xyzrgb_60ep_12k_val_5cm_3.pt                                          : 57.73\n",
      "xyzrgb_60ep_12k_test_5cm_sample-res-3_votes-1_0.pt                    : ERROR\n",
      "xyzrgb_val_5cm_0.pt                                                   : 57.80\n",
      "xyzrgb_60ep_12k_val_5cm_2.pt                                          : 57.77\n",
      "xyzrgb_60ep_6k_val_5cm_3.pt                                           : 54.35\n"
     ]
    }
   ],
   "source": [
    "for path in glob.glob(osp.join(results_dir, f'xyzrgb*.pt')):\n",
    "    cm = torch.load(path)\n",
    "    try:\n",
    "        print(f'{os.path.basename(path):<70}: {cm.get_average_intersection_union() * 100:0.2f}')\n",
    "    except:\n",
    "        print(f'{os.path.basename(path):<70}: ERROR')"
   ]
  },
  {
   "cell_type": "code",
   "execution_count": 25,
   "metadata": {},
   "outputs": [
    {
     "name": "stdout",
     "output_type": "stream",
     "text": [
      "interpolate_l4_60ep_12k_val_5cm_2.pt                                  : 60.47\n",
      "interpolate_l4_60ep_12k_val_5cm_sample-res-3_votes-1_0.pt             : 60.61\n",
      "interpolate_pyramid_60ep_12k_val_5cm_2.pt                             : 61.55\n",
      "interpolate_pyramid_60ep_12k_val_5cm_3.pt                             : 61.49\n",
      "interpolate_pyramid_60ep_12k_val_5cm_sample-res-3_votes-1_0.pt        : 61.66\n",
      "interpolate_pyramid_max_12k_val_5cm_sample-res-3_votes-1_0.pt         : 55.08\n",
      "interpolate_pyramid_max_12k_val_5cm_sample-res-6_votes-1_0.pt         : 55.05\n",
      "xyzrgb_60ep_12k_test_5cm_sample-res-3_votes-1_0.pt                    : ERROR\n",
      "xyzrgb_60ep_12k_val_5cm_2.pt                                          : 57.77\n",
      "xyzrgb_60ep_12k_val_5cm_3.pt                                          : 57.73\n",
      "xyzrgb_60ep_12k_val_5cm_sample-res-3_votes-1_0.pt                     : 57.74\n"
     ]
    }
   ],
   "source": [
    "for path in sorted(glob.glob(osp.join(results_dir, f'*12k*.pt'))):\n",
    "    cm = torch.load(path)\n",
    "    try:\n",
    "        print(f'{os.path.basename(path):<70}: {cm.get_average_intersection_union() * 100:0.2f}')\n",
    "    except:\n",
    "        print(f'{os.path.basename(path):<70}: ERROR')"
   ]
  },
  {
   "cell_type": "code",
   "execution_count": 6,
   "metadata": {},
   "outputs": [
    {
     "name": "stdout",
     "output_type": "stream",
     "text": [
      "interpolate_pyramid_max_12k_val_5cm_sample-res-3_votes-1_0.pt         : 55.08\n",
      "interpolate_pyramid_max_12k_val_5cm_sample-res-6_votes-1_0.pt         : 55.05\n",
      "interpolate_pyramid_60ep_12k_val_5cm_2.pt                             : 61.55\n",
      "interpolate_pyramid_60ep_12k_val_5cm_sample-res-3_votes-1_0.pt        : 61.66\n",
      "interpolate_pyramid_60ep_12k_val_5cm_3.pt                             : 61.49\n"
     ]
    }
   ],
   "source": [
    "for path in glob.glob(osp.join(results_dir, f'interpolate_pyramid*12k*.pt')):\n",
    "    cm = torch.load(path)\n",
    "    print(f'{os.path.basename(path):<70}: {cm.get_average_intersection_union() * 100:0.2f}')"
   ]
  },
  {
   "cell_type": "code",
   "execution_count": 7,
   "metadata": {},
   "outputs": [
    {
     "name": "stdout",
     "output_type": "stream",
     "text": [
      "interpolate_pyramid_group1_6k_val_5cm_sample-res-6_votes-1_0.pt       : 57.56\n"
     ]
    }
   ],
   "source": [
    "for path in sorted(glob.glob(osp.join(results_dir, f'*group*.pt'))):\n",
    "    cm = torch.load(path)\n",
    "    try:\n",
    "        print(f'{os.path.basename(path):<70}: {cm.get_average_intersection_union() * 100:0.2f}')\n",
    "    except:\n",
    "        print(f'{os.path.basename(path):<70}: ERROR')"
   ]
  },
  {
   "cell_type": "code",
   "execution_count": 8,
   "metadata": {},
   "outputs": [
    {
     "name": "stdout",
     "output_type": "stream",
     "text": [
      "interpolate_pyramid_fromscratch_6k_val_5cm_sample-res-6_votes-1_0.pt  : 54.22\n"
     ]
    }
   ],
   "source": [
    "for path in sorted(glob.glob(osp.join(results_dir, f'*fromscratch*.pt'))):\n",
    "    cm = torch.load(path)\n",
    "    try:\n",
    "        print(f'{os.path.basename(path):<70}: {cm.get_average_intersection_union() * 100:0.2f}')\n",
    "    except:\n",
    "        print(f'{os.path.basename(path):<70}: ERROR')"
   ]
  },
  {
   "cell_type": "code",
   "execution_count": 9,
   "metadata": {},
   "outputs": [
    {
     "name": "stdout",
     "output_type": "stream",
     "text": [
      "interpolate_pyramid_max_12k_val_5cm_sample-res-3_votes-1_0.pt         : 55.08\n",
      "interpolate_pyramid_max_val_5cm_2.pt                                  : 54.92\n",
      "interpolate_pyramid_max_12k_val_5cm_sample-res-6_votes-1_0.pt         : 55.05\n",
      "interpolate_pyramid_max_val_5cm_0.pt                                  : 55.12\n",
      "interpolate_pyramid_max_val_5cm_3.pt                                  : 55.13\n"
     ]
    }
   ],
   "source": [
    "for path in glob.glob(osp.join(results_dir, f'interpolate_pyramid_max*val*.pt')):\n",
    "    cm = torch.load(path)\n",
    "    print(f'{os.path.basename(path):<70}: {cm.get_average_intersection_union() * 100:0.2f}')"
   ]
  },
  {
   "cell_type": "code",
   "execution_count": 11,
   "metadata": {},
   "outputs": [
    {
     "name": "stdout",
     "output_type": "stream",
     "text": [
      "interpolate_pyramid_fromscratch_6k_val_5cm_sample-res-6_votes-1_0.pt  : 54.22\n",
      "interpolate_pyramid_group1_6k_val_5cm_sample-res-6_votes-1_0.pt       : 57.56\n"
     ]
    }
   ],
   "source": [
    "for path in glob.glob(osp.join(results_dir, f'interpolate_pyramid*6k*.pt')):\n",
    "    cm = torch.load(path)\n",
    "    print(f'{os.path.basename(path):<70}: {cm.get_average_intersection_union() * 100:0.2f}')"
   ]
  },
  {
   "cell_type": "code",
   "execution_count": 14,
   "metadata": {},
   "outputs": [
    {
     "name": "stdout",
     "output_type": "stream",
     "text": [
      "interpolate_pyramid_nodynamicbatch_6k_val_5cm_sample-res-6_votes-1_0.pt: 53.25\n",
      "interpolate_pyramid_nogating_6k_val_5cm_sample-res-6_votes-1_0.pt     : 56.71\n",
      "xyzrgb_40ep_6k_val_5cm_3.pt                                           : 46.80\n",
      "xyzrgb_40ep_6k_val_5cm_2.pt                                           : 46.81\n",
      "xyzrgb_60ep_6k_val_5cm_2.pt                                           : 54.34\n",
      "avg-rgb_6k_val_5cm_sample-res-6_votes-1_0.pt                          : 52.91\n",
      "xyz_6k_val_5cm_sample-res-6_votes-1_0.pt                              : 53.66\n",
      "rgb_6k_val_5cm_sample-res-6_votes-1_0.pt                              : 43.32\n",
      "interpolate_pyramid_704x188_6k_val_5cm_sample-res-6_votes-1_0.pt      : 57.14\n",
      "interpolate_pyramid_fromscratch_6k_val_5cm_sample-res-6_votes-1_0.pt  : 54.22\n",
      "xyzrgb_60ep_6k_val_5cm_3.pt                                           : 54.35\n",
      "interpolate_pyramid_group1_6k_val_5cm_sample-res-6_votes-1_0.pt       : 57.56\n",
      "smaller-backbone_6k_val_5cm_sample-res-6_votes-1_0.pt                 : 58.45\n"
     ]
    }
   ],
   "source": [
    "for path in glob.glob(osp.join(results_dir, f'*6k*.pt')):\n",
    "    cm = torch.load(path)\n",
    "    print(f'{os.path.basename(path):<70}: {cm.get_average_intersection_union() * 100:0.2f}')"
   ]
  },
  {
   "cell_type": "code",
   "execution_count": 31,
   "metadata": {},
   "outputs": [
    {
     "name": "stdout",
     "output_type": "stream",
     "text": [
      "interpolate_pyramid_max_12k_val_5cm_sample-res-3_votes-1_0.pt         : 55.08\n",
      "interpolate_pyramid_max_12k_val_5cm_sample-res-6_votes-1_0.pt         : 55.05\n",
      "interpolate_pyramid_max_val_5cm_0.pt                                  : 55.12\n",
      "interpolate_pyramid_max_val_5cm_2.pt                                  : 54.92\n",
      "interpolate_pyramid_max_val_5cm_3.pt                                  : 55.13\n"
     ]
    }
   ],
   "source": [
    "for path in sorted(glob.glob(osp.join(results_dir, f'*max*.pt'))):\n",
    "    cm = torch.load(path)\n",
    "    try:\n",
    "        print(f'{os.path.basename(path):<70}: {cm.get_average_intersection_union() * 100:0.2f}')\n",
    "    except:\n",
    "        print(f'{os.path.basename(path):<70}: ERROR')"
   ]
  },
  {
   "cell_type": "code",
   "execution_count": null,
   "metadata": {},
   "outputs": [],
   "source": []
  }
 ],
 "metadata": {
  "kernelspec": {
   "display_name": "Python [conda env:tp3d_dev] *",
   "language": "python",
   "name": "conda-env-tp3d_dev-py"
  },
  "language_info": {
   "codemirror_mode": {
    "name": "ipython",
    "version": 3
   },
   "file_extension": ".py",
   "mimetype": "text/x-python",
   "name": "python",
   "nbconvert_exporter": "python",
   "pygments_lexer": "ipython3",
   "version": "3.7.9"
  }
 },
 "nbformat": 4,
 "nbformat_minor": 4
}
