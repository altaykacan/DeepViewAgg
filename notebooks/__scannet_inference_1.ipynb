{
 "cells": [
  {
   "cell_type": "code",
   "execution_count": null,
   "metadata": {},
   "outputs": [],
   "source": [
    "%load_ext autoreload\n",
    "%autoreload 2"
   ]
  },
  {
   "cell_type": "code",
   "execution_count": null,
   "metadata": {},
   "outputs": [],
   "source": [
    "I_GPU = 3"
   ]
  },
  {
   "cell_type": "code",
   "execution_count": null,
   "metadata": {},
   "outputs": [],
   "source": [
    "# import os\n",
    "# os.environ[\"CUDA_DEVICE_ORDER\"] = \"PCI_BUS_ID\"\n",
    "# os.environ[\"CUDA_VISIBLE_DEVICES\"] = str(I_GPU)"
   ]
  },
  {
   "cell_type": "code",
   "execution_count": null,
   "metadata": {},
   "outputs": [],
   "source": [
    "# %load_ext autoreload\n",
    "# %autoreload 2\n",
    "import os\n",
    "import sys\n",
    "import numpy as np\n",
    "import torch\n",
    "import glob\n",
    "from matplotlib.colors import ListedColormap\n",
    "from omegaconf import OmegaConf\n",
    "import matplotlib.pyplot as plt\n",
    "import warnings\n",
    "warnings.filterwarnings('ignore')\n",
    "\n",
    "DIR = os.path.dirname(os.getcwd())\n",
    "ROOT = os.path.join(DIR, \"..\")\n",
    "sys.path.insert(0, ROOT)\n",
    "sys.path.insert(0, DIR)\n",
    "# from torch_points3d.datasets.segmentation.scannet import ScannetDataset, IGNORE_LABEL\n",
    "from torch_points3d.datasets.segmentation.multimodal.scannet import ScannetDatasetMM, IGNORE_LABEL\n",
    "\n",
    "_ = torch.cuda.is_available()\n",
    "_ = torch.cuda.memory_allocated()\n",
    "torch.cuda.set_device(I_GPU)"
   ]
  },
  {
   "cell_type": "markdown",
   "metadata": {},
   "source": [
    "# Load config"
   ]
  },
  {
   "cell_type": "code",
   "execution_count": null,
   "metadata": {},
   "outputs": [],
   "source": [
    "from omegaconf import OmegaConf\n",
    "from torch_points3d.utils.config import hydra_read\n",
    "\n",
    "# Set root to the DATA drive, where the data was downloaded\n",
    "# DATA_ROOT = '/mnt/fa444ffd-fdb4-4701-88e7-f00297a8e29b/projects/datasets/s3dis'  # ???\n",
    "# DATA_ROOT = '/media/drobert-admin/DATA/datasets/s3dis'  # IGN DATA\n",
    "# DATA_ROOT = '/media/drobert-admin/DATA2/datasets/s3dis'  # IGN DATA2\n",
    "# DATA_ROOT = '/var/data/drobert/datasets/s3dis'  # AI4GEO\n",
    "# DATA_ROOT = '/home/qt/robertda/scratch/datasets/s3dis'  # CNES\n",
    "DATA_ROOT = '/raid/dataset/pointcloud/data/scannet'  # ENGIE\n",
    "\n",
    "# XYZ+RGB\n",
    "overrides = [\n",
    "    'model_name=Res16UNet34-L4-early',\n",
    "#    f\"checkpoint_dir={'/workspace/projects/torch-points3d/outputs/2021-10-20/18-43-13'}\",  # 5cm\n",
    "    f\"checkpoint_dir={'/workspace/projects/torch-points3d/outputs/2021-10-24/23-12-40'}\",  # 3cm\n",
    "    \n",
    "    'voting_runs=1',\n",
    "    'tracker_options.full_res=True',\n",
    " #   'tracker_options.make_submission=True',\n",
    "    'precompute_multi_scale=False',\n",
    "    'num_workers=4',\n",
    "    'batch_size=3',\n",
    "    f'cuda={I_GPU}',\n",
    "    'weight_name=miou',\n",
    "#     'weight_name=last',\n",
    "]\n",
    "\n",
    "# # XYZRGB\n",
    "# overrides = [\n",
    "#     'model_name=Res16UNet34',\n",
    "#     f\"checkpoint_dir={'/workspace/projects/torch-points3d/outputs/2021-11-05/23-21-24'}\",  # 3cm\n",
    "#     'voting_runs=1',\n",
    "#     'tracker_options.full_res=True',\n",
    "#  #   'tracker_options.make_submission=True',\n",
    "#     'precompute_multi_scale=False',\n",
    "#     'num_workers=4',\n",
    "#     'batch_size=4',\n",
    "#     f'cuda={I_GPU}',\n",
    "# #     'weight_name=miou',\n",
    "#     'weight_name=last',\n",
    "# ]\n",
    "\n",
    "cfg = hydra_read(overrides, config_name='eval')\n",
    "\n",
    "OmegaConf.set_struct(cfg, False)\n",
    "\n",
    "# print(OmegaConf.to_yaml(cfg))# Load S3DIS dataset"
   ]
  },
  {
   "cell_type": "code",
   "execution_count": null,
   "metadata": {},
   "outputs": [],
   "source": [
    "from torch_points3d.trainer import Trainer\n",
    "\n",
    "trainer = Trainer(cfg)\n",
    "\n",
    "test_transform = trainer._dataset.test_dataset[0].transform\n",
    "test_transform_image = trainer._dataset.test_dataset[0].transform_image\n",
    "val_transform = trainer._dataset.val_dataset.transform\n",
    "val_transform_image = trainer._dataset.val_dataset.transform_image\n",
    "train_transform = trainer._dataset.train_dataset.transform\n",
    "train_transform_image = trainer._dataset.train_dataset.transform_image"
   ]
  },
  {
   "cell_type": "code",
   "execution_count": null,
   "metadata": {},
   "outputs": [],
   "source": [
    "# Update the val and test transforms to match train transforms for inference-time augmentation\n",
    "trainer._dataset.test_dataset[0].transform = test_transform\n",
    "trainer._dataset.test_dataset[0].transform_image = test_transform_image\n",
    "\n",
    "trainer._dataset.val_dataset.transform = val_transform\n",
    "trainer._dataset.val_dataset.transform_image = val_transform_image"
   ]
  },
  {
   "cell_type": "code",
   "execution_count": null,
   "metadata": {},
   "outputs": [],
   "source": [
    "# Update the val and test transforms to match train transforms for inference-time augmentation\n",
    "trainer._dataset.test_dataset[0].transform = trainer._dataset.train_dataset.transform\n",
    "trainer._dataset.test_dataset[0].transform_image = trainer._dataset.train_dataset.transform_image\n",
    "\n",
    "trainer._dataset.val_dataset.transform = trainer._dataset.train_dataset.transform\n",
    "trainer._dataset.val_dataset.transform_image = trainer._dataset.train_dataset.transform_image"
   ]
  },
  {
   "cell_type": "code",
   "execution_count": null,
   "metadata": {},
   "outputs": [],
   "source": [
    "# trainer._dataset.test_dataset[0].transform_image.transforms[4].credit = 2097152 * 2"
   ]
  },
  {
   "cell_type": "code",
   "execution_count": null,
   "metadata": {},
   "outputs": [],
   "source": [
    "# trainer._dataset.test_dataset[0].transform_image.transforms[2].credit = 1920000\n",
    "# trainer._dataset.val_dataset.transform_image.transforms[2].credit = 1920000"
   ]
  },
  {
   "cell_type": "code",
   "execution_count": null,
   "metadata": {},
   "outputs": [],
   "source": [
    "trainer._dataset.test_dataset[0].transform_image.transforms[2].credit = 1920000 * 4\n",
    "trainer._dataset.val_dataset.transform_image.transforms[2].credit = 1920000 * 4"
   ]
  },
  {
   "cell_type": "code",
   "execution_count": null,
   "metadata": {},
   "outputs": [],
   "source": [
    "trainer._dataset.test_dataset[0].transform_image.transforms[2].credit = 1920000 * 3\n",
    "trainer._dataset.val_dataset.transform_image.transforms[2].credit = 1920000 * 3"
   ]
  },
  {
   "cell_type": "code",
   "execution_count": null,
   "metadata": {},
   "outputs": [],
   "source": [
    "trainer._dataset.test_dataset[0].transform_image.transforms[2].credit = 1920000 * 2\n",
    "trainer._dataset.val_dataset.transform_image.transforms[2].credit = 1920000 * 2"
   ]
  },
  {
   "cell_type": "code",
   "execution_count": null,
   "metadata": {},
   "outputs": [],
   "source": [
    "trainer._dataset.test_dataset[0].transform_image.transforms[2].credit = 1920000\n",
    "trainer._dataset.val_dataset.transform_image.transforms[2].credit = 1920000"
   ]
  },
  {
   "cell_type": "code",
   "execution_count": null,
   "metadata": {},
   "outputs": [],
   "source": [
    "trainer._dataset.test_dataset[0].transform_image.transforms[2].credit = int(1920000 / 4)\n",
    "trainer._dataset.val_dataset.transform_image.transforms[2].credit = int(1920000 / 4)"
   ]
  },
  {
   "cell_type": "code",
   "execution_count": null,
   "metadata": {},
   "outputs": [],
   "source": [
    "trainer._dataset.test_dataset[0].transform_image.transforms[2].credit = int(1920000 / 2)\n",
    "trainer._dataset.val_dataset.transform_image.transforms[2].credit = int(1920000 / 2)"
   ]
  },
  {
   "cell_type": "code",
   "execution_count": null,
   "metadata": {},
   "outputs": [],
   "source": [
    "trainer._dataset.test_dataset[0].transform_image.transforms[2].use_coverage = False\n",
    "trainer._dataset.test_dataset[0].transform_image.transforms[2].credit = int(1920000 * 2)\n",
    "trainer._dataset.test_dataset[0].transform_image.transforms[3].sigma = 0.02\n",
    "trainer._dataset.test_dataset[0].transform_image.transforms[4].transform.saturation = [0.8, 1.2]\n",
    "trainer._dataset.test_dataset[0].transform_image.transforms[4].transform.brightness = [0.8, 1.2]\n",
    "trainer._dataset.test_dataset[0].transform_image.transforms[4].transform.contrast = [0.8, 1.2]\n",
    "\n",
    "trainer._dataset.val_dataset.transform_image.transforms[2].use_coverage = False\n",
    "trainer._dataset.val_dataset.transform_image.transforms[2].credit = int(1920000 * 2)\n",
    "trainer._dataset.val_dataset.transform_image.transforms[3].sigma = 0.02\n",
    "trainer._dataset.val_dataset.transform_image.transforms[4].transform.saturation = [0.8, 1.2]\n",
    "trainer._dataset.val_dataset.transform_image.transforms[4].transform.brightness = [0.8, 1.2]\n",
    "trainer._dataset.val_dataset.transform_image.transforms[4].transform.contrast = [0.8, 1.2]"
   ]
  },
  {
   "cell_type": "code",
   "execution_count": null,
   "metadata": {},
   "outputs": [],
   "source": [
    "trainer._dataset.test_dataset[0].transform_image.transforms[2].use_coverage = False\n",
    "trainer._dataset.test_dataset[0].transform_image.transforms[2].credit = int(1920000 * 2)\n",
    "trainer._dataset.test_dataset[0].transform_image.transforms[3].sigma = 0.03\n",
    "trainer._dataset.test_dataset[0].transform_image.transforms[4].transform.saturation = [0.6, 1.4]\n",
    "trainer._dataset.test_dataset[0].transform_image.transforms[4].transform.brightness = [0.6, 1.4]\n",
    "trainer._dataset.test_dataset[0].transform_image.transforms[4].transform.contrast = [0.6, 1.4]\n",
    "\n",
    "trainer._dataset.val_dataset.transform_image.transforms[2].use_coverage = False\n",
    "trainer._dataset.val_dataset.transform_image.transforms[2].credit = int(1920000 * 2)\n",
    "trainer._dataset.val_dataset.transform_image.transforms[3].sigma = 0.03\n",
    "trainer._dataset.val_dataset.transform_image.transforms[4].transform.saturation = [0.6, 1.4]\n",
    "trainer._dataset.val_dataset.transform_image.transforms[4].transform.brightness = [0.6, 1.4]\n",
    "trainer._dataset.val_dataset.transform_image.transforms[4].transform.contrast = [0.6, 1.4]"
   ]
  },
  {
   "cell_type": "code",
   "execution_count": null,
   "metadata": {},
   "outputs": [],
   "source": [
    "trainer._dataset.test_dataset[0].transform_image.transforms[2].use_coverage = False\n",
    "trainer._dataset.test_dataset[0].transform_image.transforms[2].credit = int(1920000 * 2)\n",
    "trainer._dataset.test_dataset[0].transform_image.transforms[3].sigma = 0.01\n",
    "trainer._dataset.test_dataset[0].transform_image.transforms[4].transform.saturation = [0.9, 1.1]\n",
    "trainer._dataset.test_dataset[0].transform_image.transforms[4].transform.brightness = [0.9, 1.1]\n",
    "trainer._dataset.test_dataset[0].transform_image.transforms[4].transform.contrast = [0.9, 1.1]\n",
    "\n",
    "trainer._dataset.val_dataset.transform_image.transforms[2].use_coverage = False\n",
    "trainer._dataset.val_dataset.transform_image.transforms[2].credit = int(1920000 * 2)\n",
    "trainer._dataset.val_dataset.transform_image.transforms[3].sigma = 0.01\n",
    "trainer._dataset.val_dataset.transform_image.transforms[4].transform.saturation = [0.9, 1.1]\n",
    "trainer._dataset.val_dataset.transform_image.transforms[4].transform.brightness = [0.9, 1.1]\n",
    "trainer._dataset.val_dataset.transform_image.transforms[4].transform.contrast = [0.9, 1.1]"
   ]
  },
  {
   "cell_type": "code",
   "execution_count": null,
   "metadata": {},
   "outputs": [],
   "source": [
    "trainer._dataset.test_dataset[0].transform_image.transforms[2].use_coverage = False\n",
    "trainer._dataset.test_dataset[0].transform_image.transforms[2].credit = int(1920000 * 2)\n",
    "trainer._dataset.test_dataset[0].transform_image.transforms[3].sigma = 0.005\n",
    "trainer._dataset.test_dataset[0].transform_image.transforms[4].transform.saturation = [0.95, 1.05]\n",
    "trainer._dataset.test_dataset[0].transform_image.transforms[4].transform.brightness = [0.95, 1.05]\n",
    "trainer._dataset.test_dataset[0].transform_image.transforms[4].transform.contrast = [0.95, 1.05]\n",
    "\n",
    "trainer._dataset.val_dataset.transform_image.transforms[2].use_coverage = False\n",
    "trainer._dataset.val_dataset.transform_image.transforms[2].credit = int(1920000 * 2)\n",
    "trainer._dataset.val_dataset.transform_image.transforms[3].sigma = 0.005\n",
    "trainer._dataset.val_dataset.transform_image.transforms[4].transform.saturation = [0.95, 1.05]\n",
    "trainer._dataset.val_dataset.transform_image.transforms[4].transform.brightness = [0.95, 1.05]\n",
    "trainer._dataset.val_dataset.transform_image.transforms[4].transform.contrast = [0.95, 1.05]"
   ]
  },
  {
   "cell_type": "code",
   "execution_count": null,
   "metadata": {},
   "outputs": [],
   "source": [
    "# trainer._dataset.test_dataset[0].transform_image.transforms[4].use_coverage = False\n",
    "# trainer._dataset.test_dataset[0].transform_image.transforms[4].credit = int(2097152 / 2)\n",
    "# trainer._dataset.test_dataset[0].transform_image.transforms[5].sigma = 0.02\n",
    "# trainer._dataset.test_dataset[0].transform_image.transforms[6].transform.saturation = [0.8, 1.2]\n",
    "# trainer._dataset.test_dataset[0].transform_image.transforms[6].transform.brightness = [0.8, 1.2]\n",
    "# trainer._dataset.test_dataset[0].transform_image.transforms[6].transform.contrast = [0.8, 1.2]"
   ]
  },
  {
   "cell_type": "code",
   "execution_count": null,
   "metadata": {},
   "outputs": [],
   "source": [
    "# trainer._dataset.test_dataset[0].transform_image.transforms[4].use_coverage = False\n",
    "# trainer._dataset.test_dataset[0].transform_image.transforms[4].credit = int(2097152 * 2)\n",
    "# trainer._dataset.test_dataset[0].transform_image.transforms[5].sigma = 0.02\n",
    "# trainer._dataset.test_dataset[0].transform_image.transforms[6].transform.saturation = [0.9, 1.1]\n",
    "# trainer._dataset.test_dataset[0].transform_image.transforms[6].transform.brightness = [0.9, 1.1]\n",
    "# trainer._dataset.test_dataset[0].transform_image.transforms[6].transform.contrast = [0.9, 1.1]"
   ]
  },
  {
   "cell_type": "code",
   "execution_count": null,
   "metadata": {},
   "outputs": [],
   "source": [
    "# trainer._dataset.test_dataset[0].transform_image.transforms[4].use_coverage = False\n",
    "# trainer._dataset.test_dataset[0].transform_image.transforms[4].credit = int(2097152 / 2)\n",
    "# trainer._dataset.test_dataset[0].transform_image.transforms[5].sigma = 0.01\n",
    "# trainer._dataset.test_dataset[0].transform_image.transforms[6].transform.saturation = [0.95, 1.05]\n",
    "# trainer._dataset.test_dataset[0].transform_image.transforms[6].transform.brightness = [0.95, 1.05]\n",
    "# trainer._dataset.test_dataset[0].transform_image.transforms[6].transform.contrast = [0.95, 1.05]"
   ]
  },
  {
   "cell_type": "code",
   "execution_count": null,
   "metadata": {},
   "outputs": [],
   "source": [
    "# trainer._dataset.test_dataset[0].transform_image.transforms[4].use_coverage = False\n",
    "# trainer._dataset.test_dataset[0].transform_image.transforms[4].credit = int(2097152 / 4)\n",
    "# trainer._dataset.test_dataset[0].transform_image.transforms[5].sigma = 0.001\n",
    "# trainer._dataset.test_dataset[0].transform_image.transforms[6].transform.saturation = [0.99, 1.01]\n",
    "# trainer._dataset.test_dataset[0].transform_image.transforms[6].transform.brightness = [0.99, 1.01]\n",
    "# trainer._dataset.test_dataset[0].transform_image.transforms[6].transform.contrast = [0.99, 1.01]"
   ]
  },
  {
   "cell_type": "code",
   "execution_count": null,
   "metadata": {},
   "outputs": [],
   "source": [
    "# trainer._dataset.test_dataset[0].transform_image.transforms[4].use_coverage = False\n",
    "# trainer._dataset.test_dataset[0].transform_image.transforms[4].credit = int(2097152 / 2)\n",
    "# trainer._dataset.test_dataset[0].transform_image.transforms[5].sigma = 0.2\n",
    "# trainer._dataset.test_dataset[0].transform_image.transforms[6].transform.saturation = [0.1, 1.9]\n",
    "# trainer._dataset.test_dataset[0].transform_image.transforms[6].transform.brightness = [0.1, 1.9]\n",
    "# trainer._dataset.test_dataset[0].transform_image.transforms[6].transform.contrast = [0.1, 1.9]"
   ]
  },
  {
   "cell_type": "code",
   "execution_count": null,
   "metadata": {},
   "outputs": [],
   "source": [
    "# Normalize(mean=[0.485, 0.456, 0.406], std=[0.229, 0.224, 0.225])\n",
    "# trainer._dataset.test_dataset[0].transform_image.transforms[-1].mean = [0, 0, 0]\n",
    "# trainer._dataset.test_dataset[0].transform_image.transforms[-1].std = [1, 1, 1]"
   ]
  },
  {
   "cell_type": "code",
   "execution_count": null,
   "metadata": {},
   "outputs": [],
   "source": [
    "# trainer._cfg.tracker_options.full_res = False"
   ]
  },
  {
   "cell_type": "code",
   "execution_count": null,
   "metadata": {},
   "outputs": [],
   "source": [
    "trainer._cfg.voting_runs = 1\n",
    "# trainer._cfg.voting_runs = 3"
   ]
  },
  {
   "cell_type": "code",
   "execution_count": null,
   "metadata": {},
   "outputs": [],
   "source": [
    "# Validation inference\n",
    "trainer.eval(stage_name=\"val\")"
   ]
  },
  {
   "cell_type": "code",
   "execution_count": null,
   "metadata": {},
   "outputs": [],
   "source": [
    "# Test inference\n",
    "#trainer.eval(stage_name=\"test\")"
   ]
  },
  {
   "cell_type": "code",
   "execution_count": null,
   "metadata": {},
   "outputs": [],
   "source": []
  },
  {
   "cell_type": "markdown",
   "metadata": {},
   "source": [
    "# XYRGB*"
   ]
  },
  {
   "cell_type": "code",
   "execution_count": null,
   "metadata": {},
   "outputs": [],
   "source": [
    "print(trainer._tracker.get_metrics(True)['val_miou'], trainer._tracker.get_metrics(True)['val_full_miou'])\n",
    "\n",
    "# Save full-resolution confusion matrix\n",
    "# torch.save(trainer._tracker._full_confusion_matrix, '/raid/dataset/pointcloud/data/scannet/results/sparseconv3d_3cm.pt')"
   ]
  },
  {
   "cell_type": "code",
   "execution_count": null,
   "metadata": {},
   "outputs": [],
   "source": []
  },
  {
   "cell_type": "code",
   "execution_count": null,
   "metadata": {},
   "outputs": [],
   "source": []
  },
  {
   "cell_type": "code",
   "execution_count": null,
   "metadata": {},
   "outputs": [],
   "source": []
  },
  {
   "cell_type": "code",
   "execution_count": null,
   "metadata": {},
   "outputs": [],
   "source": []
  },
  {
   "cell_type": "code",
   "execution_count": null,
   "metadata": {},
   "outputs": [],
   "source": [
    "# vote=1 - credit x3\n",
    "trainer._tracker.get_metrics(True)['val_miou'], trainer._tracker.get_metrics(True)['val_full_miou']"
   ]
  },
  {
   "cell_type": "code",
   "execution_count": null,
   "metadata": {},
   "outputs": [],
   "source": [
    "# vote=1 - credit x3\n",
    "trainer._tracker.get_metrics(True)['val_miou'], trainer._tracker.get_metrics(True)['val_full_miou']"
   ]
  },
  {
   "cell_type": "markdown",
   "metadata": {},
   "source": [
    "# VOTE=1 - CREDIT x3\n",
    "### 3 cm > 70.8 or more\n",
    "### 5 cm > 70.3"
   ]
  },
  {
   "cell_type": "code",
   "execution_count": null,
   "metadata": {},
   "outputs": [],
   "source": [
    "# vote=1 - credit x3\n",
    "trainer._tracker.get_metrics(True)['val_miou'], trainer._tracker.get_metrics(True)['val_full_miou']"
   ]
  },
  {
   "cell_type": "code",
   "execution_count": null,
   "metadata": {},
   "outputs": [],
   "source": [
    "# vote=1 - credit x4\n",
    "trainer._tracker.get_metrics(True)['val_miou'], trainer._tracker.get_metrics(True)['val_full_miou']"
   ]
  },
  {
   "cell_type": "code",
   "execution_count": null,
   "metadata": {},
   "outputs": [],
   "source": [
    "# vote=1 - credit x3\n",
    "trainer._tracker.get_metrics(True)['val_miou'], trainer._tracker.get_metrics(True)['val_full_miou']"
   ]
  },
  {
   "cell_type": "code",
   "execution_count": null,
   "metadata": {},
   "outputs": [],
   "source": [
    "# vote=1 - credit x2\n",
    "trainer._tracker.get_metrics(True)['val_miou'], trainer._tracker.get_metrics(True)['val_full_miou']"
   ]
  },
  {
   "cell_type": "code",
   "execution_count": null,
   "metadata": {},
   "outputs": [],
   "source": [
    "# vote=1\n",
    "trainer._tracker.get_metrics(True)['val_miou'], trainer._tracker.get_metrics(True)['val_full_miou']"
   ]
  },
  {
   "cell_type": "code",
   "execution_count": null,
   "metadata": {},
   "outputs": [],
   "source": [
    "# vote=5\n",
    "trainer._tracker.get_metrics(True)['val_miou'], trainer._tracker.get_metrics(True)['val_full_miou']"
   ]
  },
  {
   "cell_type": "code",
   "execution_count": null,
   "metadata": {},
   "outputs": [],
   "source": [
    "# vote=3\n",
    "trainer._tracker.get_metrics(True)['val_miou'], trainer._tracker.get_metrics(True)['val_full_miou']"
   ]
  },
  {
   "cell_type": "code",
   "execution_count": null,
   "metadata": {},
   "outputs": [],
   "source": [
    "# vote=3\n",
    "trainer._tracker.get_metrics(True)['val_miou'], trainer._tracker.get_metrics(True)['val_full_miou']"
   ]
  },
  {
   "cell_type": "code",
   "execution_count": null,
   "metadata": {},
   "outputs": [],
   "source": [
    "# vote=3\n",
    "trainer._tracker.get_metrics(True)['val_miou'], trainer._tracker.get_metrics(True)['val_full_miou']"
   ]
  },
  {
   "cell_type": "code",
   "execution_count": null,
   "metadata": {},
   "outputs": [],
   "source": [
    "# vote=3 - x2 credit\n",
    "trainer._tracker.get_metrics(True)['val_miou'], trainer._tracker.get_metrics(True)['val_full_miou']"
   ]
  },
  {
   "cell_type": "code",
   "execution_count": null,
   "metadata": {},
   "outputs": [],
   "source": [
    "# vote=3 - ÷2 credit\n",
    "trainer._tracker.get_metrics(True)['val_miou'], trainer._tracker.get_metrics(True)['val_full_miou']"
   ]
  },
  {
   "cell_type": "markdown",
   "metadata": {},
   "source": [
    "### MORALITY : NO AUGMENTATION, JUST PLAY WITH CREDIT AND NUMBER OF VOTES "
   ]
  },
  {
   "cell_type": "code",
   "execution_count": null,
   "metadata": {},
   "outputs": [],
   "source": [
    "# vote=3\n",
    "trainer._tracker.get_metrics(True)['val_miou'], trainer._tracker.get_metrics(True)['val_full_miou']"
   ]
  },
  {
   "cell_type": "code",
   "execution_count": null,
   "metadata": {},
   "outputs": [],
   "source": [
    "# vote=3 - ÷4 credit\n",
    "trainer._tracker.get_metrics(True)['val_miou'], trainer._tracker.get_metrics(True)['val_full_miou']"
   ]
  },
  {
   "cell_type": "code",
   "execution_count": null,
   "metadata": {},
   "outputs": [],
   "source": [
    "# vote=3 - x2 credit\n",
    "trainer._tracker.get_metrics(True)['val_miou'], trainer._tracker.get_metrics(True)['val_full_miou']"
   ]
  },
  {
   "cell_type": "code",
   "execution_count": null,
   "metadata": {},
   "outputs": [],
   "source": [
    "# vote=3 - x2 credit - softer train aug\n",
    "trainer._tracker.get_metrics(True)['val_miou'], trainer._tracker.get_metrics(True)['val_full_miou']"
   ]
  },
  {
   "cell_type": "code",
   "execution_count": null,
   "metadata": {},
   "outputs": [],
   "source": [
    "# vote=3 - ÷4 credit - softer train aug\n",
    "trainer._tracker.get_metrics(True)['val_miou'], trainer._tracker.get_metrics(True)['val_full_miou']"
   ]
  },
  {
   "cell_type": "code",
   "execution_count": null,
   "metadata": {},
   "outputs": [],
   "source": [
    "# vote=3 - ÷2 credit - train aug\n",
    "trainer._tracker.get_metrics(True)['val_miou'], trainer._tracker.get_metrics(True)['val_full_miou']"
   ]
  },
  {
   "cell_type": "code",
   "execution_count": null,
   "metadata": {},
   "outputs": [],
   "source": [
    "# vote=1\n",
    "trainer._tracker.get_metrics(True)"
   ]
  },
  {
   "cell_type": "markdown",
   "metadata": {},
   "source": [
    "___"
   ]
  },
  {
   "cell_type": "code",
   "execution_count": null,
   "metadata": {},
   "outputs": [],
   "source": []
  },
  {
   "cell_type": "code",
   "execution_count": null,
   "metadata": {},
   "outputs": [],
   "source": []
  },
  {
   "cell_type": "code",
   "execution_count": null,
   "metadata": {},
   "outputs": [],
   "source": []
  },
  {
   "cell_type": "code",
   "execution_count": null,
   "metadata": {},
   "outputs": [],
   "source": []
  },
  {
   "cell_type": "code",
   "execution_count": null,
   "metadata": {},
   "outputs": [],
   "source": []
  },
  {
   "cell_type": "code",
   "execution_count": null,
   "metadata": {},
   "outputs": [],
   "source": []
  },
  {
   "cell_type": "code",
   "execution_count": null,
   "metadata": {},
   "outputs": [],
   "source": [
    "# vote=3 - ÷4 credit - train aug\n",
    "trainer._tracker.get_metrics(True)"
   ]
  },
  {
   "cell_type": "code",
   "execution_count": null,
   "metadata": {},
   "outputs": [],
   "source": [
    "# vote=3 - ÷4 credit\n",
    "trainer._tracker.get_metrics(True)"
   ]
  },
  {
   "cell_type": "code",
   "execution_count": null,
   "metadata": {},
   "outputs": [],
   "source": []
  }
 ],
 "metadata": {
  "kernelspec": {
   "display_name": "tp3d",
   "language": "python",
   "name": "tp3d"
  },
  "language_info": {
   "codemirror_mode": {
    "name": "ipython",
    "version": 3
   },
   "file_extension": ".py",
   "mimetype": "text/x-python",
   "name": "python",
   "nbconvert_exporter": "python",
   "pygments_lexer": "ipython3",
   "version": "3.8.8"
  }
 },
 "nbformat": 4,
 "nbformat_minor": 4
}
