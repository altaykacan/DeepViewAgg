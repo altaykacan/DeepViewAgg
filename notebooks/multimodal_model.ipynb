{
 "cells": [
  {
   "cell_type": "code",
   "execution_count": null,
   "metadata": {},
   "outputs": [],
   "source": [
    "%load_ext autoreload\n",
    "%autoreload 2"
   ]
  },
  {
   "cell_type": "code",
   "execution_count": 1,
   "metadata": {},
   "outputs": [],
   "source": [
    "I_GPU = 2"
   ]
  },
  {
   "cell_type": "code",
   "execution_count": 2,
   "metadata": {},
   "outputs": [],
   "source": [
    "# %load_ext autoreload\n",
    "# %autoreload 2\n",
    "import os\n",
    "import sys\n",
    "import numpy as np\n",
    "import torch\n",
    "import glob\n",
    "from matplotlib.colors import ListedColormap\n",
    "\n",
    "DIR = os.path.dirname(os.getcwd())\n",
    "ROOT = os.path.join(DIR, \"..\")\n",
    "sys.path.insert(0, ROOT)\n",
    "sys.path.insert(0, DIR)\n",
    "from torch_points3d.datasets.segmentation.multimodal.s3dis import S3DISFusedDataset\n",
    "from torch_points3d.datasets.segmentation.multimodal import IGNORE_LABEL\n",
    "\n",
    "_ = torch.cuda.is_available()\n",
    "_ = torch.cuda.memory_allocated()\n",
    "torch.cuda.set_device(I_GPU)"
   ]
  },
  {
   "cell_type": "markdown",
   "metadata": {},
   "source": [
    "# Load config"
   ]
  },
  {
   "cell_type": "code",
   "execution_count": 6,
   "metadata": {},
   "outputs": [],
   "source": [
    "from omegaconf import OmegaConf\n",
    "from torch_points3d.utils.config import hydra_read\n",
    "\n",
    "# Set root to the DATA drive, where the data was downloaded\n",
    "# DATA_ROOT = '/mnt/fa444ffd-fdb4-4701-88e7-f00297a8e29b/projects/datasets/s3dis'  # ???\n",
    "# DATA_ROOT = '/media/drobert-admin/DATA/datasets/s3dis'  # IGN DATA\n",
    "# DATA_ROOT = '/media/drobert-admin/DATA2/datasets/s3dis'  # IGN DATA2\n",
    "# DATA_ROOT = '/var/data/drobert/datasets/s3dis'  # AI4GEO\n",
    "# DATA_ROOT = '/home/qt/robertda/scratch/datasets/s3dis'  # CNES\n",
    "DATA_ROOT = '/raid/dataset/pointcloud/data/s3dis'  # ENGIE\n",
    "\n",
    "overrides = [\n",
    "    'task=segmentation',\n",
    "#     'data=segmentation/multimodal/s3disfused/no3d_5cm_768x384-exact_no-pixel-height',\n",
    "#     'data=segmentation/multimodal/s3disfused/3d_2d/sparse/no_pixel_height/5cm_1024x512-exact',\n",
    "    'data=segmentation/multimodal/s3disfused/3d_2d/sparse/no_pixel_height/5cm_512x256-exact',\n",
    "#     'models=segmentation/multimodal/no3d',\n",
    "    'models=segmentation/multimodal/sparseconv3d',\n",
    "#     'model_name=RGB_ResNet18PPM_mean-feat',\n",
    "    'model_name=Res16UNet34-L4-early-ade20k-interpolate',\n",
    "    \n",
    "    'data.fold=5',\n",
    "    'data.sample_per_epoch=2000',\n",
    "#     f\"data.dataroot={os.path.join(DATA_ROOT, '5cm_exact_768x384')}\",\n",
    "    f\"data.dataroot={os.path.join(DATA_ROOT, '5cm_exact_512x256')}\",\n",
    "]\n",
    "\n",
    "cfg = hydra_read(overrides)\n",
    "\n",
    "# print(OmegaConf.to_yaml(cfg))"
   ]
  },
  {
   "cell_type": "markdown",
   "metadata": {},
   "source": [
    "# Load S3DIS dataset"
   ]
  },
  {
   "cell_type": "code",
   "execution_count": 4,
   "metadata": {},
   "outputs": [
    {
     "data": {
      "application/vnd.jupyter.widget-view+json": {
       "model_id": "735ef1e3f2404bbda0097b5a37687075",
       "version_major": 2,
       "version_minor": 0
      },
      "text/plain": [
       "  0%|          | 0/5 [00:00<?, ?it/s]"
      ]
     },
     "metadata": {},
     "output_type": "display_data"
    },
    {
     "data": {
      "application/vnd.jupyter.widget-view+json": {
       "model_id": "29349dd91a8747129a95b876427ce0ed",
       "version_major": 2,
       "version_minor": 0
      },
      "text/plain": [
       "  0%|          | 0/1 [00:00<?, ?it/s]"
      ]
     },
     "metadata": {},
     "output_type": "display_data"
    },
    {
     "name": "stdout",
     "output_type": "stream",
     "text": [
      "Time = 97.1 sec.\n"
     ]
    }
   ],
   "source": [
    "from time import time\n",
    "start = time()\n",
    "    \n",
    "dataset = S3DISFusedDataset(cfg.data)\n",
    "# print(dataset)\n",
    "\n",
    "print(f\"Time = {time() - start:0.1f} sec.\")"
   ]
  },
  {
   "cell_type": "code",
   "execution_count": null,
   "metadata": {},
   "outputs": [],
   "source": [
    "# torch.save(dataset, '/home/ign.fr/drobert-admin/Bureau/s3dis_test_bckp.pt')"
   ]
  },
  {
   "cell_type": "code",
   "execution_count": null,
   "metadata": {},
   "outputs": [],
   "source": [
    "# from time import time\n",
    "# start = time()\n",
    "\n",
    "# dataset = torch.load('/home/ign.fr/drobert-admin/Bureau/s3dis_test_bckp.pt')\n",
    "\n",
    "# print(f\"Time = {time() - start:0.1f} sec.\")"
   ]
  },
  {
   "cell_type": "markdown",
   "metadata": {},
   "source": [
    "# Load model"
   ]
  },
  {
   "cell_type": "code",
   "execution_count": null,
   "metadata": {},
   "outputs": [],
   "source": [
    "from torch_points3d.models.model_factory import instantiate_model\n",
    "\n",
    "# print(f\"\\nInitial GPU state\")\n",
    "init_memory = torch.cuda.memory_allocated(0)\n",
    "print(f\"CUDA initial memory : {init_memory / (1024*1024):0.1f} Mo\")\n",
    "\n",
    "print(f\"\\nModel initialization\")\n",
    "print(f\"Model: {cfg.model_name}\")\n",
    "model = instantiate_model(cfg, dataset)\n",
    "model = model.train().cuda()\n",
    "# model = model.train().cpu()\n",
    "model_memory = torch.cuda.memory_allocated(0) - init_memory\n",
    "print(f\"CUDA model memory : {model_memory / (1024*1024):0.1f} Mo\")\n",
    "n_params = sum(p.numel() for p in model.parameters() if p.requires_grad)\n",
    "print(f\"Model parameters : {n_params / 10**6:0.1f} M\")\n",
    "\n",
    "print(f\"\\nData loading\")\n",
    "from torch_points3d.core.multimodal.data import MMBatch\n",
    "# batch = MMBatch.from_mm_data_list([dataset.train_dataset[0], dataset.train_dataset[0], dataset.train_dataset[0], dataset.train_dataset[0]])\n",
    "batch = MMBatch.from_mm_data_list([dataset.train_dataset[0]])\n",
    "if model.is_multimodal:\n",
    "#     n_pixels = sum([im.num_views * im.img_size[0] * im.img_size[1] for im in batch.modalities['image']])\n",
    "#     credit_max = dataset.train_transform_image.transforms[-1].credit\n",
    "    print(batch)\n",
    "#     print(f\"Used pixel credit: {n_pixels} / {credit_max} = {n_pixels / credit_max * 100:0.1f} %\")\n",
    "else:\n",
    "    batch = batch.data\n",
    "    print(batch)\n",
    "\n",
    "print(f\"\\nForward pass\")\n",
    "model.set_input(batch, model.device)\n",
    "batch = model(batch)\n",
    "forward_memory = torch.cuda.memory_allocated(0) - init_memory - model_memory\n",
    "print(f\"CUDA activations memory : {forward_memory / (1024*1024):0.1f} Mo\")\n",
    "#if model.is_multimodal:\n",
    "#    print(f\"Memory cost per pixel : {forward_memory / 1024 / n_pixels:0.1f} ko/pixel\")\n",
    "\n",
    "print(f\"\\nLoss\")\n",
    "model.loss_seg\n",
    "\n",
    "print(f\"\\nBackward pass\")\n",
    "model.backward()\n",
    "\n",
    "print(f\"\\nOK\")\n",
    "\n",
    "del model, batch"
   ]
  },
  {
   "cell_type": "code",
   "execution_count": null,
   "metadata": {},
   "outputs": [],
   "source": []
  },
  {
   "cell_type": "markdown",
   "metadata": {},
   "source": [
    "# Dataset iteration speed"
   ]
  },
  {
   "cell_type": "code",
   "execution_count": null,
   "metadata": {},
   "outputs": [],
   "source": [
    "from time import time\n",
    "\n",
    "n_iter = 100\n",
    "start = time()\n",
    "for _ in range(n_iter):\n",
    "    _ = dataset.train_dataset[0]\n",
    "time_per_iter = (time() - start) / n_iter\n",
    "print(f\"Time per iteration: {time_per_iter:0.4f}\")"
   ]
  },
  {
   "cell_type": "markdown",
   "metadata": {},
   "source": [
    "# Model feature distribution on dataset"
   ]
  },
  {
   "cell_type": "code",
   "execution_count": null,
   "metadata": {},
   "outputs": [],
   "source": []
  }
 ],
 "metadata": {
  "kernelspec": {
   "display_name": "tp3d",
   "language": "python",
   "name": "tp3d"
  },
  "language_info": {
   "codemirror_mode": {
    "name": "ipython",
    "version": 3
   },
   "file_extension": ".py",
   "mimetype": "text/x-python",
   "name": "python",
   "nbconvert_exporter": "python",
   "pygments_lexer": "ipython3",
   "version": "3.8.8"
  }
 },
 "nbformat": 4,
 "nbformat_minor": 4
}
