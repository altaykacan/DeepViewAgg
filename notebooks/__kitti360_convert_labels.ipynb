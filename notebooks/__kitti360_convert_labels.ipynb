{
 "cells": [
  {
   "cell_type": "code",
   "execution_count": 1,
   "metadata": {},
   "outputs": [],
   "source": [
    "import torch\n",
    "import numpy as np\n",
    "import os\n",
    "import os.path as osp\n",
    "import glob\n",
    "from tqdm.auto import tqdm as tq\n",
    "\n",
    "paths = glob.glob('/raid/dataset/pointcloud/data/kitti360/5cm/kitti360mm/processed/*/3d/*/*.pt')"
   ]
  },
  {
   "cell_type": "code",
   "execution_count": 2,
   "metadata": {},
   "outputs": [
    {
     "name": "stdout",
     "output_type": "stream",
     "text": [
      "True\n"
     ]
    }
   ],
   "source": [
    "old_id = np.array([-1,  -1,  -1,  -1,  -1,  -1,  -1,  0,  1,  -1,  -1,  2,  3,  4,  -1,  -1,  -1,  5,  -1,  6,  7,  8,  9,  -1,  10,  11,  12,  13,  14,  -1,  -1,  15,  16,  17,  2,  4,  -1,  5,  -1,  -1,  -1,  -1,  -1,  -1,  -1,  -1])\n",
    "new_id = np.array([ -1,  -1,  -1,  -1,  -1,  -1,  -1,  0,  1,  -1,  -1,  2,  3,  4,  -1,  -1,  -1,  5,  -1,  6,  7,  8,  9,  -1,  10,  -1,  11,  12,  -1,  -1,  -1,  -1,  13,  14,  2,  4,  -1,  5,  -1,  -1,  -1,  -1,  -1,  -1,  -1, -1 ])\n",
    "\n",
    "_, inverse = np.unique(old_id, return_index=True)\n",
    "\n",
    "OLD_TO_NEW = np.concatenate((np.array(new_id[inverse][1:]), [-1]))\n",
    "\n",
    "print(all(OLD_TO_NEW[old_id] == new_id))"
   ]
  },
  {
   "cell_type": "markdown",
   "metadata": {},
   "source": [
    "# Convert samplings"
   ]
  },
  {
   "cell_type": "code",
   "execution_count": 16,
   "metadata": {},
   "outputs": [
    {
     "data": {
      "application/vnd.jupyter.widget-view+json": {
       "model_id": "af7fd4e897ea411b885f92ec893b09b4",
       "version_major": 2,
       "version_minor": 0
      },
      "text/plain": [
       "  0%|          | 0/1508 [00:00<?, ?it/s]"
      ]
     },
     "metadata": {},
     "output_type": "display_data"
    }
   ],
   "source": [
    "# for path in tq(paths):\n",
    "#     directory = osp.dirname(path)\n",
    "#     name = osp.splitext(osp.basename(path))[0]\n",
    "#     ext = '.pt'\n",
    "#     if len(name.split('_')) < 3:\n",
    "#         continue\n",
    "    \n",
    "#     if 'test' in path:\n",
    "#         continue\n",
    "        \n",
    "#     if getattr(sampling['data'], 'y', None) is not None:\n",
    "#         sampling['data'].y = torch.from_numpy(OLD_TO_NEW)[sampling['data'].y]\n",
    "#         unique, counts = np.unique(np.asarray(sampling['data'].y), return_counts=True)\n",
    "#         sampling['labels'] = unique\n",
    "#         sampling['label_counts'] = counts\n",
    "#     else:\n",
    "#         print(path)\n",
    "    \n",
    "#     torch.save(sampling, path)"
   ]
  },
  {
   "cell_type": "markdown",
   "metadata": {},
   "source": [
    "# Convert 3D point labels"
   ]
  },
  {
   "cell_type": "code",
   "execution_count": 19,
   "metadata": {},
   "outputs": [
    {
     "data": {
      "application/vnd.jupyter.widget-view+json": {
       "model_id": "af0bd177657e48648c4959b0ce2db1f8",
       "version_major": 2,
       "version_minor": 0
      },
      "text/plain": [
       "  0%|          | 0/1508 [00:00<?, ?it/s]"
      ]
     },
     "metadata": {},
     "output_type": "display_data"
    }
   ],
   "source": [
    "# for path in tq(paths):\n",
    "#     directory = osp.dirname(path)\n",
    "#     name = osp.splitext(osp.basename(path))[0]\n",
    "#     ext = '.pt'\n",
    "    \n",
    "#     # Skip sampling paths\n",
    "#     if len(name.split('_')) > 2:\n",
    "#         continue\n",
    "    \n",
    "#     if 'test' in path:\n",
    "#         continue\n",
    "    \n",
    "#     data = torch.load(path)\n",
    "    \n",
    "#     if getattr(data, 'y', None) is not None:\n",
    "#         data.y = torch.from_numpy(OLD_TO_NEW)[data.y]\n",
    "        \n",
    "#     torch.save(data, path)"
   ]
  },
  {
   "cell_type": "code",
   "execution_count": null,
   "metadata": {},
   "outputs": [],
   "source": []
  },
  {
   "cell_type": "code",
   "execution_count": null,
   "metadata": {},
   "outputs": [],
   "source": []
  },
  {
   "cell_type": "code",
   "execution_count": null,
   "metadata": {},
   "outputs": [],
   "source": [
    "old_id = np.array([-1,  -1,  -1,  -1,  -1,  -1,  -1,  0,  1,  -1,  -1,  2,  3,  4,  -1,  -1,  -1,  5,  -1,  6,  7,  8,  9,  -1,  10,  11,  12,  13,  14,  -1,  -1,  15,  16,  17,  2,  4,  -1,  5,  -1,  -1,  -1,  -1,  -1,  -1,  -1,  -1])\n",
    "new_id = np.array([ -1,  -1,  -1,  -1,  -1,  -1,  -1,  0,  1,  -1,  -1,  2,  3,  4,  -1,  -1,  -1,  5,  -1,  6,  7,  8,  9,  -1,  10,  -1,  11,  12,  -1,  -1,  -1,  -1,  13,  14,  2,  4,  -1,  5,  -1,  -1,  -1,  -1,  -1,  -1,  -1, -1 ])\n",
    "\n",
    "_, inverse = np.unique(old_id, return_index=True)\n",
    "\n",
    "OLD_TO_NEW = np.concatenate((np.array(new_id[inverse][1:]), [-1]))\n",
    "\n",
    "print(all(OLD_TO_NEW[old_id] == new_id))"
   ]
  },
  {
   "cell_type": "code",
   "execution_count": null,
   "metadata": {},
   "outputs": [],
   "source": []
  },
  {
   "cell_type": "code",
   "execution_count": null,
   "metadata": {},
   "outputs": [],
   "source": [
    "y = torch.from_numpy(OLD_TO_NEW)[sampling['data'].y]\n",
    "y"
   ]
  },
  {
   "cell_type": "code",
   "execution_count": null,
   "metadata": {},
   "outputs": [],
   "source": [
    "if hasattr(sampling['data'], 'y'):\n",
    "    \n",
    "    sampling['data'].y = torch.from_numpy(OLD_TO_NEW)[sampling['data'].y]\n",
    "    \n",
    "    unique, counts = np.unique(np.asarray(sampling['data'].y), return_counts=True)\n",
    "\n",
    "    sampling['labels'] = unique\n",
    "    sampling['label_counts'] = counts"
   ]
  },
  {
   "cell_type": "code",
   "execution_count": null,
   "metadata": {},
   "outputs": [],
   "source": []
  },
  {
   "cell_type": "code",
   "execution_count": null,
   "metadata": {},
   "outputs": [],
   "source": []
  },
  {
   "cell_type": "code",
   "execution_count": null,
   "metadata": {},
   "outputs": [],
   "source": [
    "torch.from_numpy(OLD_TO_NEW)[sampling['data'].y].unique()"
   ]
  },
  {
   "cell_type": "code",
   "execution_count": null,
   "metadata": {},
   "outputs": [],
   "source": [
    "sampling['data'].y.unique()"
   ]
  },
  {
   "cell_type": "code",
   "execution_count": null,
   "metadata": {},
   "outputs": [],
   "source": [
    "sampling['labels']"
   ]
  },
  {
   "cell_type": "code",
   "execution_count": null,
   "metadata": {},
   "outputs": [],
   "source": [
    "to_labels = OLD_TO_NEW[sampling['labels']]\n",
    "labels = np.unique(to_labels)\n",
    "labels"
   ]
  },
  {
   "cell_type": "code",
   "execution_count": null,
   "metadata": {},
   "outputs": [],
   "source": []
  },
  {
   "cell_type": "code",
   "execution_count": null,
   "metadata": {},
   "outputs": [],
   "source": [
    "sampling['label_counts']"
   ]
  },
  {
   "cell_type": "code",
   "execution_count": null,
   "metadata": {},
   "outputs": [],
   "source": [
    "label_counts = np.zeros_like(labels)\n",
    "for l, c in zip(to_labels, sampling['labels']):\n",
    "    label_counts[l]"
   ]
  },
  {
   "cell_type": "code",
   "execution_count": null,
   "metadata": {},
   "outputs": [],
   "source": []
  }
 ],
 "metadata": {
  "kernelspec": {
   "display_name": "tp3d",
   "language": "python",
   "name": "tp3d"
  },
  "language_info": {
   "codemirror_mode": {
    "name": "ipython",
    "version": 3
   },
   "file_extension": ".py",
   "mimetype": "text/x-python",
   "name": "python",
   "nbconvert_exporter": "python",
   "pygments_lexer": "ipython3",
   "version": "3.8.8"
  }
 },
 "nbformat": 4,
 "nbformat_minor": 4
}
