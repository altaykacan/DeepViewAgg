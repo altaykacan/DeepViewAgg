{
 "cells": [
  {
   "cell_type": "code",
   "execution_count": 1,
   "metadata": {},
   "outputs": [],
   "source": [
    "# %load_ext autoreload\n",
    "# %autoreload 2\n",
    "import torch\n",
    "import numpy as np\n",
    "import matplotlib.pyplot as plt\n",
    "import plotly\n",
    "\n",
    "def hex_to_tensor(h):\n",
    "    h = h.lstrip('#')\n",
    "    rgb = tuple(int(h[i:i + 2], 16) for i in (0, 2, 4))\n",
    "    return torch.Tensor(rgb) / 255\n",
    "\n",
    "PALETTE = [hex_to_tensor(h) for h in plotly.colors.qualitative.Plotly]"
   ]
  },
  {
   "cell_type": "code",
   "execution_count": 2,
   "metadata": {},
   "outputs": [
    {
     "data": {
      "text/plain": "<Figure size 432x288 with 1 Axes>",
      "image/png": "[encoded data removed]"
     },
     "metadata": {
      "needs_background": "light"
     },
     "output_type": "display_data"
    }
   ],
   "source": [
    "w = 1\n",
    "h = 1\n",
    "\n",
    "red = torch.Tensor([1, 0, 0])\n",
    "green = torch.Tensor([0, 1, 0])\n",
    "blue = torch.Tensor([0, 0, 1])\n",
    "pink = torch.Tensor([1, 0, 1])\n",
    "\n",
    "image = torch.zeros(3, w*2, h*2)\n",
    "image[:, :w, :h] = red.view(-1, 1, 1)\n",
    "image[:, w:, :h] = green.view(-1, 1, 1) \n",
    "image[:, :w, h:] = blue.view(-1, 1, 1) \n",
    "image[:, w:, h:] = pink.view(-1, 1, 1)\n",
    "\n",
    "# image[:, :w, :h] = PALETTE[0].view(-1, 1, 1)\n",
    "# image[:, w:, :h] = PALETTE[1].view(-1, 1, 1) \n",
    "# image[:, :w, h:] = PALETTE[4].view(-1, 1, 1) \n",
    "# image[:, w:, h:] = PALETTE[2].view(-1, 1, 1)\n",
    "\n",
    "plt.imshow(image.permute(1, 2, 0))\n",
    "plt.show()"
   ]
  },
  {
   "cell_type": "code",
   "execution_count": 3,
   "metadata": {},
   "outputs": [
    {
     "data": {
      "text/plain": "<Figure size 432x288 with 1 Axes>",
      "image/png": "[encoded data removed]"
     },
     "metadata": {
      "needs_background": "light"
     },
     "output_type": "display_data"
    }
   ],
   "source": [
    "image_pad = torch.nn.ZeroPad2d(1)(image)\n",
    "\n",
    "plt.imshow(image_pad.permute(1, 2, 0))\n",
    "plt.show()"
   ]
  },
  {
   "cell_type": "markdown",
   "metadata": {},
   "source": [
    "# Interpolate a single image with `torch.nn.functional.grid_sample`"
   ]
  },
  {
   "cell_type": "code",
   "execution_count": 4,
   "metadata": {},
   "outputs": [
    {
     "data": {
      "text/plain": "<Figure size 432x288 with 1 Axes>",
      "image/png": "[encoded data removed]"
     },
     "metadata": {
      "needs_background": "light"
     },
     "output_type": "display_data"
    }
   ],
   "source": [
    "# Dense interpolation\n",
    "res = 32\n",
    "grid = torch.stack(torch.meshgrid(torch.linspace(-1, 1, res), torch.linspace(-1, 1, res))).permute(1, 2, 0).unsqueeze(0)\n",
    "out = torch.nn.functional.grid_sample(image.unsqueeze(0), grid, align_corners=False).squeeze(0).squeeze(-1)\n",
    "\n",
    "plt.imshow(out.permute(1, 2, 0))\n",
    "plt.show()"
   ]
  },
  {
   "cell_type": "code",
   "execution_count": 5,
   "metadata": {},
   "outputs": [],
   "source": [
    "# Sparse interpolation\n",
    "grid_sparse = grid[:, np.random.choice(np.arange(res), 5), np.random.choice(np.arange(res), 5)].unsqueeze(2)\n",
    "out_sparse = torch.nn.functional.grid_sample(image.unsqueeze(0), grid_sparse, align_corners=False).squeeze(0).squeeze(-1)"
   ]
  },
  {
   "cell_type": "code",
   "execution_count": 7,
   "metadata": {},
   "outputs": [
    {
     "data": {
      "text/plain": "True"
     },
     "execution_count": 7,
     "metadata": {},
     "output_type": "execute_result"
    }
   ],
   "source": [
    "# Make sure that the sparse and dense interpolations match \n",
    "x, y = ((grid_sparse.squeeze() + 1) * res / 2).long().split(1, dim=1)\n",
    "torch.equal(out[:, x.squeeze(), y.squeeze()], out_sparse)"
   ]
  },
  {
   "cell_type": "markdown",
   "metadata": {},
   "source": [
    "This works fine for a single image but `torch.nn.functional.grid_sample` cannot be used to index mapped features from a batch of images, because the grid is expected to have the same size for each image. Unfortunately, in our case, the images receive mappings of uneven sizes. For that reason, we need to build our own sparse interpolation implementation. "
   ]
  },
  {
   "cell_type": "markdown",
   "metadata": {},
   "source": [
    "# Interpolate multiple images with different samplings"
   ]
  },
  {
   "cell_type": "code",
   "execution_count": 8,
   "metadata": {},
   "outputs": [],
   "source": [
    "n_views = 10\n",
    "n_images = 1\n",
    "\n",
    "idx_image = torch.randint(0, n_images, (n_views,))\n",
    "coords = torch.rand(n_views, 2)  # coordinates are pixel mappings converted to [0, 1]\n",
    "images = torch.stack([image.clone() for _ in range(n_images)])"
   ]
  },
  {
   "cell_type": "code",
   "execution_count": 9,
   "metadata": {},
   "outputs": [],
   "source": [
    "def interpolate(images, idx_image, coords):\n",
    "    # Input pixels are expected to be float in [0, 1]\n",
    "\n",
    "    device = images.device\n",
    "\n",
    "    # Recover the image dimensions\n",
    "    h, w = images.shape[2:]\n",
    "\n",
    "    # Pad images with 0-feature\n",
    "    images_pad = torch.nn.ZeroPad2d(1)(images)\n",
    "\n",
    "    # Adapt [0, 1] coordinates to padded image coordinate system\n",
    "    pixels = coords * torch.Tensor([[h, w]], device=device)\n",
    "\n",
    "    # Compute the interpolation pixel coordinates: top-left, top-right, \n",
    "    # bottom-left, bottom-right\n",
    "    pixels_tl = torch.stack((pixels[:, 0].floor(), pixels[:, 1].floor())).T.long()\n",
    "    pixels_tr = torch.stack((pixels[:, 0].floor(), pixels[:, 1].ceil())).T.long()\n",
    "    pixels_bl = torch.stack((pixels[:, 0].ceil(), pixels[:, 1].floor())).T.long()\n",
    "    pixels_br = torch.stack((pixels[:, 0].ceil(), pixels[:, 1].ceil())).T.long()\n",
    "\n",
    "    # Compute the weight associated with each interpolation point\n",
    "    w_tl = torch.prod(pixels - pixels_br, dim=1).abs().unsqueeze(1)\n",
    "    w_tr = torch.prod(pixels - pixels_bl, dim=1).abs().unsqueeze(1)\n",
    "    w_bl = torch.prod(pixels - pixels_tr, dim=1).abs().unsqueeze(1)\n",
    "    w_br = torch.prod(pixels - pixels_tl, dim=1).abs().unsqueeze(1)\n",
    "    \n",
    "    out = w_tl * images_pad[idx_image, :, pixels_tl[:, 0], pixels_tl[:, 1]] \\\n",
    "        + w_tr * images_pad[idx_image, :, pixels_tr[:, 0], pixels_tr[:, 1]] \\\n",
    "        + w_bl * images_pad[idx_image, :, pixels_bl[:, 0], pixels_bl[:, 1]] \\\n",
    "        + w_br * images_pad[idx_image, :, pixels_br[:, 0], pixels_br[:, 1]]\n",
    "    \n",
    "    return out"
   ]
  },
  {
   "cell_type": "code",
   "execution_count": 303,
   "metadata": {},
   "outputs": [
    {
     "data": {
      "text/plain": [
       "tensor([[[[-0.3548,  0.1613]],\n",
       "\n",
       "         [[ 0.9355,  0.2258]],\n",
       "\n",
       "         [[ 0.2903,  0.8710]],\n",
       "\n",
       "         [[-0.8065,  0.7419]],\n",
       "\n",
       "         [[-0.3548,  0.9355]]]])"
      ]
     },
     "execution_count": 303,
     "metadata": {},
     "output_type": "execute_result"
    }
   ],
   "source": [
    "grid_sparse"
   ]
  },
  {
   "cell_type": "code",
   "execution_count": 10,
   "metadata": {},
   "outputs": [],
   "source": [
    "coords = (grid_sparse.squeeze() + 1) / 2\n",
    "n_views = coords.shape[0]\n",
    "idx_image = torch.zeros(n_views).long()\n",
    "images = image.unsqueeze(0)\n",
    "\n",
    "out_manual = interpolate(images, idx_image, coords)"
   ]
  },
  {
   "cell_type": "code",
   "execution_count": 287,
   "metadata": {},
   "outputs": [
    {
     "data": {
      "text/plain": [
       "tensor([[0.5411, 0.0000, 0.1041],\n",
       "        [0.2612, 0.7242, 0.2258],\n",
       "        [0.3444, 0.0375, 0.8710],\n",
       "        [0.0499, 0.0000, 0.1436],\n",
       "        [0.0416, 0.0000, 0.6035]])"
      ]
     },
     "execution_count": 287,
     "metadata": {},
     "output_type": "execute_result"
    }
   ],
   "source": [
    "out_manual"
   ]
  },
  {
   "cell_type": "code",
   "execution_count": 288,
   "metadata": {},
   "outputs": [
    {
     "data": {
      "text/plain": [
       "tensor([[0.3855, 0.5653, 0.1452],\n",
       "        [0.4097, 0.0000, 0.5645],\n",
       "        [0.4971, 0.1319, 0.4971],\n",
       "        [0.0000, 0.5258, 0.0000],\n",
       "        [0.0819, 0.4826, 0.0819]])"
      ]
     },
     "execution_count": 288,
     "metadata": {},
     "output_type": "execute_result"
    }
   ],
   "source": [
    "out_sparse.T"
   ]
  },
  {
   "cell_type": "code",
   "execution_count": 291,
   "metadata": {},
   "outputs": [
    {
     "data": {
      "text/plain": [
       "torch.Size([3, 32, 32])"
      ]
     },
     "execution_count": 291,
     "metadata": {},
     "output_type": "execute_result"
    }
   ],
   "source": [
    "out.shape"
   ]
  },
  {
   "cell_type": "code",
   "execution_count": 293,
   "metadata": {},
   "outputs": [],
   "source": [
    "coords = torch.Tensor([[0, 0]])\n",
    "n_views = coords.shape[0]\n",
    "idx_image = torch.zeros(n_views).long()\n",
    "images = image.unsqueeze(0)\n",
    "\n",
    "out_manual = interpolate(images, idx_image, coords)"
   ]
  },
  {
   "cell_type": "code",
   "execution_count": 294,
   "metadata": {},
   "outputs": [
    {
     "data": {
      "text/plain": [
       "tensor([[0., 0., 0.]])"
      ]
     },
     "execution_count": 294,
     "metadata": {},
     "output_type": "execute_result"
    }
   ],
   "source": [
    "out_manual"
   ]
  },
  {
   "cell_type": "code",
   "execution_count": 298,
   "metadata": {},
   "outputs": [
    {
     "data": {
      "text/plain": [
       "tensor([[0., 0.]])"
      ]
     },
     "execution_count": 298,
     "metadata": {},
     "output_type": "execute_result"
    }
   ],
   "source": [
    "coords"
   ]
  },
  {
   "cell_type": "code",
   "execution_count": 300,
   "metadata": {},
   "outputs": [
    {
     "data": {
      "text/plain": [
       "torch.Size([3, 32, 32])"
      ]
     },
     "execution_count": 300,
     "metadata": {},
     "output_type": "execute_result"
    }
   ],
   "source": [
    "out.shape"
   ]
  },
  {
   "cell_type": "code",
   "execution_count": 297,
   "metadata": {},
   "outputs": [
    {
     "data": {
      "text/plain": [
       "tensor([[0.2500],\n",
       "        [0.0000],\n",
       "        [0.0000]])"
      ]
     },
     "execution_count": 297,
     "metadata": {},
     "output_type": "execute_result"
    }
   ],
   "source": [
    "out[:, (coords[:, 0] * res).long(), (coords[:, 1] * res).long()]"
   ]
  },
  {
   "cell_type": "code",
   "execution_count": 301,
   "metadata": {},
   "outputs": [
    {
     "data": {
      "text/plain": [
       "tensor([0.2500, 0.0000, 0.0000])"
      ]
     },
     "execution_count": 301,
     "metadata": {},
     "output_type": "execute_result"
    }
   ],
   "source": [
    "out[:, 0, 0]"
   ]
  },
  {
   "cell_type": "code",
   "execution_count": null,
   "metadata": {},
   "outputs": [],
   "source": []
  }
 ],
 "metadata": {
  "kernelspec": {
   "display_name": "Python 3",
   "language": "python",
   "name": "python3"
  },
  "language_info": {
   "codemirror_mode": {
    "name": "ipython",
    "version": 3
   },
   "file_extension": ".py",
   "mimetype": "text/x-python",
   "name": "python",
   "nbconvert_exporter": "python",
   "pygments_lexer": "ipython3",
   "version": "3.8.5"
  }
 },
 "nbformat": 4,
 "nbformat_minor": 4
}