{
 "cells": [
  {
   "cell_type": "code",
   "execution_count": 1,
   "metadata": {},
   "outputs": [],
   "source": [
    "I_GPU = 0"
   ]
  },
  {
   "cell_type": "code",
   "execution_count": 2,
   "metadata": {},
   "outputs": [],
   "source": [
    "# %load_ext autoreload\n",
    "# %autoreload 2\n",
    "import os\n",
    "import sys\n",
    "import numpy as np\n",
    "import torch\n",
    "import glob\n",
    "from matplotlib.colors import ListedColormap\n",
    "from omegaconf import OmegaConf\n",
    "\n",
    "os.system('/usr/bin/Xvfb :99 -screen 0 1024x768x24 &')\n",
    "os.environ['DISPLAY'] = ':99'\n",
    "os.environ['PYVISTA_OFF_SCREEN'] = 'True'\n",
    "os.environ['PYVISTA_USE_PANEL'] = 'True'\n",
    "torch.cuda.set_device(I_GPU)"
   ]
  },
  {
   "cell_type": "code",
   "execution_count": 3,
   "metadata": {},
   "outputs": [],
   "source": [
    "DIR = os.path.dirname(os.getcwd())\n",
    "ROOT = os.path.join(DIR, \"..\")\n",
    "sys.path.insert(0, ROOT)\n",
    "sys.path.insert(0, DIR)\n",
    "from torch_points3d.datasets.segmentation.multimodal.s3dis import S3DISFusedDataset\n",
    "from torch_points3d.datasets.segmentation.multimodal import IGNORE_LABEL\n",
    "\n",
    "from torch_points3d.visualization.multimodal_data import visualize_mm_data"
   ]
  },
  {
   "cell_type": "code",
   "execution_count": 4,
   "metadata": {},
   "outputs": [
    {
     "name": "stdout",
     "output_type": "stream",
     "text": [
      "0.043563966034861006\n"
     ]
    }
   ],
   "source": [
    "# root = '/raid/dataset/pointcloud/data/s3dis/2cm/s3disfused/processed'  # 1, 2, 3, 4, 6\n",
    "root = '/raid/dataset/pointcloud/data/s3dis/5cm/s3disfused/processed'  # 5\n",
    "area_id = 5\n",
    "\n",
    "area_raw = torch.load(os.path.join(root, f'raw_area_{area_id-1}.pt'))\n",
    "area_test = torch.load(os.path.join(root, f'test_{area_id}.pt'))\n",
    "\n",
    "print(area_test.num_nodes / area_raw.num_nodes)"
   ]
  },
  {
   "cell_type": "code",
   "execution_count": 37,
   "metadata": {},
   "outputs": [
    {
     "name": "stdout",
     "output_type": "stream",
     "text": [
      "0.043563966034861006\n"
     ]
    }
   ],
   "source": [
    "from torch_points3d.core.data_transform.grid_transform import SaveOriginalPosId, GridSampling3D\n",
    "\n",
    "data = SaveOriginalPosId()(area_raw.clone())\n",
    "data = GridSampling3D(size=0.05)(data)\n",
    "\n",
    "print(data.num_nodes / area_raw.num_nodes)"
   ]
  },
  {
   "cell_type": "code",
   "execution_count": 42,
   "metadata": {},
   "outputs": [
    {
     "name": "stdout",
     "output_type": "stream",
     "text": [
      "0.043563966034861006\n"
     ]
    }
   ],
   "source": [
    "root = '/raid/dataset/pointcloud/data/s3dis/2cm_exact_1024x512/s3disfused/processed'  # 1, 4, 5, 6\n",
    "root = '/raid/dataset/pointcloud/data/s3dis/5cm_exact_1024x512/s3disfused/processed'  # 2, 3, 5\n",
    "area_id = 5\n",
    "\n",
    "area_raw = torch.load(os.path.join(root, f'raw_area_{area_id-1}.pt'))\n",
    "area_test = torch.load(os.path.join(root, f'test_{area_id}.pt'))[0]\n",
    "\n",
    "print(area_test.num_nodes / area_raw.num_nodes)"
   ]
  },
  {
   "cell_type": "code",
   "execution_count": null,
   "metadata": {},
   "outputs": [],
   "source": [
    "from torch_points3d.core.data_transform.grid_transform import SaveOriginalPosId, GridSampling3D\n",
    "\n",
    "data = SaveOriginalPosId()(area_raw.clone())\n",
    "data = GridSampling3D(size=0.05)(data)\n",
    "\n",
    "print(data.num_nodes / area_raw.num_nodes)"
   ]
  }
 ],
 "metadata": {
  "kernelspec": {
   "display_name": "tp3d",
   "language": "python",
   "name": "tp3d"
  },
  "language_info": {
   "codemirror_mode": {
    "name": "ipython",
    "version": 3
   },
   "file_extension": ".py",
   "mimetype": "text/x-python",
   "name": "python",
   "nbconvert_exporter": "python",
   "pygments_lexer": "ipython3",
   "version": "3.8.8"
  }
 },
 "nbformat": 4,
 "nbformat_minor": 4
}
