{
 "cells": [
  {
   "cell_type": "code",
   "execution_count": 1,
   "metadata": {},
   "outputs": [],
   "source": [
    "I_GPU = 1"
   ]
  },
  {
   "cell_type": "code",
   "execution_count": 2,
   "metadata": {},
   "outputs": [],
   "source": [
    "# %load_ext autoreload\n",
    "# %autoreload 2\n",
    "import os\n",
    "import sys\n",
    "import numpy as np\n",
    "import torch\n",
    "import glob\n",
    "from matplotlib.colors import ListedColormap\n",
    "from omegaconf import OmegaConf\n",
    "import matplotlib.pyplot as plt\n",
    "import warnings\n",
    "warnings.filterwarnings('ignore')\n",
    "\n",
    "DIR = os.path.dirname(os.getcwd())\n",
    "ROOT = os.path.join(DIR, \"..\")\n",
    "sys.path.insert(0, ROOT)\n",
    "sys.path.insert(0, DIR)\n",
    "from torch_points3d.datasets.segmentation.multimodal.s3dis import S3DISFusedDataset\n",
    "# from torch_points3d.datasets.segmentation.s3dis import S3DISFusedDataset\n",
    "from torch_points3d.datasets.segmentation import IGNORE_LABEL\n",
    "\n",
    "_ = torch.cuda.is_available()\n",
    "_ = torch.cuda.memory_allocated()\n",
    "torch.cuda.set_device(I_GPU)"
   ]
  },
  {
   "cell_type": "code",
   "execution_count": 3,
   "metadata": {},
   "outputs": [],
   "source": [
    "from omegaconf import OmegaConf\n",
    "from torch_points3d.utils.config import hydra_read\n",
    "\n",
    "# Set root to the DATA drive, where the data was downloaded\n",
    "# DATA_ROOT = '/mnt/fa444ffd-fdb4-4701-88e7-f00297a8e29b/projects/datasets/s3dis'  # ???\n",
    "# DATA_ROOT = '/media/drobert-admin/DATA/datasets/s3dis'  # IGN DATA\n",
    "# DATA_ROOT = '/media/drobert-admin/DATA2/datasets/s3dis'  # IGN DATA2\n",
    "# DATA_ROOT = '/var/data/drobert/datasets/s3dis'  # AI4GEO\n",
    "# DATA_ROOT = '/home/qt/robertda/scratch/datasets/s3dis'  # CNES\n",
    "DATA_ROOT = '/raid/dataset/pointcloud/data/s3dis'  # ENGIE\n"
   ]
  },
  {
   "cell_type": "code",
   "execution_count": null,
   "metadata": {},
   "outputs": [
    {
     "name": "stdout",
     "output_type": "stream",
     "text": [
      "Run exp=align fold=2 resolution=5cm\n"
     ]
    },
    {
     "data": {
      "application/vnd.jupyter.widget-view+json": {
       "model_id": "02fd19a9c9d04437805e50545435a618",
       "version_major": 2,
       "version_minor": 0
      },
      "text/plain": [
       "  0%|          | 0/5 [00:00<?, ?it/s]"
      ]
     },
     "metadata": {},
     "output_type": "display_data"
    },
    {
     "data": {
      "application/vnd.jupyter.widget-view+json": {
       "model_id": "dfde8a40866a473cbd76ce2c9fb5b1bf",
       "version_major": 2,
       "version_minor": 0
      },
      "text/plain": [
       "  0%|          | 0/1 [00:00<?, ?it/s]"
      ]
     },
     "metadata": {},
     "output_type": "display_data"
    },
    {
     "name": "stdout",
     "output_type": "stream",
     "text": [
      "backbone.down_modules.5.image.conv\n",
      "backbone.down_modules.4.image.conv\n",
      "backbone.down_modules.3.image.conv\n",
      "backbone.down_modules.2.image.conv\n",
      "backbone.down_modules.1.image.conv\n",
      "backbone\n",
      "head\n",
      "  run 0...\n"
     ]
    },
    {
     "data": {
      "application/vnd.jupyter.widget-view+json": {
       "model_id": "47e449ebdd5046fba326f9a1465206e7",
       "version_major": 2,
       "version_minor": 0
      },
      "text/plain": [
       "  0%|          | 0/209 [00:01<?, ?it/s]"
      ]
     },
     "metadata": {},
     "output_type": "display_data"
    },
    {
     "name": "stdout",
     "output_type": "stream",
     "text": [
      "Run exp=align fold=5 resolution=5cm\n"
     ]
    },
    {
     "data": {
      "application/vnd.jupyter.widget-view+json": {
       "model_id": "10a384372c204ec6babf33c3313a718e",
       "version_major": 2,
       "version_minor": 0
      },
      "text/plain": [
       "  0%|          | 0/5 [00:00<?, ?it/s]"
      ]
     },
     "metadata": {},
     "output_type": "display_data"
    },
    {
     "data": {
      "application/vnd.jupyter.widget-view+json": {
       "model_id": "b7737346308c4ca9b0cb14c6e412debd",
       "version_major": 2,
       "version_minor": 0
      },
      "text/plain": [
       "  0%|          | 0/1 [00:00<?, ?it/s]"
      ]
     },
     "metadata": {},
     "output_type": "display_data"
    }
   ],
   "source": [
    "out_dir = '/workspace/projects/torch-points3d/outputs/'\n",
    "\n",
    "# ('5cm', ___, '____',   out_dir + '____', '___'),\n",
    "\n",
    "checkpoints = [\n",
    "#     ('2cm', 1, 'Res16UNet34-L4-early',                 out_dir + '2021-10-24/22-50-54', 'xyz+rgb'),\n",
    "#     ('5cm', 2, 'Res16UNet34-L4-early',                 out_dir + '2021-10-09/21-34-55', 'xyz+rgb'),\n",
    "#     ('5cm', 3, 'Res16UNet34-L4-early',                 out_dir + '2021-10-09/21-35-06', 'xyz+rgb'),\n",
    "#     ('5cm', 5, 'ResUNet34-L4-early',                   out_dir + '2021-10-31/10-37-18', 'xyz+rgb'),\n",
    "#     ('5cm', 5, 'ResUNet34-L4-early-nogating',          out_dir + '2021-10-31/10-37-19', 'nogating'),\n",
    "#     ('5cm', 2, 'Res16UNet34-mean-RGB-early',           out_dir + '2021-11-04/18-05-10', 'mean_raw_rgb'),\n",
    "#     ('5cm', 2, 'Res16UNet34-L4-early',                 out_dir + '2021-11-04/18-20-54', '512x256'),\n",
    "#     ('5cm', 2, 'Res16UNet34-L4-max-early',             out_dir + '2021-11-04/18-05-57', 'max'),\n",
    "#     ('5cm', 2, 'Res16UNet34-L4-late-Group',            out_dir + '2021-11-05/23-03-39', 'late'),\n",
    "#     ('5cm', 5, 'ResUNet34-L4-early',                   out_dir + '2021-10-31/10-37-18', 'light'),\n",
    "#     ('5cm', 5, 'Res16UNet34-L4-mean-early',            out_dir + '2021-10-15/17-44-11', 'mean'),\n",
    "#     ('5cm', 5, 'Res16UNet34-L4-early-group1',          out_dir + '2021-11-05/23-17-52', 'group1'),\n",
    "#     ('5cm', 5, 'Res16UNet34-L4-early',                 out_dir + '2021-11-06/23-00-46', '512x256'),\n",
    "#     ('5cm', 2, 'Res16UNet34-L4-mean-early',            out_dir + '2021-11-07/09-56-20', 'mean'),\n",
    "#     ('5cm', 2, 'Res16UNet34-L4-early-fromscratch',     out_dir + '2021-11-08/19-06-48', 'nopretraining'),\n",
    "#     ('5cm', 5, 'Res16UNet34-L4-early-fromscratch',     out_dir + '2021-11-08/19-04-07', 'nopretraining'),\n",
    "#     ('5cm', 2, 'Res16UNet34-L4-early',                 out_dir + '2021-11-09/15-30-17', 'again'),\n",
    "#     ('2cm', 2, 'Res16UNet34-L4-max-early',             out_dir + '2021-11-10/13-55-27', 'max'),\n",
    "#     ('2cm', 5, 'Res16UNet34-L4-max-early',             out_dir + '2021-11-10/14-09-39', 'max'),\n",
    "#     ('2cm', 6, 'Res16UNet34-L4-max-early',             out_dir + '2021-11-11/21-18-44', 'max'),\n",
    "    ('5cm', 2, 'Res16UNet34-align',                    out_dir + '2021-11-21/19-10-57', 'align'),\n",
    "    ('5cm', 5, 'Res16UNet34-align',                    out_dir + '2021-11-21/18-49-15', 'align'),\n",
    "]\n",
    "\n",
    "for resolution, fold, model_name, directory, exp_name in checkpoints:\n",
    "    \n",
    "    exp_name = model_name if exp_name is None else exp_name\n",
    "    \n",
    "    print(f'Run exp={exp_name} fold={fold} resolution={resolution}')\n",
    "    \n",
    "    overrides = [\n",
    "        f'model_name={model_name}',\n",
    "        f\"checkpoint_dir={directory}\",\n",
    "        'voting_runs=1',\n",
    "        'tracker_options.full_res=True',\n",
    "        'precompute_multi_scale=False',\n",
    "        'num_workers=4',\n",
    "        'batch_size=4',\n",
    "        f'cuda={I_GPU}',\n",
    "        'weight_name=last',\n",
    "    ]\n",
    "    \n",
    "    cfg = hydra_read(overrides, config_name='eval')\n",
    "    \n",
    "    OmegaConf.set_struct(cfg, False)\n",
    "    \n",
    "    from torch_points3d.trainer import Trainer\n",
    "    \n",
    "    trainer = Trainer(cfg)\n",
    "    \n",
    "    # Update the val and test transforms to match train transforms for inference-time augmentation\n",
    "    trainer._dataset.test_dataset[0].transform = trainer._dataset.train_dataset.transform\n",
    "    trainer._dataset.test_dataset[0].transform_image = trainer._dataset.train_dataset.transform_image\n",
    "    \n",
    "    trainer._dataset.test_dataset[0].transform_image.transforms[4].use_coverage = False\n",
    "    trainer._dataset.test_dataset[0].transform_image.transforms[4].credit = int(2097152 * 2)\n",
    "    trainer._dataset.test_dataset[0].transform_image.transforms[5].sigma = 0.02\n",
    "    trainer._dataset.test_dataset[0].transform_image.transforms[6].transform.saturation = [0.8, 1.2]\n",
    "    trainer._dataset.test_dataset[0].transform_image.transforms[6].transform.brightness = [0.8, 1.2]\n",
    "    trainer._dataset.test_dataset[0].transform_image.transforms[6].transform.contrast = [0.8, 1.2]\n",
    "    \n",
    "    trainer._cfg.voting_runs = 1\n",
    "    \n",
    "#     for i_try in range(4):\n",
    "    for i_try in range(1):\n",
    "        print(f'  run {i_try}...')\n",
    "        trainer.eval(stage_name=\"test\")\n",
    "        torch.save(trainer._tracker._full_confusion, f'/raid/dataset/pointcloud/data/s3dis/results/{exp_name}_fold{fold}_{resolution}_{i_try}.pt')"
   ]
  },
  {
   "cell_type": "code",
   "execution_count": null,
   "metadata": {},
   "outputs": [],
   "source": []
  }
 ],
 "metadata": {
  "kernelspec": {
   "display_name": "tp3d",
   "language": "python",
   "name": "tp3d"
  },
  "language_info": {
   "codemirror_mode": {
    "name": "ipython",
    "version": 3
   },
   "file_extension": ".py",
   "mimetype": "text/x-python",
   "name": "python",
   "nbconvert_exporter": "python",
   "pygments_lexer": "ipython3",
   "version": "3.8.8"
  }
 },
 "nbformat": 4,
 "nbformat_minor": 4
}
